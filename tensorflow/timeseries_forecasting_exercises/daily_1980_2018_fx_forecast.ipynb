{
  "nbformat": 4,
  "nbformat_minor": 0,
  "metadata": {
    "colab": {
      "name": "daily_1980_2018_fx_forecast.ipynb",
      "version": "0.3.2",
      "provenance": [],
      "collapsed_sections": []
    },
    "kernelspec": {
      "name": "python3",
      "display_name": "Python 3"
    },
    "accelerator": "GPU"
  },
  "cells": [
    {
      "metadata": {
        "id": "9RS9W8EnMC9t",
        "colab_type": "text"
      },
      "cell_type": "markdown",
      "source": [
        "# Resources and references\n",
        "\n",
        "inspired thesis: http://cs.au.dk/~cstorm/students/Chong_Jul2009.pdf\n",
        "And the data are gethared from *https://investing.com*\n",
        "\n",
        "# Data Info\n",
        "In our data, the column names were not given but the order is CLOSE, OPEN, HIGH, LOW and CHANGE\n",
        "\n",
        "Data type: EUR/USD daily data.\n",
        "\n",
        "the dates between 01/01/1980 and 28/02/2019 were used for train, validation.\n",
        "\n",
        "test data would be march april or even other future dates.\n",
        "\n",
        "**important: data should be reversed after read with pandas. The dataset from the investing.com is reversed. This effects prediction.**\n",
        "\n",
        "# Task Info\n",
        "\n",
        "Binary classification.\n",
        "Classifies if the given time will have a higher value or lower value.\n",
        "\n",
        "Later: Regression\n",
        "Tries to predict exact price.\n",
        "\n",
        "# Purpose\n",
        "\n",
        "- find out if using more data on daily forecasting is a good idea\n",
        "- use regression to predict a value"
      ]
    },
    {
      "metadata": {
        "id": "oSrym8CVMWil",
        "colab_type": "text"
      },
      "cell_type": "markdown",
      "source": [
        "# Imports and Mount google drive"
      ]
    },
    {
      "metadata": {
        "id": "99ZwGfyMLTgw",
        "colab_type": "code",
        "colab": {}
      },
      "cell_type": "code",
      "source": [
        "from __future__ import print_function, absolute_import, division\n",
        "\n",
        "# general imports for deep learning\n",
        "import tensorflow as tf\n",
        "from tensorflow.keras import layers\n",
        "import numpy as np\n",
        "from sklearn.preprocessing import StandardScaler\n",
        "from sklearn import preprocessing\n",
        "\n",
        "# data read\n",
        "import pandas as pd\n",
        "\n",
        "# plot\n",
        "import matplotlib.pyplot as plt\n",
        "from tensorflow.keras.utils import plot_model\n",
        "\n",
        "# json and pretty print\n",
        "import json\n",
        "import pprint\n",
        "\n",
        "# to persist the numpy arrays data\n",
        "import h5py\n",
        "\n",
        "# handle logging\n",
        "tf.logging.set_verbosity(tf.logging.INFO)"
      ],
      "execution_count": 0,
      "outputs": []
    },
    {
      "metadata": {
        "id": "iLEQJOmPMbto",
        "colab_type": "code",
        "outputId": "585d2c69-a4ef-44f4-b349-42eb19f0ed76",
        "colab": {
          "base_uri": "https://localhost:8080/",
          "height": 122
        }
      },
      "cell_type": "code",
      "source": [
        "from google.colab import drive\n",
        "drive.mount('/content/gdrive')"
      ],
      "execution_count": 2,
      "outputs": [
        {
          "output_type": "stream",
          "text": [
            "Go to this URL in a browser: https://accounts.google.com/o/oauth2/auth?client_id=947318989803-6bn6qk8qdgf4n4g3pfee6491hc0brc4i.apps.googleusercontent.com&redirect_uri=urn%3Aietf%3Awg%3Aoauth%3A2.0%3Aoob&scope=email%20https%3A%2F%2Fwww.googleapis.com%2Fauth%2Fdocs.test%20https%3A%2F%2Fwww.googleapis.com%2Fauth%2Fdrive%20https%3A%2F%2Fwww.googleapis.com%2Fauth%2Fdrive.photos.readonly%20https%3A%2F%2Fwww.googleapis.com%2Fauth%2Fpeopleapi.readonly&response_type=code\n",
            "\n",
            "Enter your authorization code:\n",
            "··········\n",
            "Mounted at /content/gdrive\n"
          ],
          "name": "stdout"
        }
      ]
    },
    {
      "metadata": {
        "id": "tK_NZWs2MdMd",
        "colab_type": "code",
        "outputId": "155fe112-c8d1-4812-e76a-01e42f68bed6",
        "colab": {
          "base_uri": "https://localhost:8080/",
          "height": 68
        }
      },
      "cell_type": "code",
      "source": [
        "# check if correct place\n",
        "!ls '/content/gdrive/My Drive/deep_learning/_data/forex/daily_csv/'"
      ],
      "execution_count": 3,
      "outputs": [
        {
          "output_type": "stream",
          "text": [
            " EUR_USD_1980_1990.csv\t EUR_USD_2019_jan_feb.csv\n",
            " EUR_USD_1991_2000.csv\t'EUR_USD Historical Data.csv'\n",
            " EUR_USD_2001_2018.csv\t'EUR_USD Historical Data.gsheet'\n"
          ],
          "name": "stdout"
        }
      ]
    },
    {
      "metadata": {
        "id": "6DMRTRlNM0rZ",
        "colab_type": "text"
      },
      "cell_type": "markdown",
      "source": [
        "# Loading Data"
      ]
    },
    {
      "metadata": {
        "id": "tu33ziOdNlrA",
        "colab_type": "text"
      },
      "cell_type": "markdown",
      "source": [
        "## Functions of Data Handling"
      ]
    },
    {
      "metadata": {
        "id": "LYFiTGIFNqSV",
        "colab_type": "code",
        "colab": {}
      },
      "cell_type": "code",
      "source": [
        "# Tries to concatenate a list of arrays into one array\n",
        "def get_concatenated_dataset(d_list):\n",
        "  result_data = d_list[0]\n",
        "  for d in d_list[1:]:\n",
        "    result_data = np.concatenate((result_data, d), axis=None)\n",
        "    \n",
        "  return result_data\n",
        "\n",
        "# Tries to check if the concatenated list is correct.\n",
        "def concatenate_length_check(d_list, concatenated):\n",
        "  print(\"----------- length check -----------\")\n",
        "  total_length = 0\n",
        "  for d in d_list:  \n",
        "    total_length += len(d)\n",
        "    print(\"length: \" +str(len(d)))\n",
        "\n",
        "  print(\"concatenated length \"+str(len(concatenated)))\n",
        "  if(len(concatenated) == total_length):\n",
        "    print(\"concatenated length -----------> CORRECT\")\n",
        "  else:\n",
        "    print(\"concatenated length -----------> WRONG\")"
      ],
      "execution_count": 0,
      "outputs": []
    },
    {
      "metadata": {
        "id": "dSvq8s2mNh7Z",
        "colab_type": "text"
      },
      "cell_type": "markdown",
      "source": [
        "## Read Data"
      ]
    },
    {
      "metadata": {
        "id": "Fm9MAQUXMfWY",
        "colab_type": "code",
        "colab": {}
      },
      "cell_type": "code",
      "source": [
        "# initialize file names\n",
        "data_folder = \"/content/gdrive/My Drive/deep_learning/_data/forex/daily_csv/\"\n",
        "data_filenames = []\n",
        "data_filenames.append(\"EUR_USD_2019_jan_feb.csv\")\n",
        "data_filenames.append(\"EUR_USD_2001_2018.csv\")\n",
        "data_filenames.append(\"EUR_USD_1991_2000.csv\")\n",
        "data_filenames.append(\"EUR_USD_1980_1990.csv\")\n"
      ],
      "execution_count": 0,
      "outputs": []
    },
    {
      "metadata": {
        "id": "T6ndJ1BbNOFx",
        "colab_type": "code",
        "colab": {}
      },
      "cell_type": "code",
      "source": [
        "# get train data that will be both validation and train data in training mode\n",
        "data_1 = pd.read_csv(data_folder+data_filenames[0])\n",
        "data_2 = pd.read_csv(data_folder+data_filenames[1])\n",
        "data_3 = pd.read_csv(data_folder+data_filenames[2])\n",
        "data_4 = pd.read_csv(data_folder+data_filenames[3])\n",
        "\n",
        "# Get all data as list\n",
        "data_list = [data_1, data_2, data_3, data_4]"
      ],
      "execution_count": 0,
      "outputs": []
    },
    {
      "metadata": {
        "id": "TPWmtfaLNXC8",
        "colab_type": "code",
        "outputId": "c5ecfbe1-9ef7-47f0-ca24-a6ebe0c0d1ee",
        "colab": {
          "base_uri": "https://localhost:8080/",
          "height": 323
        }
      },
      "cell_type": "code",
      "source": [
        "# print for understand the context\n",
        "# NOTE: it is reversed\n",
        "print(data_3.tail())\n",
        "print(data_4.head())\n",
        "print(data_4.tail())\n",
        "#test_data_list[0].head()"
      ],
      "execution_count": 7,
      "outputs": [
        {
          "output_type": "stream",
          "text": [
            "              Date   Price    Open    High     Low Change %\n",
            "2598  Jan 08, 1991  1.3432  1.3432  1.3453  1.3373   -0.25%\n",
            "2599  Jan 07, 1991  1.3465  1.3465  1.3627  1.3370   -1.54%\n",
            "2600  Jan 04, 1991  1.3675  1.3675  1.3825  1.3675   -0.74%\n",
            "2601  Jan 03, 1991  1.3777  1.3777  1.3807  1.3742    0.03%\n",
            "2602  Jan 02, 1991  1.3773  1.3773  1.3822  1.3678    0.75%\n",
            "           Date   Price    Open    High     Low Change %\n",
            "0  Dec 31, 1990  1.3670  1.3670  1.3705  1.3584    0.71%\n",
            "1  Dec 28, 1990  1.3574  1.3574  1.3595  1.3455    1.26%\n",
            "2  Dec 27, 1990  1.3405  1.3405  1.3445  1.3340    0.49%\n",
            "3  Dec 26, 1990  1.3339  1.3339  1.3339  1.3339    0.00%\n",
            "4  Dec 25, 1990  1.3339  1.3339  1.3339  1.3339    0.00%\n",
            "              Date   Price    Open    High     Low Change %\n",
            "2806  Jan 08, 1980  1.5108  1.5108  1.5108  1.5108   -0.40%\n",
            "2807  Jan 07, 1980  1.5168  1.5168  1.5168  1.5168    0.26%\n",
            "2808  Jan 04, 1980  1.5129  1.5129  1.5129  1.5129   -0.32%\n",
            "2809  Jan 03, 1980  1.5177  1.5177  1.5177  1.5177    0.18%\n",
            "2810  Jan 02, 1980  1.5149  1.5149  1.5149  1.5149    0.45%\n"
          ],
          "name": "stdout"
        }
      ]
    },
    {
      "metadata": {
        "id": "_P59SlJoNjXc",
        "colab_type": "text"
      },
      "cell_type": "markdown",
      "source": [
        "## Read Train Data"
      ]
    },
    {
      "metadata": {
        "id": "E1JvKgE4OBvu",
        "colab_type": "code",
        "outputId": "ae653bca-7351-463e-ba57-0379134d8700",
        "colab": {
          "base_uri": "https://localhost:8080/",
          "height": 493
        }
      },
      "cell_type": "code",
      "source": [
        "# Get OPEN, HIGH, LOW, CLOSE columns in all data\n",
        "open_data_list=[]\n",
        "high_data_list=[]\n",
        "low_data_list=[]\n",
        "close_data_list=[]\n",
        "\n",
        "for d in data_list:\n",
        "  open_data_list.append(d['Open'].as_matrix())\n",
        "  high_data_list.append(d['High'].as_matrix())\n",
        "  low_data_list.append(d['Low'].as_matrix())\n",
        "  close_data_list.append(d['Price'].as_matrix())\n",
        "  \n",
        "# And CONCATENATE all of them\n",
        "all_open_data = get_concatenated_dataset(open_data_list)\n",
        "all_high_data = get_concatenated_dataset(high_data_list)\n",
        "all_low_data = get_concatenated_dataset(low_data_list)\n",
        "all_close_data = get_concatenated_dataset(close_data_list)\n",
        "  \n",
        "# CHECK IF CONCATENATION IS SUCCESSUL.\n",
        "concatenate_length_check(open_data_list, all_open_data)\n",
        "concatenate_length_check(high_data_list, all_high_data)\n",
        "concatenate_length_check(low_data_list, all_low_data)\n",
        "concatenate_length_check(close_data_list, all_close_data)"
      ],
      "execution_count": 8,
      "outputs": [
        {
          "output_type": "stream",
          "text": [
            "----------- length check -----------\n",
            "length: 63\n",
            "length: 4696\n",
            "length: 2603\n",
            "length: 2811\n",
            "concatenated length 10173\n",
            "concatenated length -----------> CORRECT\n",
            "----------- length check -----------\n",
            "length: 63\n",
            "length: 4696\n",
            "length: 2603\n",
            "length: 2811\n",
            "concatenated length 10173\n",
            "concatenated length -----------> CORRECT\n",
            "----------- length check -----------\n",
            "length: 63\n",
            "length: 4696\n",
            "length: 2603\n",
            "length: 2811\n",
            "concatenated length 10173\n",
            "concatenated length -----------> CORRECT\n",
            "----------- length check -----------\n",
            "length: 63\n",
            "length: 4696\n",
            "length: 2603\n",
            "length: 2811\n",
            "concatenated length 10173\n",
            "concatenated length -----------> CORRECT\n"
          ],
          "name": "stdout"
        }
      ]
    },
    {
      "metadata": {
        "id": "3icqZHtxPlDJ",
        "colab_type": "text"
      },
      "cell_type": "markdown",
      "source": [
        "## Flip Data"
      ]
    },
    {
      "metadata": {
        "id": "zGTU3wx0PkVh",
        "colab_type": "code",
        "outputId": "f3d644a9-2e51-4520-d0dc-38e0d993ff38",
        "colab": {
          "base_uri": "https://localhost:8080/",
          "height": 34
        }
      },
      "cell_type": "code",
      "source": [
        "# REVERSE THE DATA BEFORE CONTINUE\n",
        "all_open_data = np.flip(all_open_data, 0)\n",
        "all_high_data = np.flip(all_high_data, 0)\n",
        "all_low_data = np.flip(all_low_data, 0)\n",
        "all_close_data = np.flip(all_close_data, 0)\n",
        "\n",
        "print(\"OPEN HIGH LOW CLOSE data were flipped successfully for both rain and test data.\")\n"
      ],
      "execution_count": 9,
      "outputs": [
        {
          "output_type": "stream",
          "text": [
            "OPEN HIGH LOW CLOSE data were flipped successfully for both rain and test data.\n"
          ],
          "name": "stdout"
        }
      ]
    },
    {
      "metadata": {
        "id": "eEp3S7tnR6wg",
        "colab_type": "code",
        "outputId": "dc835617-ed72-4bc5-f31a-2ce1afbf5605",
        "colab": {
          "base_uri": "https://localhost:8080/",
          "height": 85
        }
      },
      "cell_type": "code",
      "source": [
        "# should be: array([1.5149, 1.5177, 1.5129, ..., 1.1313, 1.1274, 1.1252])\n",
        "print(all_open_data)\n",
        "print(all_high_data)\n",
        "print(all_low_data)\n",
        "print(all_close_data)"
      ],
      "execution_count": 10,
      "outputs": [
        {
          "output_type": "stream",
          "text": [
            "[1.5149 1.5177 1.5129 ... 1.1313 1.1274 1.1252]\n",
            "[1.5149 1.5177 1.5129 ... 1.1329 1.1286 1.1263]\n",
            "[1.5149 1.5177 1.5129 ... 1.1263 1.1242 1.1234]\n",
            "[1.5149 1.5177 1.5129 ... 1.1266 1.1252 1.1255]\n"
          ],
          "name": "stdout"
        }
      ]
    },
    {
      "metadata": {
        "id": "bAnF6Rn4QwLv",
        "colab_type": "text"
      },
      "cell_type": "markdown",
      "source": [
        "# General Values"
      ]
    },
    {
      "metadata": {
        "id": "WJoAdvHdQ093",
        "colab_type": "code",
        "colab": {}
      },
      "cell_type": "code",
      "source": [
        "# BATCH size of the lstm model\n",
        "#BATCH_SIZES = [32, 64, 128, 256, 512]\n",
        "BATCH_SIZE = 32\n",
        "\n",
        "# How many of the past points were involved.\n",
        "#WINDOWS = [32, 64, 128, 256, 512]\n",
        "WINDOW = 32\n",
        "\n",
        "# How many of data type is used as multivariate(open,high,low,close = 4)\n",
        "EMB_SIZE = 4\n",
        "\n",
        "# While training how many points should be ignored\n",
        "STEP = 1\n",
        "\n",
        "# Determines which time should be predictied\n",
        "#(1 = 1 min further is predicted)\n",
        "#(60 = 1 hour further is predicted)\n",
        "FORECAST = 1\n",
        "\n",
        "# Determines if the data is to be load.\n",
        "LOAD = False"
      ],
      "execution_count": 0,
      "outputs": []
    },
    {
      "metadata": {
        "id": "dLuSc2mhP6A0",
        "colab_type": "text"
      },
      "cell_type": "markdown",
      "source": [
        "# Construct Data"
      ]
    },
    {
      "metadata": {
        "id": "RP7ZAQHlP7d1",
        "colab_type": "text"
      },
      "cell_type": "markdown",
      "source": [
        "## Functions"
      ]
    },
    {
      "metadata": {
        "id": "9jCPvXIoQA2B",
        "colab_type": "code",
        "colab": {}
      },
      "cell_type": "code",
      "source": [
        "# ORIGINAL CHANEGD TO REGRESSION\n",
        "def get_data_chunks(d_list, length, window=30, forecast=1, step=1):\n",
        "  X = []\n",
        "  Y = []\n",
        "  for i in range(0, length, step):\n",
        "    try:\n",
        "      # Get windowed data\n",
        "      o = d_list[0][i:i+window] # open\n",
        "      h = d_list[1][i:i+window] # high\n",
        "      l = d_list[2][i:i+window] # low\n",
        "      c = d_list[3][i:i+window] # close\n",
        "\n",
        "      # Normalize data\n",
        "      # NO NORMALIZATION FOR NOW\n",
        "#      mean_c = np.mean(c)\n",
        "#      std_c = np.std(c)\n",
        "      \n",
        "#      o = (np.array(o) - np.mean(o)) / np.std(o)\n",
        "#      h = (np.array(h) - np.mean(h)) / np.std(h)\n",
        "#      l = (np.array(l) - np.mean(l)) / np.std(l)\n",
        "#      c = (np.array(c) - np.mean(c)) / np.std(c)\n",
        "\n",
        "      # x_i\n",
        "      x_i = d_list[3][i:i+window]\n",
        "      y_i = d_list[3][i + window + forecast]\n",
        "\n",
        "      x_i = np.column_stack((o,h,l,c))\n",
        "    except Exception as e:\n",
        "      print(e)\n",
        "      # break when the limit is not enough\n",
        "      break\n",
        "\n",
        "    X.append(x_i)\n",
        "    Y.append(y_i)\n",
        "  print(\"data chunks are ready...\")\n",
        "  return [X, Y]\n",
        "\n",
        "def get_train_validation(X, y, percentage=0.8):\n",
        "    iXPercentage = int(len(X) * percentage) \n",
        "    iYPercentage = int(len(y) * percentage)\n",
        "    X_train = X[0:iXPercentage]\n",
        "    Y_train = y[0:iYPercentage]\n",
        "    \n",
        "    #X_train, Y_train = shuffle_in_unison(X_train, Y_train)\n",
        "\n",
        "    X_val = X[iXPercentage:]\n",
        "    Y_val = y[iYPercentage:]\n",
        "\n",
        "    return X_train, X_val, Y_train, Y_val"
      ],
      "execution_count": 0,
      "outputs": []
    },
    {
      "metadata": {
        "id": "gpd7g7uVQV_7",
        "colab_type": "code",
        "colab": {}
      },
      "cell_type": "code",
      "source": [
        "def save_data(x,y,x_test,y_test):\n",
        "  # Save X, Y and X_test, Y_test\n",
        "  save_folder = \"/content/gdrive/My Drive/deep_learning/_data/numpy_arrays/\"\n",
        "  filename=\"d_fx_multi_fcst_1980_2018\"\n",
        "\n",
        "  # Save Y\n",
        "  y_h5 = h5py.File(save_folder+filename+\"_y.h5\", 'w')\n",
        "  y_h5.create_dataset('dataset_Y', data=y)\n",
        "  y_h5.close()\n",
        "  print(\"Saving Y Completed\")\n",
        "\n",
        "  # Save X\n",
        "  x_h5 = h5py.File(save_folder+filename+\"_x.h5\", 'w')\n",
        "  x_h5.create_dataset('dataset_X', data=x)\n",
        "  x_h5.close()\n",
        "  print(\"Saving X Completed\")\n",
        "\n",
        "  # Save X_test\n",
        "  x_test_h5 = h5py.File(save_folder+filename+\"_x_test.h5\", 'w')\n",
        "  x_test_h5.create_dataset('dataset_X_test', data=x_test)\n",
        "  x_test_h5.close()\n",
        "  print(\"Saving X_test Completed\")\n",
        "\n",
        "  # Save Y_test\n",
        "  y_test_h5 = h5py.File(save_folder+filename+\"_y_test.h5\", 'w')\n",
        "  y_test_h5.create_dataset('dataset_Y_test', data=y_test)\n",
        "  y_test_h5.close()\n",
        "  print(\"Saving Y_test Completed\")\n"
      ],
      "execution_count": 0,
      "outputs": []
    },
    {
      "metadata": {
        "id": "YurLF_NaQgk7",
        "colab_type": "code",
        "colab": {}
      },
      "cell_type": "code",
      "source": [
        "def get_data(should_loaded, d_list, d_list_test, train_len, test_len, window):\n",
        "  if not should_loaded:\n",
        "    # PROCESSES WHOLE TRAIN SET\n",
        "    X, Y = get_data_chunks(d_list, train_len, window=window, forecast=FORECAST, step=STEP)\n",
        "    X_test, Y_test = get_data_chunks(d_list_test, test_len, window=window, forecast=FORECAST, step=STEP)\n",
        "\n",
        "    X = np.array(X)\n",
        "    Y = np.array(Y)\n",
        "    X_test = np.array(X_test)\n",
        "    Y_test = np.array(Y_test)\n",
        "  else:\n",
        "    save_folder = \"/content/gdrive/My Drive/deep_learning/_data/numpy_arrays/\"\n",
        "    filename=\"d_fx_multi_fcst_1980_2018\"\n",
        "    \n",
        "    h5f = h5py.File(save_folder+filename+\"_x.h5\",'r')\n",
        "    X = h5f['dataset_X'][:]\n",
        "    h5f.close()\n",
        "\n",
        "    h5f = h5py.File(save_folder+filename+\"_y.h5\",'r')\n",
        "    Y = h5f['dataset_Y'][:]\n",
        "    h5f.close()\n",
        "\n",
        "    h5f = h5py.File(save_folder+filename+\"_x_test.h5\",'r')\n",
        "    X_test = h5f['dataset_X_test'][:]\n",
        "    h5f.close()\n",
        "\n",
        "    h5f = h5py.File(save_folder+filename+\"_y_test.h5\",'r')\n",
        "    Y_test = h5f['dataset_Y_test'][:]\n",
        "    h5f.close()\n",
        "    pass\n",
        "  \n",
        "  return [X, Y, X_test, Y_test]\n",
        "\n"
      ],
      "execution_count": 0,
      "outputs": []
    },
    {
      "metadata": {
        "id": "J7urATEYR2A6",
        "colab_type": "text"
      },
      "cell_type": "markdown",
      "source": [
        "## Get Data"
      ]
    },
    {
      "metadata": {
        "id": "56ikNBOYSjZM",
        "colab_type": "code",
        "outputId": "9128dc19-4666-48db-c412-78e6109d2636",
        "colab": {
          "base_uri": "https://localhost:8080/",
          "height": 102
        }
      },
      "cell_type": "code",
      "source": [
        "X_list = []\n",
        "Y_list = []\n",
        "X_test_list = []\n",
        "Y_test_list = []\n",
        "mean_std_list = []\n",
        "\n",
        "if not LOAD:\n",
        "  d_list = [all_open_data, all_high_data, all_low_data, all_close_data]\n",
        "  #d_list_test = [t_all_open_data, t_all_high_data, t_all_low_data, t_all_close_data]\n",
        "\n",
        "  print(\"getting data for window: \"+str(WINDOW))\n",
        "  X, Y, X_test, Y_test = get_data(should_loaded=LOAD, \n",
        "                                                   d_list=d_list, \n",
        "                                                   d_list_test=d_list, \n",
        "                                                   train_len=len(all_close_data), \n",
        "                                                   test_len=len(all_close_data), \n",
        "                                                   window=WINDOW)\n",
        "    \n",
        "  X_list.append(X)\n",
        "  Y_list.append(Y)\n",
        "  X_test_list.append(X_test)\n",
        "  Y_test_list.append(Y_test)\n",
        "else:\n",
        "    X, Y, X_test, Y_test = get_data(should_loaded=LOAD, \n",
        "                                d_list=None, \n",
        "                                d_list_test=None, \n",
        "                                train_len=0, \n",
        "                                test_len=0)\n",
        "\n",
        "    #if not LOAD: save_data(X, Y, X_test, Y_test)\n"
      ],
      "execution_count": 15,
      "outputs": [
        {
          "output_type": "stream",
          "text": [
            "getting data for window: 32\n",
            "index 10173 is out of bounds for axis 0 with size 10173\n",
            "data chunks are ready...\n",
            "index 10173 is out of bounds for axis 0 with size 10173\n",
            "data chunks are ready...\n"
          ],
          "name": "stdout"
        }
      ]
    },
    {
      "metadata": {
        "id": "Afqz0A-wTu6e",
        "colab_type": "code",
        "outputId": "266bedda-2ace-418c-acf7-8109ab8b8513",
        "colab": {
          "base_uri": "https://localhost:8080/",
          "height": 34
        }
      },
      "cell_type": "code",
      "source": [
        "print(X_list[0].shape)\n"
      ],
      "execution_count": 16,
      "outputs": [
        {
          "output_type": "stream",
          "text": [
            "(10140, 32, 4)\n"
          ],
          "name": "stdout"
        }
      ]
    },
    {
      "metadata": {
        "id": "oT4s_St0HfdN",
        "colab_type": "text"
      },
      "cell_type": "markdown",
      "source": [
        "## Split Test\n",
        "Before splitting to validation, split the test data first."
      ]
    },
    {
      "metadata": {
        "id": "89skEUIvHml_",
        "colab_type": "code",
        "outputId": "21c9542c-ba3a-428b-aeb1-5d4529db06d2",
        "colab": {
          "base_uri": "https://localhost:8080/",
          "height": 102
        }
      },
      "cell_type": "code",
      "source": [
        "calculated_size = X_list[0].shape[0] - BATCH_SIZE\n",
        "X = X_list[0][:calculated_size]\n",
        "Y = Y_list[0][:calculated_size]\n",
        "\n",
        "X_test = X_test_list[0][calculated_size:]\n",
        "Y_test = Y_test_list[0][calculated_size:]\n",
        "\n",
        "print(\"old: \"+str(X_list[0].shape))\n",
        "print(\"X size: \"+str(X.shape))\n",
        "print(\"Y size: \"+str(Y.shape))\n",
        "print(\"X_test size: \"+str(X_test.shape))\n",
        "print(\"Y_test size: \"+str(Y_test.shape))"
      ],
      "execution_count": 17,
      "outputs": [
        {
          "output_type": "stream",
          "text": [
            "old: (10140, 32, 4)\n",
            "X size: (10108, 32, 4)\n",
            "Y size: (10108,)\n",
            "X_test size: (32, 32, 4)\n",
            "Y_test size: (32,)\n"
          ],
          "name": "stdout"
        }
      ]
    },
    {
      "metadata": {
        "id": "-3KSgeQHHnyu",
        "colab_type": "text"
      },
      "cell_type": "markdown",
      "source": [
        "## Split Validation"
      ]
    },
    {
      "metadata": {
        "id": "eJPHPibfUGX6",
        "colab_type": "code",
        "outputId": "e2256231-41f8-4c73-c05d-354506b9d6eb",
        "colab": {
          "base_uri": "https://localhost:8080/",
          "height": 187
        }
      },
      "cell_type": "code",
      "source": [
        "X_train, X_val, Y_train, Y_val = get_train_validation(X, Y)\n",
        "  \n",
        "print(\"OLD_shapes for windows: \"+str(WINDOW))\n",
        "print(X.shape)\n",
        "print(Y.shape)\n",
        "print(\"*\"*40)\n",
        "print(\"New Shapes for windows: \"+str(WINDOW))\n",
        "print(X_train.shape)\n",
        "print(Y_train.shape)\n",
        "print(X_val.shape)\n",
        "print(Y_val.shape)\n",
        "print(\"-\"*50)"
      ],
      "execution_count": 18,
      "outputs": [
        {
          "output_type": "stream",
          "text": [
            "OLD_shapes for windows: 32\n",
            "(10108, 32, 4)\n",
            "(10108,)\n",
            "****************************************\n",
            "New Shapes for windows: 32\n",
            "(8086, 32, 4)\n",
            "(8086,)\n",
            "(2022, 32, 4)\n",
            "(2022,)\n",
            "--------------------------------------------------\n"
          ],
          "name": "stdout"
        }
      ]
    },
    {
      "metadata": {
        "id": "NNoanSIaVwnS",
        "colab_type": "code",
        "colab": {}
      },
      "cell_type": "code",
      "source": [
        "def get_smooth_size(old_size, batch_size=32):\n",
        "  new_size = old_size - old_size%batch_size\n",
        "  print(\"Smoothed from: [\"+str(old_size)+\"] to: [\"+str(new_size)+\"]\")\n",
        "  return new_size"
      ],
      "execution_count": 0,
      "outputs": []
    },
    {
      "metadata": {
        "id": "B5Wa42YyJKXF",
        "colab_type": "text"
      },
      "cell_type": "markdown",
      "source": [
        "Now it is time to smooth\n",
        "\n",
        "However in here some data  lost\n",
        "\n",
        "for example we get the smoothness bellow for the window size 64.\n",
        "\n",
        "Smoothed from: [8035] to: [8000]\n",
        "Smoothed from: [64] to: [64]\n",
        "Smoothed from: [2009] to: [1984]\n",
        "\n",
        "TODO: 35 data could be added to the validation data before smoothing it."
      ]
    },
    {
      "metadata": {
        "id": "I4bQeYk1V2hy",
        "colab_type": "code",
        "outputId": "297b44f4-dd22-4272-b61e-181b87b2ed32",
        "colab": {
          "base_uri": "https://localhost:8080/",
          "height": 68
        }
      },
      "cell_type": "code",
      "source": [
        "# MAKE THE DATA SMOOT FOR LSTM MODEL\n",
        "train_smooth_size = get_smooth_size(X_train.shape[0], batch_size=BATCH_SIZE)\n",
        "test_smooth_size = get_smooth_size(X_test.shape[0], batch_size=BATCH_SIZE)\n",
        "val_smooth_size = get_smooth_size(X_val.shape[0], batch_size=BATCH_SIZE)\n",
        "\n",
        "X_train = X_train[:train_smooth_size] \n",
        "X_test = X_test[:test_smooth_size] \n",
        "X_val = X_val[:val_smooth_size] \n",
        "\n",
        "Y_train = Y_train[:train_smooth_size]\n",
        "Y_test = Y_test[:test_smooth_size]\n",
        "Y_val = Y_val[:val_smooth_size]"
      ],
      "execution_count": 20,
      "outputs": [
        {
          "output_type": "stream",
          "text": [
            "Smoothed from: [8086] to: [8064]\n",
            "Smoothed from: [32] to: [32]\n",
            "Smoothed from: [2022] to: [2016]\n"
          ],
          "name": "stdout"
        }
      ]
    },
    {
      "metadata": {
        "id": "clUkrfzQdcks",
        "colab_type": "text"
      },
      "cell_type": "markdown",
      "source": [
        "## MODELS"
      ]
    },
    {
      "metadata": {
        "id": "S9RGROfuXUlR",
        "colab_type": "code",
        "colab": {}
      },
      "cell_type": "code",
      "source": [
        "def build_lstm_model_1(tensor_shape, batch_size=100, hidden_neurons=100):\n",
        "  model = tf.keras.Sequential()\n",
        "# hyperbolic tangent is automatically seleceted as activation function\n",
        "  model.add(layers.LSTM(hidden_neurons, batch_input_shape=(batch_size, tensor_shape[0], tensor_shape[1])))\n",
        "\n",
        "  model.add(layers.BatchNormalization())\n",
        "  model.add(layers.Dense(32, activation='relu'))\n",
        "  model.add(layers.Dropout(0.5))\n",
        "  \n",
        "  model.add(layers.Dense(1))\n",
        "  return model"
      ],
      "execution_count": 0,
      "outputs": []
    },
    {
      "metadata": {
        "id": "A1hUh-hbYsvx",
        "colab_type": "code",
        "colab": {}
      },
      "cell_type": "code",
      "source": [
        "def build_lstm_model_2(tensor_shape, batch_size=100, hidden_neurons=100):\n",
        "  model = tf.keras.Sequential()\n",
        "# hyperbolic tangent is automatically seleceted as activation function\n",
        "  model.add(layers.LSTM(hidden_neurons, batch_input_shape=(batch_size, tensor_shape[0], tensor_shape[1]),return_sequences=True))\n",
        "  model.add(layers.LSTM(hidden_neurons, batch_input_shape=(batch_size, tensor_shape[0], tensor_shape[1])))\n",
        "#  model.add(layers.GlobalAveragePooling1D())\n",
        "  model.add(layers.BatchNormalization())\n",
        "  model.add(layers.Dense(32, activation='relu'))\n",
        "  model.add(layers.Dropout(0.5))\n",
        "  \n",
        "  model.add(layers.Dense(1))\n",
        "  return model"
      ],
      "execution_count": 0,
      "outputs": []
    },
    {
      "metadata": {
        "id": "W2JyUFtRZG6I",
        "colab_type": "code",
        "colab": {}
      },
      "cell_type": "code",
      "source": [
        "#TODO: weight initialization and L2 regularization\n",
        "# A linear layer with L2 regularization of factor 0.02\n",
        "\n",
        "\n",
        "def build_lstm_model_3(tensor_shape, batch_size=100, hidden_neurons=100, pooling_size=2):\n",
        "  # L2 norm regularizer\n",
        "  regularizer = tf.keras.regularizers.l2(0.01)\n",
        "  \n",
        "  # XAVIER INITIALIZER\n",
        "  initializer = tf.keras.initializers.glorot_uniform()\n",
        "  \n",
        "  model = tf.keras.Sequential()\n",
        "  \n",
        "# hyperbolic tangent is automatically seleceted as activation function\n",
        "  model.add(layers.LSTM(hidden_neurons, \n",
        "                        batch_input_shape=(batch_size, tensor_shape[0], tensor_shape[1]),\n",
        "                        recurrent_regularizer=regularizer,\n",
        "                        bias_regularizer=regularizer, \n",
        "                        kernel_regularizer=regularizer,\n",
        "                        recurrent_initializer=initializer,\n",
        "                        kernel_initializer=initializer,\n",
        "                        bias_initializer=initializer\n",
        "                       ))\n",
        "\n",
        "  model.add(layers.BatchNormalization())\n",
        "#  model.add(layers.Dense(32, activation='relu', kernel_regularizer=regularizer, bias_regularizer=regularizer, kernel_initializer=initializer, bias_initializer=initializer))\n",
        "  model.add(layers.Dense(1))\n",
        "  return model"
      ],
      "execution_count": 0,
      "outputs": []
    },
    {
      "metadata": {
        "id": "UucKQee-XwUB",
        "colab_type": "code",
        "colab": {}
      },
      "cell_type": "code",
      "source": [
        "def build_conv1d_model_1(tensor_shape, filters=64, kernel_size=3, pooling_size=2, dropout=0.5):\n",
        "  #todo: maybe add strides\n",
        "  \n",
        "  # initialize the placeholdder\n",
        "  placeholder_input = tf.keras.Input(shape=tensor_shape)\n",
        "  \n",
        "  #------------- FIRST CNN BLOCK: CONV1D & MAXPOOLING ------------- \n",
        "  model = layers.Conv1D(filters=filters, \n",
        "                        kernel_size=kernel_size, \n",
        "                        padding=\"same\",\n",
        "                        input_shape=tensor_shape,\n",
        "                        batch_input_shape=(None, tensor_shape[0], tensor_shape[1]),\n",
        "                        activation='relu')(placeholder_input)\n",
        "  \n",
        "  model = layers.MaxPool1D(pool_size=pooling_size, \n",
        "                           padding=\"same\")(model)\n",
        "  \n",
        "  # CONSIDER:  model = layers.BatchNormalization(model)  \n",
        "  # ------------- Second CNN BLOCK: CONV1D & MAXPOOLING ------------- \n",
        "  model = layers.Conv1D(filters=filters, \n",
        "                        kernel_size=kernel_size, \n",
        "                        padding=\"same\", \n",
        "                        activation='relu')(model)\n",
        "  \n",
        "  model = layers.MaxPool1D(pool_size=pooling_size, \n",
        "                           padding=\"same\")(model)\n",
        "  # ------------- DROPOUT & FLATTEN ------------- \n",
        "  model = layers.Dropout(dropout)(model)\n",
        "  model = layers.Flatten()(model)\n",
        "  \n",
        "  \n",
        "  model = layers.Dense(32, activation='relu')(model)\n",
        "  model = layers.Dropout(dropout)(model)\n",
        "  # not sure if this necessary 1\n",
        "  #model = layers.Activation(activation='relu')(model)\n",
        "  \n",
        "  prediction = layers.Dense(1)(model)\n",
        "  \n",
        "  model = tf.keras.Model(inputs=placeholder_input, outputs=prediction)\n",
        "  return model"
      ],
      "execution_count": 0,
      "outputs": []
    },
    {
      "metadata": {
        "id": "x4uCh2SedE59",
        "colab_type": "code",
        "colab": {}
      },
      "cell_type": "code",
      "source": [
        "def build_conv1d_model_2(tensor_shape, filters=64, kernel_size=3, pooling_size=2, dropout=0.5):\n",
        "  # L2 norm regularizer\n",
        "  regularizer = tf.keras.regularizers.l2(0.01)\n",
        "  \n",
        "  # XAVIER INITIALIZER\n",
        "  initializer = tf.keras.initializers.glorot_uniform()\n",
        "  \n",
        "  # initialize the placeholdder\n",
        "  placeholder_input = tf.keras.Input(shape=tensor_shape)\n",
        "  \n",
        "  #------------- FIRST CNN BLOCK: CONV1D & MAXPOOLING ------------- \n",
        "  model = layers.Conv1D(filters=filters, \n",
        "                        kernel_size=kernel_size, \n",
        "                        padding=\"same\",\n",
        "                        input_shape=tensor_shape,\n",
        "                        batch_input_shape=(None, tensor_shape[0], tensor_shape[1]),\n",
        "                        activation='relu',                         \n",
        "                        kernel_regularizer=regularizer, \n",
        "                        bias_regularizer=regularizer,\n",
        "                        kernel_initializer=initializer,\n",
        "                        bias_initializer=initializer)(placeholder_input)\n",
        "  \n",
        "  model = layers.MaxPool1D(pool_size=pooling_size, \n",
        "                           padding=\"same\")(model)\n",
        "  \n",
        "  # CONSIDER:  model = layers.BatchNormalization(model)  \n",
        "  # ------------- Second CNN BLOCK: CONV1D & MAXPOOLING ------------- \n",
        "  model = layers.Conv1D(filters=filters, \n",
        "                        kernel_size=kernel_size, \n",
        "                        padding=\"same\", \n",
        "                        activation='relu',\n",
        "                        kernel_regularizer=regularizer, \n",
        "                        bias_regularizer=regularizer,\n",
        "                        kernel_initializer=initializer,\n",
        "                        bias_initializer=initializer)(model)\n",
        "  \n",
        "  model = layers.MaxPool1D(pool_size=pooling_size, \n",
        "                           padding=\"same\")(model)\n",
        "  # ------------- DROPOUT & FLATTEN ------------- \n",
        "  model = layers.Dropout(dropout)(model)\n",
        "  model = layers.Flatten()(model)\n",
        "  \n",
        "  \n",
        "  model = layers.Dense(32, activation='relu',\n",
        "                       kernel_regularizer=regularizer, \n",
        "                       bias_regularizer=regularizer,\n",
        "                       kernel_initializer=initializer,\n",
        "                       bias_initializer=initializer)(model)\n",
        "  \n",
        "  model = layers.Dropout(dropout)(model)\n",
        "  # not sure if this necessary 1\n",
        "  #model = layers.Activation(activation='relu')(model)\n",
        "  \n",
        "  prediction = layers.Dense(1)(model)\n",
        "  \n",
        "  model = tf.keras.Model(inputs=placeholder_input, outputs=prediction)\n",
        "  return model"
      ],
      "execution_count": 0,
      "outputs": []
    },
    {
      "metadata": {
        "id": "MA1Fy_NcuyIl",
        "colab_type": "code",
        "colab": {}
      },
      "cell_type": "code",
      "source": [
        "def build_dense_model_1(tensor_shape, batch_size):\n",
        "  # L2 norm regularizer\n",
        "  regularizer = tf.keras.regularizers.l2(0.01)\n",
        "  \n",
        "  # XAVIER INITIALIZER\n",
        "  initializer = tf.keras.initializers.glorot_uniform()\n",
        "  \n",
        "  # initialize the placeholdder\n",
        "  placeholder_input = tf.keras.Input(shape=tensor_shape)\n",
        "  \n",
        "  #------------- calculate the feasable neuron size ------------- \n",
        "  hidden_neuron_size = batch_size/2 + 1\n",
        "  model = layers.Dense(hidden_neuron_size,\n",
        "                       batch_input_shape=(batch_size, tensor_shape[0], tensor_shape[1]),\n",
        "                       activation='relu',\n",
        "                       kernel_regularizer=regularizer,\n",
        "                       bias_regularizer=regularizer,\n",
        "                       kernel_initializer=initializer,\n",
        "                       bias_initializer=initializer)(placeholder_input)\n",
        "  model = layers.GlobalAveragePooling1D()(model)\n",
        "  model = layers.Dense(hidden_neuron_size,\n",
        "                       activation='relu',\n",
        "                       kernel_regularizer=regularizer,\n",
        "                       bias_regularizer=regularizer,\n",
        "                       kernel_initializer=initializer,\n",
        "                       bias_initializer=initializer)(model)\n",
        "\n",
        "  prediction = layers.Dense(1)(model)\n",
        "  \n",
        "  model = tf.keras.Model(inputs=placeholder_input, outputs=prediction)\n",
        "  return model"
      ],
      "execution_count": 0,
      "outputs": []
    },
    {
      "metadata": {
        "id": "_8wIZZUYX-OT",
        "colab_type": "code",
        "colab": {}
      },
      "cell_type": "code",
      "source": [
        "#KERNEL_SIZES = [3,4,5]\n",
        "#FILTER_SIZES = [32, 64, 128]\n",
        "#NEURONS = [100, 200]\n",
        "neuron = 100\n",
        "kernel_size = 3\n",
        "filter_size = 32"
      ],
      "execution_count": 0,
      "outputs": []
    },
    {
      "metadata": {
        "id": "oY-IMF1JKsb8",
        "colab_type": "text"
      },
      "cell_type": "markdown",
      "source": [
        "### All Models"
      ]
    },
    {
      "metadata": {
        "id": "g0QZlMgWdfbL",
        "colab_type": "code",
        "outputId": "b07dc1db-0884-4d57-ff89-fabb76dc7ed9",
        "colab": {
          "base_uri": "https://localhost:8080/",
          "height": 139
        }
      },
      "cell_type": "code",
      "source": [
        "# NOTE: model3 seems nice.\n",
        "shape = (X_train.shape[1], X_train.shape[2])\n",
        "x1 = build_lstm_model_1(tensor_shape=shape, batch_size=BATCH_SIZE, hidden_neurons=neuron)\n",
        "x2 = build_lstm_model_2(tensor_shape=shape, batch_size=BATCH_SIZE, hidden_neurons=neuron)\n",
        "x3 = build_lstm_model_3(tensor_shape=shape, batch_size=BATCH_SIZE, hidden_neurons=neuron)\n",
        "c1 = build_conv1d_model_1(tensor_shape=shape, filters=filter_size, kernel_size=kernel_size)\n",
        "c2 = build_conv1d_model_2(tensor_shape=shape, filters=filter_size, kernel_size=kernel_size)\n",
        "models = [x1, x2, x3, c1, c2]"
      ],
      "execution_count": 0,
      "outputs": [
        {
          "output_type": "stream",
          "text": [
            "WARNING:tensorflow:From /usr/local/lib/python3.6/dist-packages/tensorflow/python/ops/resource_variable_ops.py:435: colocate_with (from tensorflow.python.framework.ops) is deprecated and will be removed in a future version.\n",
            "Instructions for updating:\n",
            "Colocations handled automatically by placer.\n",
            "WARNING:tensorflow:From /usr/local/lib/python3.6/dist-packages/tensorflow/python/keras/layers/core.py:143: calling dropout (from tensorflow.python.ops.nn_ops) with keep_prob is deprecated and will be removed in a future version.\n",
            "Instructions for updating:\n",
            "Please use `rate` instead of `keep_prob`. Rate should be set to `rate = 1 - keep_prob`.\n"
          ],
          "name": "stdout"
        }
      ]
    },
    {
      "metadata": {
        "id": "cEBnpmzTKw_k",
        "colab_type": "text"
      },
      "cell_type": "markdown",
      "source": [
        "### Efficient Models"
      ]
    },
    {
      "metadata": {
        "id": "DOt1Yjt4K0Wl",
        "colab_type": "code",
        "colab": {
          "base_uri": "https://localhost:8080/",
          "height": 139
        },
        "outputId": "fde35092-bdb1-4e09-bd8a-cd494920c2f9"
      },
      "cell_type": "code",
      "source": [
        "# NOTE: model3 seems nice.\n",
        "shape = (X_train.shape[1], X_train.shape[2])\n",
        "m1 = build_conv1d_model_2(tensor_shape=shape, filters=filter_size, kernel_size=kernel_size)\n",
        "m2 = build_lstm_model_3(tensor_shape=shape, batch_size=BATCH_SIZE, hidden_neurons=neuron)\n",
        "models = [m1, m2]"
      ],
      "execution_count": 29,
      "outputs": [
        {
          "output_type": "stream",
          "text": [
            "WARNING:tensorflow:From /usr/local/lib/python3.6/dist-packages/tensorflow/python/ops/resource_variable_ops.py:435: colocate_with (from tensorflow.python.framework.ops) is deprecated and will be removed in a future version.\n",
            "Instructions for updating:\n",
            "Colocations handled automatically by placer.\n",
            "WARNING:tensorflow:From /usr/local/lib/python3.6/dist-packages/tensorflow/python/keras/layers/core.py:143: calling dropout (from tensorflow.python.ops.nn_ops) with keep_prob is deprecated and will be removed in a future version.\n",
            "Instructions for updating:\n",
            "Please use `rate` instead of `keep_prob`. Rate should be set to `rate = 1 - keep_prob`.\n"
          ],
          "name": "stdout"
        }
      ]
    },
    {
      "metadata": {
        "id": "W9vW7-e6K0x8",
        "colab_type": "text"
      },
      "cell_type": "markdown",
      "source": [
        "### Train Process"
      ]
    },
    {
      "metadata": {
        "id": "XuGVZWjAhggD",
        "colab_type": "code",
        "outputId": "8b0233d1-6fb1-44c6-80ef-6f6fb6417d11",
        "colab": {
          "base_uri": "https://localhost:8080/",
          "height": 731
        }
      },
      "cell_type": "code",
      "source": [
        "for m in models:\n",
        "  print(m.summary())"
      ],
      "execution_count": 30,
      "outputs": [
        {
          "output_type": "stream",
          "text": [
            "_________________________________________________________________\n",
            "Layer (type)                 Output Shape              Param #   \n",
            "=================================================================\n",
            "input_1 (InputLayer)         (None, 32, 4)             0         \n",
            "_________________________________________________________________\n",
            "conv1d (Conv1D)              (None, 32, 32)            416       \n",
            "_________________________________________________________________\n",
            "max_pooling1d (MaxPooling1D) (None, 16, 32)            0         \n",
            "_________________________________________________________________\n",
            "conv1d_1 (Conv1D)            (None, 16, 32)            3104      \n",
            "_________________________________________________________________\n",
            "max_pooling1d_1 (MaxPooling1 (None, 8, 32)             0         \n",
            "_________________________________________________________________\n",
            "dropout (Dropout)            (None, 8, 32)             0         \n",
            "_________________________________________________________________\n",
            "flatten (Flatten)            (None, 256)               0         \n",
            "_________________________________________________________________\n",
            "dense (Dense)                (None, 32)                8224      \n",
            "_________________________________________________________________\n",
            "dropout_1 (Dropout)          (None, 32)                0         \n",
            "_________________________________________________________________\n",
            "dense_1 (Dense)              (None, 1)                 33        \n",
            "=================================================================\n",
            "Total params: 11,777\n",
            "Trainable params: 11,777\n",
            "Non-trainable params: 0\n",
            "_________________________________________________________________\n",
            "None\n",
            "_________________________________________________________________\n",
            "Layer (type)                 Output Shape              Param #   \n",
            "=================================================================\n",
            "lstm (LSTM)                  (32, 100)                 42000     \n",
            "_________________________________________________________________\n",
            "batch_normalization_v1 (Batc (32, 100)                 400       \n",
            "_________________________________________________________________\n",
            "dense_2 (Dense)              (32, 1)                   101       \n",
            "=================================================================\n",
            "Total params: 42,501\n",
            "Trainable params: 42,301\n",
            "Non-trainable params: 200\n",
            "_________________________________________________________________\n",
            "None\n"
          ],
          "name": "stdout"
        }
      ]
    },
    {
      "metadata": {
        "id": "uPFqVZhSh-oc",
        "colab_type": "code",
        "colab": {}
      },
      "cell_type": "code",
      "source": [
        "#OPTIMIZER\n",
        "opt_1 = 'adam'\n",
        "opt_2 = tf.keras.optimizers.RMSprop(0.001)\n",
        "opt_3 = tf.keras.optimizers.Adadelta(0.01)\n",
        "#opt = tf.keras.optimizers.RMSprop()\n",
        "\n",
        "loss_func = tf.keras.losses.mean_squared_error\n",
        "metrics =  ['mean_absolute_error', 'mean_squared_error']\n",
        "\n",
        "\n",
        "# CALLBACKS\n",
        "save_folder = \"/content/gdrive/My Drive/deep_learning/_data/numpy_arrays/\"\n",
        "default_filename = \"model\"\n",
        "\n",
        "checkpointer_list = []\n",
        "for model_index in range(len(models)):\n",
        "  m = models[model_index]\n",
        "  fp = save_folder + default_filename + \"_\"+str(model_index)+\".hdf5\"\n",
        "  checkpointer_list.append(tf.keras.callbacks.ModelCheckpoint(filepath=fp, verbose=1, save_best_only=True))\n",
        "  \n",
        "  m.compile(optimizer=opt_3, loss=loss_func, metrics=metrics)\n"
      ],
      "execution_count": 0,
      "outputs": []
    },
    {
      "metadata": {
        "id": "_kQr-8inYqfO",
        "colab_type": "code",
        "colab": {}
      },
      "cell_type": "code",
      "source": [
        "# TENSORBOARD CALLBACK\n",
        "#_tensorboard = TensorBoardColab()\n",
        "_tensorboard = None"
      ],
      "execution_count": 0,
      "outputs": []
    },
    {
      "metadata": {
        "id": "PDGNyz_toRo9",
        "colab_type": "code",
        "colab": {}
      },
      "cell_type": "code",
      "source": [
        "histories = []"
      ],
      "execution_count": 0,
      "outputs": []
    },
    {
      "metadata": {
        "id": "D2g6gGeXjjcq",
        "colab_type": "code",
        "outputId": "5625d820-c870-4160-ffe1-5ab8b72f723b",
        "colab": {
          "base_uri": "https://localhost:8080/",
          "height": 13960
        }
      },
      "cell_type": "code",
      "source": [
        "EPOCH_COUNT = 10000\n",
        "early_stop = tf.keras.callbacks.EarlyStopping(monitor='val_loss', patience=20)\n",
        "\n",
        "\n",
        "#histories = []\n",
        "#for i in range(len(models)):\n",
        "#  m = models[i]\n",
        "#  history_m = m.fit(\n",
        "#      X_train, Y_train, \n",
        "#      epochs = EPOCH_COUNT, batch_size = BATCH_SIZE, verbose=1, \n",
        "#      validation_data=(X_val, Y_val),\n",
        "#      callbacks=[early_stop, checkpointer_list[i]])\n",
        "#    \n",
        "#  histories.append(history_m)\n",
        "\n",
        "i = 1\n",
        "m = models[i]\n",
        "history_m = m.fit(X_train, Y_train,\n",
        "                  epochs = EPOCH_COUNT, \n",
        "                  batch_size = BATCH_SIZE, \n",
        "                  verbose=1, \n",
        "                  validation_data=(X_val, Y_val),\n",
        "                  callbacks=[early_stop, checkpointer_list[i]])"
      ],
      "execution_count": 44,
      "outputs": [
        {
          "output_type": "stream",
          "text": [
            "8032/8064 [============================>.] - ETA: 0s - loss: 0.0013 - mean_absolute_error: 0.0286 - mean_squared_error: 0.0012\n",
            "Epoch 00192: val_loss improved from 0.00023 to 0.00020, saving model to /content/gdrive/My Drive/deep_learning/_data/numpy_arrays/model_1.hdf5\n",
            "8064/8064 [==============================] - 23s 3ms/sample - loss: 0.0013 - mean_absolute_error: 0.0286 - mean_squared_error: 0.0012 - val_loss: 1.9967e-04 - val_mean_absolute_error: 0.0079 - val_mean_squared_error: 1.0599e-04\n",
            "Epoch 193/10000\n",
            "8032/8064 [============================>.] - ETA: 0s - loss: 0.0013 - mean_absolute_error: 0.0283 - mean_squared_error: 0.0012\n",
            "Epoch 00193: val_loss did not improve from 0.00020\n",
            "8064/8064 [==============================] - 23s 3ms/sample - loss: 0.0013 - mean_absolute_error: 0.0283 - mean_squared_error: 0.0012 - val_loss: 2.7450e-04 - val_mean_absolute_error: 0.0110 - val_mean_squared_error: 1.8323e-04\n",
            "Epoch 194/10000\n",
            "8032/8064 [============================>.] - ETA: 0s - loss: 0.0013 - mean_absolute_error: 0.0281 - mean_squared_error: 0.0012\n",
            "Epoch 00194: val_loss did not improve from 0.00020\n",
            "8064/8064 [==============================] - 23s 3ms/sample - loss: 0.0013 - mean_absolute_error: 0.0282 - mean_squared_error: 0.0012 - val_loss: 9.4843e-04 - val_mean_absolute_error: 0.0275 - val_mean_squared_error: 8.5933e-04\n",
            "Epoch 195/10000\n",
            "8032/8064 [============================>.] - ETA: 0s - loss: 0.0015 - mean_absolute_error: 0.0300 - mean_squared_error: 0.0014\n",
            "Epoch 00195: val_loss did not improve from 0.00020\n",
            "8064/8064 [==============================] - 23s 3ms/sample - loss: 0.0015 - mean_absolute_error: 0.0299 - mean_squared_error: 0.0014 - val_loss: 2.8970e-04 - val_mean_absolute_error: 0.0118 - val_mean_squared_error: 2.0290e-04\n",
            "Epoch 196/10000\n",
            "8032/8064 [============================>.] - ETA: 0s - loss: 0.0014 - mean_absolute_error: 0.0292 - mean_squared_error: 0.0013\n",
            "Epoch 00196: val_loss improved from 0.00020 to 0.00020, saving model to /content/gdrive/My Drive/deep_learning/_data/numpy_arrays/model_1.hdf5\n",
            "8064/8064 [==============================] - 23s 3ms/sample - loss: 0.0014 - mean_absolute_error: 0.0291 - mean_squared_error: 0.0013 - val_loss: 1.9755e-04 - val_mean_absolute_error: 0.0082 - val_mean_squared_error: 1.1294e-04\n",
            "Epoch 197/10000\n",
            "8032/8064 [============================>.] - ETA: 0s - loss: 0.0013 - mean_absolute_error: 0.0279 - mean_squared_error: 0.0012\n",
            "Epoch 00197: val_loss did not improve from 0.00020\n",
            "8064/8064 [==============================] - 23s 3ms/sample - loss: 0.0013 - mean_absolute_error: 0.0279 - mean_squared_error: 0.0012 - val_loss: 2.3729e-04 - val_mean_absolute_error: 0.0100 - val_mean_squared_error: 1.5484e-04\n",
            "Epoch 198/10000\n",
            "8032/8064 [============================>.] - ETA: 0s - loss: 0.0013 - mean_absolute_error: 0.0282 - mean_squared_error: 0.0013\n",
            "Epoch 00198: val_loss did not improve from 0.00020\n",
            "8064/8064 [==============================] - 25s 3ms/sample - loss: 0.0014 - mean_absolute_error: 0.0283 - mean_squared_error: 0.0013 - val_loss: 4.8341e-04 - val_mean_absolute_error: 0.0178 - val_mean_squared_error: 4.0305e-04\n",
            "Epoch 199/10000\n",
            "8032/8064 [============================>.] - ETA: 0s - loss: 0.0013 - mean_absolute_error: 0.0271 - mean_squared_error: 0.0012\n",
            "Epoch 00199: val_loss did not improve from 0.00020\n",
            "8064/8064 [==============================] - 25s 3ms/sample - loss: 0.0013 - mean_absolute_error: 0.0272 - mean_squared_error: 0.0012 - val_loss: 2.0013e-04 - val_mean_absolute_error: 0.0086 - val_mean_squared_error: 1.2197e-04\n",
            "Epoch 200/10000\n",
            "8032/8064 [============================>.] - ETA: 0s - loss: 0.0014 - mean_absolute_error: 0.0291 - mean_squared_error: 0.0013\n",
            "Epoch 00200: val_loss improved from 0.00020 to 0.00020, saving model to /content/gdrive/My Drive/deep_learning/_data/numpy_arrays/model_1.hdf5\n",
            "8064/8064 [==============================] - 25s 3ms/sample - loss: 0.0014 - mean_absolute_error: 0.0292 - mean_squared_error: 0.0013 - val_loss: 1.9593e-04 - val_mean_absolute_error: 0.0085 - val_mean_squared_error: 1.1958e-04\n",
            "Epoch 201/10000\n",
            "8032/8064 [============================>.] - ETA: 0s - loss: 0.0013 - mean_absolute_error: 0.0277 - mean_squared_error: 0.0012\n",
            "Epoch 00201: val_loss did not improve from 0.00020\n",
            "8064/8064 [==============================] - 25s 3ms/sample - loss: 0.0013 - mean_absolute_error: 0.0276 - mean_squared_error: 0.0012 - val_loss: 3.4304e-04 - val_mean_absolute_error: 0.0139 - val_mean_squared_error: 2.6852e-04\n",
            "Epoch 202/10000\n",
            "8032/8064 [============================>.] - ETA: 0s - loss: 0.0013 - mean_absolute_error: 0.0267 - mean_squared_error: 0.0012\n",
            "Epoch 00202: val_loss did not improve from 0.00020\n",
            "8064/8064 [==============================] - 25s 3ms/sample - loss: 0.0013 - mean_absolute_error: 0.0266 - mean_squared_error: 0.0012 - val_loss: 3.8972e-04 - val_mean_absolute_error: 0.0154 - val_mean_squared_error: 3.1691e-04\n",
            "Epoch 203/10000\n",
            "8032/8064 [============================>.] - ETA: 0s - loss: 0.0014 - mean_absolute_error: 0.0292 - mean_squared_error: 0.0013\n",
            "Epoch 00203: val_loss did not improve from 0.00020\n",
            "8064/8064 [==============================] - 25s 3ms/sample - loss: 0.0014 - mean_absolute_error: 0.0292 - mean_squared_error: 0.0013 - val_loss: 2.4267e-04 - val_mean_absolute_error: 0.0106 - val_mean_squared_error: 1.7166e-04\n",
            "Epoch 204/10000\n",
            "8032/8064 [============================>.] - ETA: 0s - loss: 0.0013 - mean_absolute_error: 0.0289 - mean_squared_error: 0.0013\n",
            "Epoch 00204: val_loss did not improve from 0.00020\n",
            "8064/8064 [==============================] - 24s 3ms/sample - loss: 0.0013 - mean_absolute_error: 0.0288 - mean_squared_error: 0.0013 - val_loss: 2.3320e-04 - val_mean_absolute_error: 0.0103 - val_mean_squared_error: 1.6403e-04\n",
            "Epoch 205/10000\n",
            "8032/8064 [============================>.] - ETA: 0s - loss: 0.0013 - mean_absolute_error: 0.0272 - mean_squared_error: 0.0012\n",
            "Epoch 00205: val_loss did not improve from 0.00020\n",
            "8064/8064 [==============================] - 24s 3ms/sample - loss: 0.0013 - mean_absolute_error: 0.0271 - mean_squared_error: 0.0012 - val_loss: 6.5738e-04 - val_mean_absolute_error: 0.0223 - val_mean_squared_error: 5.8982e-04\n",
            "Epoch 206/10000\n",
            "8032/8064 [============================>.] - ETA: 0s - loss: 0.0012 - mean_absolute_error: 0.0269 - mean_squared_error: 0.0012\n",
            "Epoch 00206: val_loss improved from 0.00020 to 0.00019, saving model to /content/gdrive/My Drive/deep_learning/_data/numpy_arrays/model_1.hdf5\n",
            "8064/8064 [==============================] - 24s 3ms/sample - loss: 0.0012 - mean_absolute_error: 0.0270 - mean_squared_error: 0.0012 - val_loss: 1.9252e-04 - val_mean_absolute_error: 0.0088 - val_mean_squared_error: 1.2675e-04\n",
            "Epoch 207/10000\n",
            "8032/8064 [============================>.] - ETA: 0s - loss: 0.0012 - mean_absolute_error: 0.0271 - mean_squared_error: 0.0011\n",
            "Epoch 00207: val_loss improved from 0.00019 to 0.00017, saving model to /content/gdrive/My Drive/deep_learning/_data/numpy_arrays/model_1.hdf5\n",
            "8064/8064 [==============================] - 24s 3ms/sample - loss: 0.0012 - mean_absolute_error: 0.0271 - mean_squared_error: 0.0011 - val_loss: 1.6560e-04 - val_mean_absolute_error: 0.0077 - val_mean_squared_error: 1.0148e-04\n",
            "Epoch 208/10000\n",
            "8032/8064 [============================>.] - ETA: 0s - loss: 0.0012 - mean_absolute_error: 0.0266 - mean_squared_error: 0.0011\n",
            "Epoch 00208: val_loss did not improve from 0.00017\n",
            "8064/8064 [==============================] - 24s 3ms/sample - loss: 0.0012 - mean_absolute_error: 0.0266 - mean_squared_error: 0.0011 - val_loss: 1.7679e-04 - val_mean_absolute_error: 0.0083 - val_mean_squared_error: 1.1424e-04\n",
            "Epoch 209/10000\n",
            "8032/8064 [============================>.] - ETA: 0s - loss: 0.0013 - mean_absolute_error: 0.0283 - mean_squared_error: 0.0013\n",
            "Epoch 00209: val_loss did not improve from 0.00017\n",
            "8064/8064 [==============================] - 24s 3ms/sample - loss: 0.0013 - mean_absolute_error: 0.0283 - mean_squared_error: 0.0013 - val_loss: 1.8382e-04 - val_mean_absolute_error: 0.0087 - val_mean_squared_error: 1.2290e-04\n",
            "Epoch 210/10000\n",
            "8032/8064 [============================>.] - ETA: 0s - loss: 0.0012 - mean_absolute_error: 0.0272 - mean_squared_error: 0.0011\n",
            "Epoch 00210: val_loss improved from 0.00017 to 0.00016, saving model to /content/gdrive/My Drive/deep_learning/_data/numpy_arrays/model_1.hdf5\n",
            "8064/8064 [==============================] - 24s 3ms/sample - loss: 0.0012 - mean_absolute_error: 0.0273 - mean_squared_error: 0.0012 - val_loss: 1.5807e-04 - val_mean_absolute_error: 0.0076 - val_mean_squared_error: 9.8693e-05\n",
            "Epoch 211/10000\n",
            "8032/8064 [============================>.] - ETA: 0s - loss: 0.0013 - mean_absolute_error: 0.0285 - mean_squared_error: 0.0013\n",
            "Epoch 00211: val_loss did not improve from 0.00016\n",
            "8064/8064 [==============================] - 24s 3ms/sample - loss: 0.0013 - mean_absolute_error: 0.0286 - mean_squared_error: 0.0013 - val_loss: 1.6036e-04 - val_mean_absolute_error: 0.0078 - val_mean_squared_error: 1.0239e-04\n",
            "Epoch 212/10000\n",
            "8032/8064 [============================>.] - ETA: 0s - loss: 0.0013 - mean_absolute_error: 0.0282 - mean_squared_error: 0.0012\n",
            "Epoch 00212: val_loss did not improve from 0.00016\n",
            "8064/8064 [==============================] - 24s 3ms/sample - loss: 0.0013 - mean_absolute_error: 0.0282 - mean_squared_error: 0.0012 - val_loss: 2.8505e-04 - val_mean_absolute_error: 0.0127 - val_mean_squared_error: 2.2849e-04\n",
            "Epoch 213/10000\n",
            "8032/8064 [============================>.] - ETA: 0s - loss: 0.0012 - mean_absolute_error: 0.0268 - mean_squared_error: 0.0012\n",
            "Epoch 00213: val_loss did not improve from 0.00016\n",
            "8064/8064 [==============================] - 24s 3ms/sample - loss: 0.0012 - mean_absolute_error: 0.0269 - mean_squared_error: 0.0012 - val_loss: 2.2876e-04 - val_mean_absolute_error: 0.0107 - val_mean_squared_error: 1.7353e-04\n",
            "Epoch 214/10000\n",
            "8032/8064 [============================>.] - ETA: 0s - loss: 0.0012 - mean_absolute_error: 0.0280 - mean_squared_error: 0.0012\n",
            "Epoch 00214: val_loss did not improve from 0.00016\n",
            "8064/8064 [==============================] - 23s 3ms/sample - loss: 0.0012 - mean_absolute_error: 0.0279 - mean_squared_error: 0.0012 - val_loss: 2.9914e-04 - val_mean_absolute_error: 0.0133 - val_mean_squared_error: 2.4528e-04\n",
            "Epoch 215/10000\n",
            "8032/8064 [============================>.] - ETA: 0s - loss: 0.0011 - mean_absolute_error: 0.0260 - mean_squared_error: 0.0011\n",
            "Epoch 00215: val_loss did not improve from 0.00016\n",
            "8064/8064 [==============================] - 23s 3ms/sample - loss: 0.0011 - mean_absolute_error: 0.0260 - mean_squared_error: 0.0010 - val_loss: 1.6286e-04 - val_mean_absolute_error: 0.0081 - val_mean_squared_error: 1.1031e-04\n",
            "Epoch 216/10000\n",
            "8032/8064 [============================>.] - ETA: 0s - loss: 0.0013 - mean_absolute_error: 0.0284 - mean_squared_error: 0.0013\n",
            "Epoch 00216: val_loss did not improve from 0.00016\n",
            "8064/8064 [==============================] - 24s 3ms/sample - loss: 0.0013 - mean_absolute_error: 0.0284 - mean_squared_error: 0.0013 - val_loss: 4.7147e-04 - val_mean_absolute_error: 0.0183 - val_mean_squared_error: 4.2004e-04\n",
            "Epoch 217/10000\n",
            "8032/8064 [============================>.] - ETA: 0s - loss: 0.0013 - mean_absolute_error: 0.0288 - mean_squared_error: 0.0013\n",
            "Epoch 00217: val_loss did not improve from 0.00016\n",
            "8064/8064 [==============================] - 24s 3ms/sample - loss: 0.0013 - mean_absolute_error: 0.0288 - mean_squared_error: 0.0013 - val_loss: 1.9528e-04 - val_mean_absolute_error: 0.0096 - val_mean_squared_error: 1.4515e-04\n",
            "Epoch 218/10000\n",
            "8032/8064 [============================>.] - ETA: 0s - loss: 0.0013 - mean_absolute_error: 0.0273 - mean_squared_error: 0.0012\n",
            "Epoch 00218: val_loss did not improve from 0.00016\n",
            "8064/8064 [==============================] - 24s 3ms/sample - loss: 0.0013 - mean_absolute_error: 0.0274 - mean_squared_error: 0.0012 - val_loss: 3.2957e-04 - val_mean_absolute_error: 0.0144 - val_mean_squared_error: 2.8059e-04\n",
            "Epoch 219/10000\n",
            "8032/8064 [============================>.] - ETA: 0s - loss: 0.0013 - mean_absolute_error: 0.0281 - mean_squared_error: 0.0012\n",
            "Epoch 00219: val_loss did not improve from 0.00016\n",
            "8064/8064 [==============================] - 23s 3ms/sample - loss: 0.0013 - mean_absolute_error: 0.0280 - mean_squared_error: 0.0012 - val_loss: 3.3430e-04 - val_mean_absolute_error: 0.0145 - val_mean_squared_error: 2.8630e-04\n",
            "Epoch 220/10000\n",
            "8032/8064 [============================>.] - ETA: 0s - loss: 0.0013 - mean_absolute_error: 0.0286 - mean_squared_error: 0.0013\n",
            "Epoch 00220: val_loss did not improve from 0.00016\n",
            "8064/8064 [==============================] - 24s 3ms/sample - loss: 0.0013 - mean_absolute_error: 0.0287 - mean_squared_error: 0.0013 - val_loss: 4.3804e-04 - val_mean_absolute_error: 0.0175 - val_mean_squared_error: 3.9109e-04\n",
            "Epoch 221/10000\n",
            "8032/8064 [============================>.] - ETA: 0s - loss: 0.0013 - mean_absolute_error: 0.0277 - mean_squared_error: 0.0012\n",
            "Epoch 00221: val_loss did not improve from 0.00016\n",
            "8064/8064 [==============================] - 24s 3ms/sample - loss: 0.0013 - mean_absolute_error: 0.0278 - mean_squared_error: 0.0012 - val_loss: 2.0558e-04 - val_mean_absolute_error: 0.0102 - val_mean_squared_error: 1.5975e-04\n",
            "Epoch 222/10000\n",
            "8032/8064 [============================>.] - ETA: 0s - loss: 0.0015 - mean_absolute_error: 0.0303 - mean_squared_error: 0.0014\n",
            "Epoch 00222: val_loss did not improve from 0.00016\n",
            "8064/8064 [==============================] - 23s 3ms/sample - loss: 0.0015 - mean_absolute_error: 0.0303 - mean_squared_error: 0.0014 - val_loss: 1.6695e-04 - val_mean_absolute_error: 0.0086 - val_mean_squared_error: 1.2207e-04\n",
            "Epoch 223/10000\n",
            "8032/8064 [============================>.] - ETA: 0s - loss: 0.0015 - mean_absolute_error: 0.0307 - mean_squared_error: 0.0014\n",
            "Epoch 00223: val_loss improved from 0.00016 to 0.00016, saving model to /content/gdrive/My Drive/deep_learning/_data/numpy_arrays/model_1.hdf5\n",
            "8064/8064 [==============================] - 24s 3ms/sample - loss: 0.0015 - mean_absolute_error: 0.0306 - mean_squared_error: 0.0014 - val_loss: 1.5649e-04 - val_mean_absolute_error: 0.0082 - val_mean_squared_error: 1.1256e-04\n",
            "Epoch 224/10000\n",
            "8032/8064 [============================>.] - ETA: 0s - loss: 0.0012 - mean_absolute_error: 0.0276 - mean_squared_error: 0.0012\n",
            "Epoch 00224: val_loss improved from 0.00016 to 0.00014, saving model to /content/gdrive/My Drive/deep_learning/_data/numpy_arrays/model_1.hdf5\n",
            "8064/8064 [==============================] - 23s 3ms/sample - loss: 0.0012 - mean_absolute_error: 0.0276 - mean_squared_error: 0.0012 - val_loss: 1.4018e-04 - val_mean_absolute_error: 0.0075 - val_mean_squared_error: 9.7167e-05\n",
            "Epoch 225/10000\n",
            "8032/8064 [============================>.] - ETA: 0s - loss: 0.0013 - mean_absolute_error: 0.0283 - mean_squared_error: 0.0012\n",
            "Epoch 00225: val_loss did not improve from 0.00014\n",
            "8064/8064 [==============================] - 22s 3ms/sample - loss: 0.0013 - mean_absolute_error: 0.0283 - mean_squared_error: 0.0012 - val_loss: 1.8299e-04 - val_mean_absolute_error: 0.0094 - val_mean_squared_error: 1.4096e-04\n",
            "Epoch 226/10000\n",
            "8032/8064 [============================>.] - ETA: 0s - loss: 0.0011 - mean_absolute_error: 0.0263 - mean_squared_error: 0.0011\n",
            "Epoch 00226: val_loss did not improve from 0.00014\n",
            "8064/8064 [==============================] - 22s 3ms/sample - loss: 0.0011 - mean_absolute_error: 0.0263 - mean_squared_error: 0.0011 - val_loss: 1.4899e-04 - val_mean_absolute_error: 0.0080 - val_mean_squared_error: 1.0790e-04\n",
            "Epoch 227/10000\n",
            "8032/8064 [============================>.] - ETA: 0s - loss: 0.0012 - mean_absolute_error: 0.0272 - mean_squared_error: 0.0012\n",
            "Epoch 00227: val_loss did not improve from 0.00014\n",
            "8064/8064 [==============================] - 22s 3ms/sample - loss: 0.0012 - mean_absolute_error: 0.0272 - mean_squared_error: 0.0012 - val_loss: 1.7005e-04 - val_mean_absolute_error: 0.0090 - val_mean_squared_error: 1.2983e-04\n",
            "Epoch 228/10000\n",
            "8032/8064 [============================>.] - ETA: 0s - loss: 0.0012 - mean_absolute_error: 0.0271 - mean_squared_error: 0.0011\n",
            "Epoch 00228: val_loss did not improve from 0.00014\n",
            "8064/8064 [==============================] - 22s 3ms/sample - loss: 0.0012 - mean_absolute_error: 0.0270 - mean_squared_error: 0.0011 - val_loss: 4.2896e-04 - val_mean_absolute_error: 0.0175 - val_mean_squared_error: 3.8943e-04\n",
            "Epoch 229/10000\n",
            "8032/8064 [============================>.] - ETA: 0s - loss: 0.0012 - mean_absolute_error: 0.0271 - mean_squared_error: 0.0012\n",
            "Epoch 00229: val_loss did not improve from 0.00014\n",
            "8064/8064 [==============================] - 23s 3ms/sample - loss: 0.0012 - mean_absolute_error: 0.0272 - mean_squared_error: 0.0012 - val_loss: 2.0891e-04 - val_mean_absolute_error: 0.0106 - val_mean_squared_error: 1.7025e-04\n",
            "Epoch 230/10000\n",
            "8032/8064 [============================>.] - ETA: 0s - loss: 0.0012 - mean_absolute_error: 0.0273 - mean_squared_error: 0.0012\n",
            "Epoch 00230: val_loss did not improve from 0.00014\n",
            "8064/8064 [==============================] - 23s 3ms/sample - loss: 0.0012 - mean_absolute_error: 0.0272 - mean_squared_error: 0.0012 - val_loss: 1.5080e-04 - val_mean_absolute_error: 0.0082 - val_mean_squared_error: 1.1296e-04\n",
            "Epoch 231/10000\n",
            "8032/8064 [============================>.] - ETA: 0s - loss: 0.0012 - mean_absolute_error: 0.0268 - mean_squared_error: 0.0011\n",
            "Epoch 00231: val_loss improved from 0.00014 to 0.00014, saving model to /content/gdrive/My Drive/deep_learning/_data/numpy_arrays/model_1.hdf5\n",
            "8064/8064 [==============================] - 25s 3ms/sample - loss: 0.0012 - mean_absolute_error: 0.0267 - mean_squared_error: 0.0011 - val_loss: 1.3824e-04 - val_mean_absolute_error: 0.0077 - val_mean_squared_error: 1.0119e-04\n",
            "Epoch 232/10000\n",
            "8032/8064 [============================>.] - ETA: 0s - loss: 0.0012 - mean_absolute_error: 0.0267 - mean_squared_error: 0.0011\n",
            "Epoch 00232: val_loss did not improve from 0.00014\n",
            "8064/8064 [==============================] - 24s 3ms/sample - loss: 0.0012 - mean_absolute_error: 0.0267 - mean_squared_error: 0.0011 - val_loss: 1.3979e-04 - val_mean_absolute_error: 0.0078 - val_mean_squared_error: 1.0353e-04\n",
            "Epoch 233/10000\n",
            "8032/8064 [============================>.] - ETA: 0s - loss: 0.0013 - mean_absolute_error: 0.0282 - mean_squared_error: 0.0013\n",
            "Epoch 00233: val_loss did not improve from 0.00014\n",
            "8064/8064 [==============================] - 23s 3ms/sample - loss: 0.0013 - mean_absolute_error: 0.0283 - mean_squared_error: 0.0013 - val_loss: 1.3917e-04 - val_mean_absolute_error: 0.0078 - val_mean_squared_error: 1.0365e-04\n",
            "Epoch 234/10000\n",
            "8032/8064 [============================>.] - ETA: 0s - loss: 0.0013 - mean_absolute_error: 0.0284 - mean_squared_error: 0.0013\n",
            "Epoch 00234: val_loss did not improve from 0.00014\n",
            "8064/8064 [==============================] - 23s 3ms/sample - loss: 0.0013 - mean_absolute_error: 0.0285 - mean_squared_error: 0.0013 - val_loss: 1.4977e-04 - val_mean_absolute_error: 0.0083 - val_mean_squared_error: 1.1496e-04\n",
            "Epoch 235/10000\n",
            "8032/8064 [============================>.] - ETA: 0s - loss: 0.0013 - mean_absolute_error: 0.0285 - mean_squared_error: 0.0012\n",
            "Epoch 00235: val_loss did not improve from 0.00014\n",
            "8064/8064 [==============================] - 23s 3ms/sample - loss: 0.0013 - mean_absolute_error: 0.0285 - mean_squared_error: 0.0012 - val_loss: 2.9595e-04 - val_mean_absolute_error: 0.0137 - val_mean_squared_error: 2.6172e-04\n",
            "Epoch 236/10000\n",
            "8032/8064 [============================>.] - ETA: 0s - loss: 0.0012 - mean_absolute_error: 0.0278 - mean_squared_error: 0.0012\n",
            "Epoch 00236: val_loss did not improve from 0.00014\n",
            "8064/8064 [==============================] - 23s 3ms/sample - loss: 0.0012 - mean_absolute_error: 0.0279 - mean_squared_error: 0.0012 - val_loss: 3.0009e-04 - val_mean_absolute_error: 0.0140 - val_mean_squared_error: 2.6665e-04\n",
            "Epoch 237/10000\n",
            "8032/8064 [============================>.] - ETA: 0s - loss: 0.0012 - mean_absolute_error: 0.0278 - mean_squared_error: 0.0012\n",
            "Epoch 00237: val_loss did not improve from 0.00014\n",
            "8064/8064 [==============================] - 23s 3ms/sample - loss: 0.0012 - mean_absolute_error: 0.0281 - mean_squared_error: 0.0012 - val_loss: 1.6337e-04 - val_mean_absolute_error: 0.0090 - val_mean_squared_error: 1.3056e-04\n",
            "Epoch 238/10000\n",
            "8032/8064 [============================>.] - ETA: 0s - loss: 0.0011 - mean_absolute_error: 0.0268 - mean_squared_error: 0.0011\n",
            "Epoch 00238: val_loss improved from 0.00014 to 0.00013, saving model to /content/gdrive/My Drive/deep_learning/_data/numpy_arrays/model_1.hdf5\n",
            "8064/8064 [==============================] - 23s 3ms/sample - loss: 0.0011 - mean_absolute_error: 0.0268 - mean_squared_error: 0.0011 - val_loss: 1.3110e-04 - val_mean_absolute_error: 0.0076 - val_mean_squared_error: 9.8882e-05\n",
            "Epoch 239/10000\n",
            "8032/8064 [============================>.] - ETA: 0s - loss: 0.0013 - mean_absolute_error: 0.0288 - mean_squared_error: 0.0012\n",
            "Epoch 00239: val_loss did not improve from 0.00013\n",
            "8064/8064 [==============================] - 24s 3ms/sample - loss: 0.0013 - mean_absolute_error: 0.0287 - mean_squared_error: 0.0012 - val_loss: 1.8505e-04 - val_mean_absolute_error: 0.0100 - val_mean_squared_error: 1.5350e-04\n",
            "Epoch 240/10000\n",
            "8032/8064 [============================>.] - ETA: 0s - loss: 0.0014 - mean_absolute_error: 0.0294 - mean_squared_error: 0.0013\n",
            "Epoch 00240: val_loss did not improve from 0.00013\n",
            "8064/8064 [==============================] - 24s 3ms/sample - loss: 0.0014 - mean_absolute_error: 0.0294 - mean_squared_error: 0.0013 - val_loss: 2.4413e-04 - val_mean_absolute_error: 0.0122 - val_mean_squared_error: 2.1322e-04\n",
            "Epoch 241/10000\n",
            "8032/8064 [============================>.] - ETA: 0s - loss: 0.0014 - mean_absolute_error: 0.0297 - mean_squared_error: 0.0014\n",
            "Epoch 00241: val_loss did not improve from 0.00013\n",
            "8064/8064 [==============================] - 24s 3ms/sample - loss: 0.0014 - mean_absolute_error: 0.0297 - mean_squared_error: 0.0014 - val_loss: 1.6942e-04 - val_mean_absolute_error: 0.0093 - val_mean_squared_error: 1.3896e-04\n",
            "Epoch 242/10000\n",
            "8032/8064 [============================>.] - ETA: 0s - loss: 0.0014 - mean_absolute_error: 0.0285 - mean_squared_error: 0.0013\n",
            "Epoch 00242: val_loss did not improve from 0.00013\n",
            "8064/8064 [==============================] - 25s 3ms/sample - loss: 0.0014 - mean_absolute_error: 0.0285 - mean_squared_error: 0.0013 - val_loss: 1.8497e-04 - val_mean_absolute_error: 0.0100 - val_mean_squared_error: 1.5510e-04\n",
            "Epoch 243/10000\n",
            "8032/8064 [============================>.] - ETA: 0s - loss: 0.0012 - mean_absolute_error: 0.0284 - mean_squared_error: 0.0012\n",
            "Epoch 00243: val_loss did not improve from 0.00013\n",
            "8064/8064 [==============================] - 25s 3ms/sample - loss: 0.0013 - mean_absolute_error: 0.0286 - mean_squared_error: 0.0012 - val_loss: 2.7286e-04 - val_mean_absolute_error: 0.0132 - val_mean_squared_error: 2.4354e-04\n",
            "Epoch 244/10000\n",
            "8032/8064 [============================>.] - ETA: 0s - loss: 0.0010 - mean_absolute_error: 0.0254 - mean_squared_error: 0.0010\n",
            "Epoch 00244: val_loss did not improve from 0.00013\n",
            "8064/8064 [==============================] - 23s 3ms/sample - loss: 0.0010 - mean_absolute_error: 0.0254 - mean_squared_error: 0.0010 - val_loss: 1.3428e-04 - val_mean_absolute_error: 0.0079 - val_mean_squared_error: 1.0549e-04\n",
            "Epoch 245/10000\n",
            "8032/8064 [============================>.] - ETA: 0s - loss: 0.0011 - mean_absolute_error: 0.0259 - mean_squared_error: 0.0010\n",
            "Epoch 00245: val_loss did not improve from 0.00013\n",
            "8064/8064 [==============================] - 23s 3ms/sample - loss: 0.0011 - mean_absolute_error: 0.0260 - mean_squared_error: 0.0010 - val_loss: 2.9149e-04 - val_mean_absolute_error: 0.0139 - val_mean_squared_error: 2.6327e-04\n",
            "Epoch 246/10000\n",
            "8032/8064 [============================>.] - ETA: 0s - loss: 0.0012 - mean_absolute_error: 0.0277 - mean_squared_error: 0.0012\n",
            "Epoch 00246: val_loss did not improve from 0.00013\n",
            "8064/8064 [==============================] - 23s 3ms/sample - loss: 0.0012 - mean_absolute_error: 0.0276 - mean_squared_error: 0.0012 - val_loss: 1.4621e-04 - val_mean_absolute_error: 0.0085 - val_mean_squared_error: 1.1839e-04\n",
            "Epoch 247/10000\n",
            "8032/8064 [============================>.] - ETA: 0s - loss: 0.0011 - mean_absolute_error: 0.0267 - mean_squared_error: 0.0011\n",
            "Epoch 00247: val_loss improved from 0.00013 to 0.00013, saving model to /content/gdrive/My Drive/deep_learning/_data/numpy_arrays/model_1.hdf5\n",
            "8064/8064 [==============================] - 23s 3ms/sample - loss: 0.0011 - mean_absolute_error: 0.0267 - mean_squared_error: 0.0011 - val_loss: 1.2988e-04 - val_mean_absolute_error: 0.0078 - val_mean_squared_error: 1.0260e-04\n",
            "Epoch 248/10000\n",
            "8032/8064 [============================>.] - ETA: 0s - loss: 0.0012 - mean_absolute_error: 0.0277 - mean_squared_error: 0.0012\n",
            "Epoch 00248: val_loss did not improve from 0.00013\n",
            "8064/8064 [==============================] - 23s 3ms/sample - loss: 0.0012 - mean_absolute_error: 0.0277 - mean_squared_error: 0.0012 - val_loss: 7.5831e-04 - val_mean_absolute_error: 0.0252 - val_mean_squared_error: 7.3163e-04\n",
            "Epoch 249/10000\n",
            "8032/8064 [============================>.] - ETA: 0s - loss: 0.0014 - mean_absolute_error: 0.0304 - mean_squared_error: 0.0014\n",
            "Epoch 00249: val_loss did not improve from 0.00013\n",
            "8064/8064 [==============================] - 23s 3ms/sample - loss: 0.0014 - mean_absolute_error: 0.0303 - mean_squared_error: 0.0014 - val_loss: 2.0451e-04 - val_mean_absolute_error: 0.0109 - val_mean_squared_error: 1.7812e-04\n",
            "Epoch 250/10000\n",
            "8032/8064 [============================>.] - ETA: 0s - loss: 0.0014 - mean_absolute_error: 0.0306 - mean_squared_error: 0.0014\n",
            "Epoch 00250: val_loss did not improve from 0.00013\n",
            "8064/8064 [==============================] - 23s 3ms/sample - loss: 0.0014 - mean_absolute_error: 0.0306 - mean_squared_error: 0.0014 - val_loss: 3.0622e-04 - val_mean_absolute_error: 0.0143 - val_mean_squared_error: 2.8023e-04\n",
            "Epoch 251/10000\n",
            "8032/8064 [============================>.] - ETA: 0s - loss: 0.0011 - mean_absolute_error: 0.0267 - mean_squared_error: 0.0011\n",
            "Epoch 00251: val_loss improved from 0.00013 to 0.00013, saving model to /content/gdrive/My Drive/deep_learning/_data/numpy_arrays/model_1.hdf5\n",
            "8064/8064 [==============================] - 23s 3ms/sample - loss: 0.0011 - mean_absolute_error: 0.0268 - mean_squared_error: 0.0011 - val_loss: 1.2755e-04 - val_mean_absolute_error: 0.0077 - val_mean_squared_error: 1.0205e-04\n",
            "Epoch 252/10000\n",
            "8032/8064 [============================>.] - ETA: 0s - loss: 0.0011 - mean_absolute_error: 0.0266 - mean_squared_error: 0.0011\n",
            "Epoch 00252: val_loss improved from 0.00013 to 0.00012, saving model to /content/gdrive/My Drive/deep_learning/_data/numpy_arrays/model_1.hdf5\n",
            "8064/8064 [==============================] - 23s 3ms/sample - loss: 0.0011 - mean_absolute_error: 0.0265 - mean_squared_error: 0.0011 - val_loss: 1.2497e-04 - val_mean_absolute_error: 0.0077 - val_mean_squared_error: 9.9932e-05\n",
            "Epoch 253/10000\n",
            "8032/8064 [============================>.] - ETA: 0s - loss: 0.0012 - mean_absolute_error: 0.0278 - mean_squared_error: 0.0012\n",
            "Epoch 00253: val_loss did not improve from 0.00012\n",
            "8064/8064 [==============================] - 23s 3ms/sample - loss: 0.0012 - mean_absolute_error: 0.0278 - mean_squared_error: 0.0012 - val_loss: 1.9388e-04 - val_mean_absolute_error: 0.0105 - val_mean_squared_error: 1.6924e-04\n",
            "Epoch 254/10000\n",
            "8032/8064 [============================>.] - ETA: 0s - loss: 0.0013 - mean_absolute_error: 0.0286 - mean_squared_error: 0.0013\n",
            "Epoch 00254: val_loss improved from 0.00012 to 0.00012, saving model to /content/gdrive/My Drive/deep_learning/_data/numpy_arrays/model_1.hdf5\n",
            "8064/8064 [==============================] - 23s 3ms/sample - loss: 0.0013 - mean_absolute_error: 0.0286 - mean_squared_error: 0.0013 - val_loss: 1.2329e-04 - val_mean_absolute_error: 0.0076 - val_mean_squared_error: 9.9125e-05\n",
            "Epoch 255/10000\n",
            "8032/8064 [============================>.] - ETA: 0s - loss: 0.0014 - mean_absolute_error: 0.0292 - mean_squared_error: 0.0014\n",
            "Epoch 00255: val_loss did not improve from 0.00012\n",
            "8064/8064 [==============================] - 23s 3ms/sample - loss: 0.0014 - mean_absolute_error: 0.0291 - mean_squared_error: 0.0013 - val_loss: 1.7940e-04 - val_mean_absolute_error: 0.0100 - val_mean_squared_error: 1.5557e-04\n",
            "Epoch 256/10000\n",
            "8032/8064 [============================>.] - ETA: 0s - loss: 0.0012 - mean_absolute_error: 0.0273 - mean_squared_error: 0.0012\n",
            "Epoch 00256: val_loss did not improve from 0.00012\n",
            "8064/8064 [==============================] - 23s 3ms/sample - loss: 0.0012 - mean_absolute_error: 0.0273 - mean_squared_error: 0.0012 - val_loss: 1.9771e-04 - val_mean_absolute_error: 0.0108 - val_mean_squared_error: 1.7436e-04\n",
            "Epoch 257/10000\n",
            "8032/8064 [============================>.] - ETA: 0s - loss: 0.0012 - mean_absolute_error: 0.0270 - mean_squared_error: 0.0012\n",
            "Epoch 00257: val_loss improved from 0.00012 to 0.00012, saving model to /content/gdrive/My Drive/deep_learning/_data/numpy_arrays/model_1.hdf5\n",
            "8064/8064 [==============================] - 23s 3ms/sample - loss: 0.0012 - mean_absolute_error: 0.0269 - mean_squared_error: 0.0012 - val_loss: 1.2095e-04 - val_mean_absolute_error: 0.0075 - val_mean_squared_error: 9.7931e-05\n",
            "Epoch 258/10000\n",
            "8032/8064 [============================>.] - ETA: 0s - loss: 0.0013 - mean_absolute_error: 0.0288 - mean_squared_error: 0.0013\n",
            "Epoch 00258: val_loss did not improve from 0.00012\n",
            "8064/8064 [==============================] - 23s 3ms/sample - loss: 0.0013 - mean_absolute_error: 0.0288 - mean_squared_error: 0.0013 - val_loss: 3.4285e-04 - val_mean_absolute_error: 0.0155 - val_mean_squared_error: 3.2010e-04\n",
            "Epoch 259/10000\n",
            "8032/8064 [============================>.] - ETA: 0s - loss: 0.0010 - mean_absolute_error: 0.0257 - mean_squared_error: 0.0010\n",
            "Epoch 00259: val_loss did not improve from 0.00012\n",
            "8064/8064 [==============================] - 23s 3ms/sample - loss: 0.0010 - mean_absolute_error: 0.0256 - mean_squared_error: 0.0010 - val_loss: 1.6986e-04 - val_mean_absolute_error: 0.0097 - val_mean_squared_error: 1.4755e-04\n",
            "Epoch 260/10000\n",
            "8032/8064 [============================>.] - ETA: 0s - loss: 0.0013 - mean_absolute_error: 0.0285 - mean_squared_error: 0.0013\n",
            "Epoch 00260: val_loss did not improve from 0.00012\n",
            "8064/8064 [==============================] - 23s 3ms/sample - loss: 0.0013 - mean_absolute_error: 0.0286 - mean_squared_error: 0.0013 - val_loss: 2.4746e-04 - val_mean_absolute_error: 0.0126 - val_mean_squared_error: 2.2554e-04\n",
            "Epoch 261/10000\n",
            "8032/8064 [============================>.] - ETA: 0s - loss: 0.0013 - mean_absolute_error: 0.0281 - mean_squared_error: 0.0013\n",
            "Epoch 00261: val_loss did not improve from 0.00012\n",
            "8064/8064 [==============================] - 23s 3ms/sample - loss: 0.0013 - mean_absolute_error: 0.0282 - mean_squared_error: 0.0013 - val_loss: 3.7838e-04 - val_mean_absolute_error: 0.0166 - val_mean_squared_error: 3.5668e-04\n",
            "Epoch 262/10000\n",
            "8032/8064 [============================>.] - ETA: 0s - loss: 0.0014 - mean_absolute_error: 0.0296 - mean_squared_error: 0.0014\n",
            "Epoch 00262: val_loss improved from 0.00012 to 0.00012, saving model to /content/gdrive/My Drive/deep_learning/_data/numpy_arrays/model_1.hdf5\n",
            "8064/8064 [==============================] - 23s 3ms/sample - loss: 0.0014 - mean_absolute_error: 0.0296 - mean_squared_error: 0.0014 - val_loss: 1.1764e-04 - val_mean_absolute_error: 0.0075 - val_mean_squared_error: 9.6370e-05\n",
            "Epoch 263/10000\n",
            "8032/8064 [============================>.] - ETA: 0s - loss: 0.0013 - mean_absolute_error: 0.0290 - mean_squared_error: 0.0013\n",
            "Epoch 00263: val_loss did not improve from 0.00012\n",
            "8064/8064 [==============================] - 23s 3ms/sample - loss: 0.0013 - mean_absolute_error: 0.0289 - mean_squared_error: 0.0013 - val_loss: 5.0263e-04 - val_mean_absolute_error: 0.0198 - val_mean_squared_error: 4.8158e-04\n",
            "Epoch 264/10000\n",
            "8032/8064 [============================>.] - ETA: 0s - loss: 0.0012 - mean_absolute_error: 0.0270 - mean_squared_error: 0.0011\n",
            "Epoch 00264: val_loss did not improve from 0.00012\n",
            "8064/8064 [==============================] - 23s 3ms/sample - loss: 0.0011 - mean_absolute_error: 0.0270 - mean_squared_error: 0.0011 - val_loss: 1.2444e-04 - val_mean_absolute_error: 0.0078 - val_mean_squared_error: 1.0379e-04\n",
            "Epoch 265/10000\n",
            "8032/8064 [============================>.] - ETA: 0s - loss: 0.0013 - mean_absolute_error: 0.0280 - mean_squared_error: 0.0013\n",
            "Epoch 00265: val_loss did not improve from 0.00012\n",
            "8064/8064 [==============================] - 23s 3ms/sample - loss: 0.0013 - mean_absolute_error: 0.0281 - mean_squared_error: 0.0013 - val_loss: 1.4211e-04 - val_mean_absolute_error: 0.0086 - val_mean_squared_error: 1.2179e-04\n",
            "Epoch 266/10000\n",
            "8032/8064 [============================>.] - ETA: 0s - loss: 0.0012 - mean_absolute_error: 0.0277 - mean_squared_error: 0.0012\n",
            "Epoch 00266: val_loss improved from 0.00012 to 0.00012, saving model to /content/gdrive/My Drive/deep_learning/_data/numpy_arrays/model_1.hdf5\n",
            "8064/8064 [==============================] - 23s 3ms/sample - loss: 0.0012 - mean_absolute_error: 0.0277 - mean_squared_error: 0.0012 - val_loss: 1.1658e-04 - val_mean_absolute_error: 0.0075 - val_mean_squared_error: 9.6524e-05\n",
            "Epoch 267/10000\n",
            "8032/8064 [============================>.] - ETA: 0s - loss: 0.0013 - mean_absolute_error: 0.0286 - mean_squared_error: 0.0013\n",
            "Epoch 00267: val_loss did not improve from 0.00012\n",
            "8064/8064 [==============================] - 23s 3ms/sample - loss: 0.0013 - mean_absolute_error: 0.0288 - mean_squared_error: 0.0013 - val_loss: 1.3552e-04 - val_mean_absolute_error: 0.0084 - val_mean_squared_error: 1.1577e-04\n",
            "Epoch 268/10000\n",
            "8032/8064 [============================>.] - ETA: 0s - loss: 0.0012 - mean_absolute_error: 0.0281 - mean_squared_error: 0.0012\n",
            "Epoch 00268: val_loss did not improve from 0.00012\n",
            "8064/8064 [==============================] - 23s 3ms/sample - loss: 0.0012 - mean_absolute_error: 0.0281 - mean_squared_error: 0.0012 - val_loss: 2.5697e-04 - val_mean_absolute_error: 0.0129 - val_mean_squared_error: 2.3743e-04\n",
            "Epoch 269/10000\n",
            "8032/8064 [============================>.] - ETA: 0s - loss: 0.0013 - mean_absolute_error: 0.0284 - mean_squared_error: 0.0012\n",
            "Epoch 00269: val_loss did not improve from 0.00012\n",
            "8064/8064 [==============================] - 23s 3ms/sample - loss: 0.0013 - mean_absolute_error: 0.0284 - mean_squared_error: 0.0012 - val_loss: 8.3311e-04 - val_mean_absolute_error: 0.0267 - val_mean_squared_error: 8.1379e-04\n",
            "Epoch 270/10000\n",
            "8032/8064 [============================>.] - ETA: 0s - loss: 0.0012 - mean_absolute_error: 0.0279 - mean_squared_error: 0.0012\n",
            "Epoch 00270: val_loss did not improve from 0.00012\n",
            "8064/8064 [==============================] - 23s 3ms/sample - loss: 0.0012 - mean_absolute_error: 0.0278 - mean_squared_error: 0.0012 - val_loss: 1.1912e-04 - val_mean_absolute_error: 0.0077 - val_mean_squared_error: 1.0020e-04\n",
            "Epoch 271/10000\n",
            "8032/8064 [============================>.] - ETA: 0s - loss: 0.0012 - mean_absolute_error: 0.0269 - mean_squared_error: 0.0011\n",
            "Epoch 00271: val_loss did not improve from 0.00012\n",
            "8064/8064 [==============================] - 23s 3ms/sample - loss: 0.0012 - mean_absolute_error: 0.0271 - mean_squared_error: 0.0012 - val_loss: 1.4914e-04 - val_mean_absolute_error: 0.0090 - val_mean_squared_error: 1.3042e-04\n",
            "Epoch 272/10000\n",
            "8032/8064 [============================>.] - ETA: 0s - loss: 0.0012 - mean_absolute_error: 0.0275 - mean_squared_error: 0.0012\n",
            "Epoch 00272: val_loss did not improve from 0.00012\n",
            "8064/8064 [==============================] - 23s 3ms/sample - loss: 0.0012 - mean_absolute_error: 0.0275 - mean_squared_error: 0.0012 - val_loss: 1.2549e-04 - val_mean_absolute_error: 0.0079 - val_mean_squared_error: 1.0705e-04\n",
            "Epoch 273/10000\n",
            "8032/8064 [============================>.] - ETA: 0s - loss: 0.0012 - mean_absolute_error: 0.0281 - mean_squared_error: 0.0012\n",
            "Epoch 00273: val_loss did not improve from 0.00012\n",
            "8064/8064 [==============================] - 23s 3ms/sample - loss: 0.0013 - mean_absolute_error: 0.0282 - mean_squared_error: 0.0012 - val_loss: 1.5739e-04 - val_mean_absolute_error: 0.0094 - val_mean_squared_error: 1.3924e-04\n",
            "Epoch 274/10000\n",
            "8032/8064 [============================>.] - ETA: 0s - loss: 0.0012 - mean_absolute_error: 0.0273 - mean_squared_error: 0.0012\n",
            "Epoch 00274: val_loss improved from 0.00012 to 0.00012, saving model to /content/gdrive/My Drive/deep_learning/_data/numpy_arrays/model_1.hdf5\n",
            "8064/8064 [==============================] - 23s 3ms/sample - loss: 0.0012 - mean_absolute_error: 0.0275 - mean_squared_error: 0.0012 - val_loss: 1.1550e-04 - val_mean_absolute_error: 0.0075 - val_mean_squared_error: 9.7575e-05\n",
            "Epoch 275/10000\n",
            "8032/8064 [============================>.] - ETA: 0s - loss: 0.0013 - mean_absolute_error: 0.0291 - mean_squared_error: 0.0013\n",
            "Epoch 00275: val_loss did not improve from 0.00012\n",
            "8064/8064 [==============================] - 24s 3ms/sample - loss: 0.0013 - mean_absolute_error: 0.0290 - mean_squared_error: 0.0013 - val_loss: 1.1571e-04 - val_mean_absolute_error: 0.0075 - val_mean_squared_error: 9.7995e-05\n",
            "Epoch 276/10000\n",
            "8032/8064 [============================>.] - ETA: 0s - loss: 0.0012 - mean_absolute_error: 0.0267 - mean_squared_error: 0.0012\n",
            "Epoch 00276: val_loss did not improve from 0.00012\n",
            "8064/8064 [==============================] - 24s 3ms/sample - loss: 0.0012 - mean_absolute_error: 0.0268 - mean_squared_error: 0.0012 - val_loss: 1.5786e-04 - val_mean_absolute_error: 0.0094 - val_mean_squared_error: 1.4034e-04\n",
            "Epoch 277/10000\n",
            "8032/8064 [============================>.] - ETA: 0s - loss: 0.0012 - mean_absolute_error: 0.0268 - mean_squared_error: 0.0012\n",
            "Epoch 00277: val_loss did not improve from 0.00012\n",
            "8064/8064 [==============================] - 24s 3ms/sample - loss: 0.0012 - mean_absolute_error: 0.0270 - mean_squared_error: 0.0012 - val_loss: 1.3226e-04 - val_mean_absolute_error: 0.0083 - val_mean_squared_error: 1.1502e-04\n",
            "Epoch 278/10000\n",
            "8032/8064 [============================>.] - ETA: 0s - loss: 0.0012 - mean_absolute_error: 0.0274 - mean_squared_error: 0.0012\n",
            "Epoch 00278: val_loss did not improve from 0.00012\n",
            "8064/8064 [==============================] - 25s 3ms/sample - loss: 0.0012 - mean_absolute_error: 0.0275 - mean_squared_error: 0.0012 - val_loss: 2.6811e-04 - val_mean_absolute_error: 0.0135 - val_mean_squared_error: 2.5111e-04\n",
            "Epoch 279/10000\n",
            "8032/8064 [============================>.] - ETA: 0s - loss: 0.0012 - mean_absolute_error: 0.0276 - mean_squared_error: 0.0012\n",
            "Epoch 00279: val_loss improved from 0.00012 to 0.00011, saving model to /content/gdrive/My Drive/deep_learning/_data/numpy_arrays/model_1.hdf5\n",
            "8064/8064 [==============================] - 24s 3ms/sample - loss: 0.0012 - mean_absolute_error: 0.0276 - mean_squared_error: 0.0012 - val_loss: 1.1302e-04 - val_mean_absolute_error: 0.0075 - val_mean_squared_error: 9.6159e-05\n",
            "Epoch 280/10000\n",
            "8032/8064 [============================>.] - ETA: 0s - loss: 0.0012 - mean_absolute_error: 0.0280 - mean_squared_error: 0.0012\n",
            "Epoch 00280: val_loss did not improve from 0.00011\n",
            "8064/8064 [==============================] - 24s 3ms/sample - loss: 0.0012 - mean_absolute_error: 0.0279 - mean_squared_error: 0.0012 - val_loss: 1.2459e-04 - val_mean_absolute_error: 0.0080 - val_mean_squared_error: 1.0791e-04\n",
            "Epoch 281/10000\n",
            "8032/8064 [============================>.] - ETA: 0s - loss: 0.0013 - mean_absolute_error: 0.0298 - mean_squared_error: 0.0013\n",
            "Epoch 00281: val_loss did not improve from 0.00011\n",
            "8064/8064 [==============================] - 24s 3ms/sample - loss: 0.0013 - mean_absolute_error: 0.0297 - mean_squared_error: 0.0013 - val_loss: 1.2411e-04 - val_mean_absolute_error: 0.0080 - val_mean_squared_error: 1.0761e-04\n",
            "Epoch 282/10000\n",
            "8032/8064 [============================>.] - ETA: 0s - loss: 0.0013 - mean_absolute_error: 0.0283 - mean_squared_error: 0.0013\n",
            "Epoch 00282: val_loss did not improve from 0.00011\n",
            "8064/8064 [==============================] - 24s 3ms/sample - loss: 0.0013 - mean_absolute_error: 0.0282 - mean_squared_error: 0.0013 - val_loss: 1.1392e-04 - val_mean_absolute_error: 0.0075 - val_mean_squared_error: 9.7630e-05\n",
            "Epoch 283/10000\n",
            "8032/8064 [============================>.] - ETA: 0s - loss: 0.0012 - mean_absolute_error: 0.0273 - mean_squared_error: 0.0012\n",
            "Epoch 00283: val_loss did not improve from 0.00011\n",
            "8064/8064 [==============================] - 24s 3ms/sample - loss: 0.0012 - mean_absolute_error: 0.0273 - mean_squared_error: 0.0012 - val_loss: 1.1472e-04 - val_mean_absolute_error: 0.0076 - val_mean_squared_error: 9.8615e-05\n",
            "Epoch 284/10000\n",
            "8032/8064 [============================>.] - ETA: 0s - loss: 0.0012 - mean_absolute_error: 0.0274 - mean_squared_error: 0.0011\n",
            "Epoch 00284: val_loss did not improve from 0.00011\n",
            "8064/8064 [==============================] - 24s 3ms/sample - loss: 0.0012 - mean_absolute_error: 0.0273 - mean_squared_error: 0.0011 - val_loss: 1.3024e-04 - val_mean_absolute_error: 0.0083 - val_mean_squared_error: 1.1432e-04\n",
            "Epoch 285/10000\n",
            "8032/8064 [============================>.] - ETA: 0s - loss: 0.0014 - mean_absolute_error: 0.0299 - mean_squared_error: 0.0013\n",
            "Epoch 00285: val_loss did not improve from 0.00011\n",
            "8064/8064 [==============================] - 25s 3ms/sample - loss: 0.0014 - mean_absolute_error: 0.0299 - mean_squared_error: 0.0013 - val_loss: 2.7176e-04 - val_mean_absolute_error: 0.0136 - val_mean_squared_error: 2.5593e-04\n",
            "Epoch 286/10000\n",
            "8032/8064 [============================>.] - ETA: 0s - loss: 9.8035e-04 - mean_absolute_error: 0.0251 - mean_squared_error: 9.6465e-04\n",
            "Epoch 00286: val_loss did not improve from 0.00011\n",
            "8064/8064 [==============================] - 25s 3ms/sample - loss: 9.7697e-04 - mean_absolute_error: 0.0250 - mean_squared_error: 9.6128e-04 - val_loss: 1.2782e-04 - val_mean_absolute_error: 0.0082 - val_mean_squared_error: 1.1223e-04\n",
            "Epoch 287/10000\n",
            "8032/8064 [============================>.] - ETA: 0s - loss: 0.0012 - mean_absolute_error: 0.0274 - mean_squared_error: 0.0012\n",
            "Epoch 00287: val_loss did not improve from 0.00011\n",
            "8064/8064 [==============================] - 25s 3ms/sample - loss: 0.0012 - mean_absolute_error: 0.0273 - mean_squared_error: 0.0012 - val_loss: 1.9440e-04 - val_mean_absolute_error: 0.0110 - val_mean_squared_error: 1.7901e-04\n",
            "Epoch 288/10000\n",
            "8032/8064 [============================>.] - ETA: 0s - loss: 0.0014 - mean_absolute_error: 0.0302 - mean_squared_error: 0.0014\n",
            "Epoch 00288: val_loss did not improve from 0.00011\n",
            "8064/8064 [==============================] - 25s 3ms/sample - loss: 0.0014 - mean_absolute_error: 0.0302 - mean_squared_error: 0.0014 - val_loss: 1.2790e-04 - val_mean_absolute_error: 0.0082 - val_mean_squared_error: 1.1264e-04\n",
            "Epoch 289/10000\n",
            "8032/8064 [============================>.] - ETA: 0s - loss: 0.0011 - mean_absolute_error: 0.0272 - mean_squared_error: 0.0011\n",
            "Epoch 00289: val_loss improved from 0.00011 to 0.00011, saving model to /content/gdrive/My Drive/deep_learning/_data/numpy_arrays/model_1.hdf5\n",
            "8064/8064 [==============================] - 25s 3ms/sample - loss: 0.0011 - mean_absolute_error: 0.0271 - mean_squared_error: 0.0011 - val_loss: 1.1128e-04 - val_mean_absolute_error: 0.0075 - val_mean_squared_error: 9.6155e-05\n",
            "Epoch 290/10000\n",
            "8032/8064 [============================>.] - ETA: 0s - loss: 0.0013 - mean_absolute_error: 0.0290 - mean_squared_error: 0.0013\n",
            "Epoch 00290: val_loss did not improve from 0.00011\n",
            "8064/8064 [==============================] - 25s 3ms/sample - loss: 0.0013 - mean_absolute_error: 0.0289 - mean_squared_error: 0.0013 - val_loss: 1.6298e-04 - val_mean_absolute_error: 0.0097 - val_mean_squared_error: 1.4796e-04\n",
            "Epoch 291/10000\n",
            "8032/8064 [============================>.] - ETA: 0s - loss: 0.0011 - mean_absolute_error: 0.0272 - mean_squared_error: 0.0011\n",
            "Epoch 00291: val_loss did not improve from 0.00011\n",
            "8064/8064 [==============================] - 24s 3ms/sample - loss: 0.0012 - mean_absolute_error: 0.0273 - mean_squared_error: 0.0011 - val_loss: 1.2926e-04 - val_mean_absolute_error: 0.0083 - val_mean_squared_error: 1.1441e-04\n",
            "Epoch 292/10000\n",
            "8032/8064 [============================>.] - ETA: 0s - loss: 0.0011 - mean_absolute_error: 0.0266 - mean_squared_error: 0.0011\n",
            "Epoch 00292: val_loss did not improve from 0.00011\n",
            "8064/8064 [==============================] - 24s 3ms/sample - loss: 0.0011 - mean_absolute_error: 0.0267 - mean_squared_error: 0.0011 - val_loss: 1.1253e-04 - val_mean_absolute_error: 0.0076 - val_mean_squared_error: 9.7844e-05\n",
            "Epoch 293/10000\n",
            "8032/8064 [============================>.] - ETA: 0s - loss: 0.0012 - mean_absolute_error: 0.0274 - mean_squared_error: 0.0012\n",
            "Epoch 00293: val_loss did not improve from 0.00011\n",
            "8064/8064 [==============================] - 24s 3ms/sample - loss: 0.0012 - mean_absolute_error: 0.0275 - mean_squared_error: 0.0012 - val_loss: 1.1772e-04 - val_mean_absolute_error: 0.0078 - val_mean_squared_error: 1.0316e-04\n",
            "Epoch 294/10000\n",
            "8032/8064 [============================>.] - ETA: 0s - loss: 0.0012 - mean_absolute_error: 0.0270 - mean_squared_error: 0.0012\n",
            "Epoch 00294: val_loss did not improve from 0.00011\n",
            "8064/8064 [==============================] - 24s 3ms/sample - loss: 0.0012 - mean_absolute_error: 0.0270 - mean_squared_error: 0.0012 - val_loss: 2.4938e-04 - val_mean_absolute_error: 0.0129 - val_mean_squared_error: 2.3490e-04\n",
            "Epoch 295/10000\n",
            "8032/8064 [============================>.] - ETA: 0s - loss: 0.0012 - mean_absolute_error: 0.0277 - mean_squared_error: 0.0012\n",
            "Epoch 00295: val_loss did not improve from 0.00011\n",
            "8064/8064 [==============================] - 24s 3ms/sample - loss: 0.0012 - mean_absolute_error: 0.0277 - mean_squared_error: 0.0012 - val_loss: 3.7462e-04 - val_mean_absolute_error: 0.0167 - val_mean_squared_error: 3.6041e-04\n",
            "Epoch 296/10000\n",
            "8032/8064 [============================>.] - ETA: 0s - loss: 0.0011 - mean_absolute_error: 0.0267 - mean_squared_error: 0.0011\n",
            "Epoch 00296: val_loss did not improve from 0.00011\n",
            "8064/8064 [==============================] - 24s 3ms/sample - loss: 0.0011 - mean_absolute_error: 0.0268 - mean_squared_error: 0.0011 - val_loss: 1.1275e-04 - val_mean_absolute_error: 0.0076 - val_mean_squared_error: 9.8581e-05\n",
            "Epoch 297/10000\n",
            "8032/8064 [============================>.] - ETA: 0s - loss: 0.0011 - mean_absolute_error: 0.0274 - mean_squared_error: 0.0011\n",
            "Epoch 00297: val_loss did not improve from 0.00011\n",
            "8064/8064 [==============================] - 24s 3ms/sample - loss: 0.0011 - mean_absolute_error: 0.0274 - mean_squared_error: 0.0011 - val_loss: 1.1456e-04 - val_mean_absolute_error: 0.0076 - val_mean_squared_error: 1.0051e-04\n",
            "Epoch 298/10000\n",
            "8032/8064 [============================>.] - ETA: 0s - loss: 0.0012 - mean_absolute_error: 0.0278 - mean_squared_error: 0.0012\n",
            "Epoch 00298: val_loss did not improve from 0.00011\n",
            "8064/8064 [==============================] - 23s 3ms/sample - loss: 0.0012 - mean_absolute_error: 0.0277 - mean_squared_error: 0.0012 - val_loss: 1.3671e-04 - val_mean_absolute_error: 0.0087 - val_mean_squared_error: 1.2277e-04\n",
            "Epoch 299/10000\n",
            "8032/8064 [============================>.] - ETA: 0s - loss: 0.0014 - mean_absolute_error: 0.0299 - mean_squared_error: 0.0014\n",
            "Epoch 00299: val_loss did not improve from 0.00011\n",
            "8064/8064 [==============================] - 23s 3ms/sample - loss: 0.0014 - mean_absolute_error: 0.0299 - mean_squared_error: 0.0014 - val_loss: 3.0389e-04 - val_mean_absolute_error: 0.0146 - val_mean_squared_error: 2.9001e-04\n",
            "Epoch 300/10000\n",
            "8032/8064 [============================>.] - ETA: 0s - loss: 0.0012 - mean_absolute_error: 0.0276 - mean_squared_error: 0.0012\n",
            "Epoch 00300: val_loss did not improve from 0.00011\n",
            "8064/8064 [==============================] - 23s 3ms/sample - loss: 0.0012 - mean_absolute_error: 0.0275 - mean_squared_error: 0.0012 - val_loss: 3.0459e-04 - val_mean_absolute_error: 0.0147 - val_mean_squared_error: 2.9097e-04\n",
            "Epoch 301/10000\n",
            "8032/8064 [============================>.] - ETA: 0s - loss: 0.0012 - mean_absolute_error: 0.0270 - mean_squared_error: 0.0012\n",
            "Epoch 00301: val_loss did not improve from 0.00011\n",
            "8064/8064 [==============================] - 23s 3ms/sample - loss: 0.0012 - mean_absolute_error: 0.0271 - mean_squared_error: 0.0012 - val_loss: 2.2939e-04 - val_mean_absolute_error: 0.0123 - val_mean_squared_error: 2.1585e-04\n",
            "Epoch 302/10000\n",
            "8032/8064 [============================>.] - ETA: 0s - loss: 0.0013 - mean_absolute_error: 0.0288 - mean_squared_error: 0.0013\n",
            "Epoch 00302: val_loss did not improve from 0.00011\n",
            "8064/8064 [==============================] - 23s 3ms/sample - loss: 0.0013 - mean_absolute_error: 0.0287 - mean_squared_error: 0.0013 - val_loss: 9.4385e-04 - val_mean_absolute_error: 0.0289 - val_mean_squared_error: 9.3051e-04\n",
            "Epoch 303/10000\n",
            "8032/8064 [============================>.] - ETA: 0s - loss: 0.0012 - mean_absolute_error: 0.0281 - mean_squared_error: 0.0012\n",
            "Epoch 00303: val_loss improved from 0.00011 to 0.00011, saving model to /content/gdrive/My Drive/deep_learning/_data/numpy_arrays/model_1.hdf5\n",
            "8064/8064 [==============================] - 23s 3ms/sample - loss: 0.0012 - mean_absolute_error: 0.0281 - mean_squared_error: 0.0012 - val_loss: 1.1048e-04 - val_mean_absolute_error: 0.0075 - val_mean_squared_error: 9.7113e-05\n",
            "Epoch 304/10000\n",
            "8032/8064 [============================>.] - ETA: 0s - loss: 0.0013 - mean_absolute_error: 0.0292 - mean_squared_error: 0.0013\n",
            "Epoch 00304: val_loss did not improve from 0.00011\n",
            "8064/8064 [==============================] - 22s 3ms/sample - loss: 0.0013 - mean_absolute_error: 0.0292 - mean_squared_error: 0.0013 - val_loss: 1.8200e-04 - val_mean_absolute_error: 0.0106 - val_mean_squared_error: 1.6877e-04\n",
            "Epoch 305/10000\n",
            "8032/8064 [============================>.] - ETA: 0s - loss: 0.0015 - mean_absolute_error: 0.0308 - mean_squared_error: 0.0015\n",
            "Epoch 00305: val_loss did not improve from 0.00011\n",
            "8064/8064 [==============================] - 23s 3ms/sample - loss: 0.0015 - mean_absolute_error: 0.0307 - mean_squared_error: 0.0015 - val_loss: 1.9794e-04 - val_mean_absolute_error: 0.0112 - val_mean_squared_error: 1.8482e-04\n",
            "Epoch 306/10000\n",
            "8032/8064 [============================>.] - ETA: 0s - loss: 0.0013 - mean_absolute_error: 0.0288 - mean_squared_error: 0.0013\n",
            "Epoch 00306: val_loss did not improve from 0.00011\n",
            "8064/8064 [==============================] - 23s 3ms/sample - loss: 0.0013 - mean_absolute_error: 0.0289 - mean_squared_error: 0.0013 - val_loss: 2.2770e-04 - val_mean_absolute_error: 0.0123 - val_mean_squared_error: 2.1468e-04\n",
            "Epoch 307/10000\n",
            "8032/8064 [============================>.] - ETA: 0s - loss: 0.0012 - mean_absolute_error: 0.0278 - mean_squared_error: 0.0012\n",
            "Epoch 00307: val_loss did not improve from 0.00011\n",
            "8064/8064 [==============================] - 22s 3ms/sample - loss: 0.0012 - mean_absolute_error: 0.0277 - mean_squared_error: 0.0012 - val_loss: 1.1631e-04 - val_mean_absolute_error: 0.0078 - val_mean_squared_error: 1.0334e-04\n",
            "Epoch 308/10000\n",
            "8032/8064 [============================>.] - ETA: 0s - loss: 0.0013 - mean_absolute_error: 0.0288 - mean_squared_error: 0.0013\n",
            "Epoch 00308: val_loss did not improve from 0.00011\n",
            "8064/8064 [==============================] - 22s 3ms/sample - loss: 0.0013 - mean_absolute_error: 0.0288 - mean_squared_error: 0.0013 - val_loss: 2.1598e-04 - val_mean_absolute_error: 0.0118 - val_mean_squared_error: 2.0302e-04\n",
            "Epoch 309/10000\n",
            "8032/8064 [============================>.] - ETA: 0s - loss: 0.0012 - mean_absolute_error: 0.0279 - mean_squared_error: 0.0012\n",
            "Epoch 00309: val_loss improved from 0.00011 to 0.00011, saving model to /content/gdrive/My Drive/deep_learning/_data/numpy_arrays/model_1.hdf5\n",
            "8064/8064 [==============================] - 23s 3ms/sample - loss: 0.0012 - mean_absolute_error: 0.0279 - mean_squared_error: 0.0012 - val_loss: 1.0885e-04 - val_mean_absolute_error: 0.0075 - val_mean_squared_error: 9.6034e-05\n",
            "Epoch 310/10000\n",
            "8032/8064 [============================>.] - ETA: 0s - loss: 0.0012 - mean_absolute_error: 0.0268 - mean_squared_error: 0.0011\n",
            "Epoch 00310: val_loss did not improve from 0.00011\n",
            "8064/8064 [==============================] - 22s 3ms/sample - loss: 0.0012 - mean_absolute_error: 0.0268 - mean_squared_error: 0.0011 - val_loss: 1.2055e-04 - val_mean_absolute_error: 0.0080 - val_mean_squared_error: 1.0781e-04\n",
            "Epoch 311/10000\n",
            "8032/8064 [============================>.] - ETA: 0s - loss: 0.0013 - mean_absolute_error: 0.0291 - mean_squared_error: 0.0013\n",
            "Epoch 00311: val_loss did not improve from 0.00011\n",
            "8064/8064 [==============================] - 23s 3ms/sample - loss: 0.0013 - mean_absolute_error: 0.0291 - mean_squared_error: 0.0013 - val_loss: 4.5691e-04 - val_mean_absolute_error: 0.0189 - val_mean_squared_error: 4.4418e-04\n",
            "Epoch 312/10000\n",
            "8032/8064 [============================>.] - ETA: 0s - loss: 0.0012 - mean_absolute_error: 0.0287 - mean_squared_error: 0.0012\n",
            "Epoch 00312: val_loss did not improve from 0.00011\n",
            "8064/8064 [==============================] - 23s 3ms/sample - loss: 0.0012 - mean_absolute_error: 0.0288 - mean_squared_error: 0.0012 - val_loss: 2.0929e-04 - val_mean_absolute_error: 0.0116 - val_mean_squared_error: 1.9679e-04\n",
            "Epoch 313/10000\n",
            "8032/8064 [============================>.] - ETA: 0s - loss: 0.0012 - mean_absolute_error: 0.0277 - mean_squared_error: 0.0012\n",
            "Epoch 00313: val_loss did not improve from 0.00011\n",
            "8064/8064 [==============================] - 24s 3ms/sample - loss: 0.0012 - mean_absolute_error: 0.0276 - mean_squared_error: 0.0012 - val_loss: 2.8886e-04 - val_mean_absolute_error: 0.0142 - val_mean_squared_error: 2.7632e-04\n",
            "Epoch 314/10000\n",
            "8032/8064 [============================>.] - ETA: 0s - loss: 0.0014 - mean_absolute_error: 0.0293 - mean_squared_error: 0.0013\n",
            "Epoch 00314: val_loss did not improve from 0.00011\n",
            "8064/8064 [==============================] - 24s 3ms/sample - loss: 0.0014 - mean_absolute_error: 0.0294 - mean_squared_error: 0.0013 - val_loss: 2.9268e-04 - val_mean_absolute_error: 0.0144 - val_mean_squared_error: 2.8034e-04\n",
            "Epoch 315/10000\n",
            "8032/8064 [============================>.] - ETA: 0s - loss: 0.0012 - mean_absolute_error: 0.0275 - mean_squared_error: 0.0012\n",
            "Epoch 00315: val_loss improved from 0.00011 to 0.00011, saving model to /content/gdrive/My Drive/deep_learning/_data/numpy_arrays/model_1.hdf5\n",
            "8064/8064 [==============================] - 23s 3ms/sample - loss: 0.0012 - mean_absolute_error: 0.0275 - mean_squared_error: 0.0012 - val_loss: 1.0866e-04 - val_mean_absolute_error: 0.0075 - val_mean_squared_error: 9.6328e-05\n",
            "Epoch 316/10000\n",
            "8032/8064 [============================>.] - ETA: 0s - loss: 0.0012 - mean_absolute_error: 0.0280 - mean_squared_error: 0.0012\n",
            "Epoch 00316: val_loss did not improve from 0.00011\n",
            "8064/8064 [==============================] - 22s 3ms/sample - loss: 0.0012 - mean_absolute_error: 0.0280 - mean_squared_error: 0.0012 - val_loss: 1.5688e-04 - val_mean_absolute_error: 0.0096 - val_mean_squared_error: 1.4458e-04\n",
            "Epoch 317/10000\n",
            "8032/8064 [============================>.] - ETA: 0s - loss: 0.0012 - mean_absolute_error: 0.0278 - mean_squared_error: 0.0012\n",
            "Epoch 00317: val_loss did not improve from 0.00011\n",
            "8064/8064 [==============================] - 22s 3ms/sample - loss: 0.0012 - mean_absolute_error: 0.0279 - mean_squared_error: 0.0012 - val_loss: 3.0783e-04 - val_mean_absolute_error: 0.0148 - val_mean_squared_error: 2.9557e-04\n",
            "Epoch 318/10000\n",
            "8032/8064 [============================>.] - ETA: 0s - loss: 0.0012 - mean_absolute_error: 0.0285 - mean_squared_error: 0.0012\n",
            "Epoch 00318: val_loss did not improve from 0.00011\n",
            "8064/8064 [==============================] - 23s 3ms/sample - loss: 0.0012 - mean_absolute_error: 0.0284 - mean_squared_error: 0.0012 - val_loss: 1.6428e-04 - val_mean_absolute_error: 0.0099 - val_mean_squared_error: 1.5220e-04\n",
            "Epoch 319/10000\n",
            "8032/8064 [============================>.] - ETA: 0s - loss: 0.0012 - mean_absolute_error: 0.0273 - mean_squared_error: 0.0012\n",
            "Epoch 00319: val_loss did not improve from 0.00011\n",
            "8064/8064 [==============================] - 24s 3ms/sample - loss: 0.0012 - mean_absolute_error: 0.0273 - mean_squared_error: 0.0011 - val_loss: 1.4608e-04 - val_mean_absolute_error: 0.0091 - val_mean_squared_error: 1.3400e-04\n",
            "Epoch 320/10000\n",
            "8032/8064 [============================>.] - ETA: 0s - loss: 0.0013 - mean_absolute_error: 0.0286 - mean_squared_error: 0.0013\n",
            "Epoch 00320: val_loss did not improve from 0.00011\n",
            "8064/8064 [==============================] - 23s 3ms/sample - loss: 0.0013 - mean_absolute_error: 0.0287 - mean_squared_error: 0.0013 - val_loss: 4.6224e-04 - val_mean_absolute_error: 0.0190 - val_mean_squared_error: 4.5016e-04\n",
            "Epoch 321/10000\n",
            "8032/8064 [============================>.] - ETA: 0s - loss: 0.0014 - mean_absolute_error: 0.0295 - mean_squared_error: 0.0014\n",
            "Epoch 00321: val_loss did not improve from 0.00011\n",
            "8064/8064 [==============================] - 24s 3ms/sample - loss: 0.0014 - mean_absolute_error: 0.0296 - mean_squared_error: 0.0014 - val_loss: 1.4715e-04 - val_mean_absolute_error: 0.0092 - val_mean_squared_error: 1.3525e-04\n",
            "Epoch 322/10000\n",
            "8032/8064 [============================>.] - ETA: 0s - loss: 0.0012 - mean_absolute_error: 0.0277 - mean_squared_error: 0.0012\n",
            "Epoch 00322: val_loss did not improve from 0.00011\n",
            "8064/8064 [==============================] - 23s 3ms/sample - loss: 0.0012 - mean_absolute_error: 0.0277 - mean_squared_error: 0.0012 - val_loss: 1.8423e-04 - val_mean_absolute_error: 0.0107 - val_mean_squared_error: 1.7241e-04\n",
            "Epoch 323/10000\n",
            "8032/8064 [============================>.] - ETA: 0s - loss: 0.0012 - mean_absolute_error: 0.0274 - mean_squared_error: 0.0011\n",
            "Epoch 00323: val_loss did not improve from 0.00011\n",
            "8064/8064 [==============================] - 24s 3ms/sample - loss: 0.0012 - mean_absolute_error: 0.0274 - mean_squared_error: 0.0011 - val_loss: 2.3266e-04 - val_mean_absolute_error: 0.0125 - val_mean_squared_error: 2.2090e-04\n",
            "Epoch 324/10000\n",
            "8032/8064 [============================>.] - ETA: 0s - loss: 0.0013 - mean_absolute_error: 0.0289 - mean_squared_error: 0.0013\n",
            "Epoch 00324: val_loss improved from 0.00011 to 0.00011, saving model to /content/gdrive/My Drive/deep_learning/_data/numpy_arrays/model_1.hdf5\n",
            "8064/8064 [==============================] - 24s 3ms/sample - loss: 0.0013 - mean_absolute_error: 0.0288 - mean_squared_error: 0.0013 - val_loss: 1.0767e-04 - val_mean_absolute_error: 0.0075 - val_mean_squared_error: 9.5926e-05\n",
            "Epoch 325/10000\n",
            "8032/8064 [============================>.] - ETA: 0s - loss: 0.0014 - mean_absolute_error: 0.0302 - mean_squared_error: 0.0014\n",
            "Epoch 00325: val_loss did not improve from 0.00011\n",
            "8064/8064 [==============================] - 24s 3ms/sample - loss: 0.0014 - mean_absolute_error: 0.0301 - mean_squared_error: 0.0014 - val_loss: 2.4099e-04 - val_mean_absolute_error: 0.0128 - val_mean_squared_error: 2.2936e-04\n",
            "Epoch 326/10000\n",
            "8032/8064 [============================>.] - ETA: 0s - loss: 0.0012 - mean_absolute_error: 0.0275 - mean_squared_error: 0.0012\n",
            "Epoch 00326: val_loss did not improve from 0.00011\n",
            "8064/8064 [==============================] - 24s 3ms/sample - loss: 0.0012 - mean_absolute_error: 0.0276 - mean_squared_error: 0.0012 - val_loss: 1.1515e-04 - val_mean_absolute_error: 0.0078 - val_mean_squared_error: 1.0351e-04\n",
            "Epoch 327/10000\n",
            "8032/8064 [============================>.] - ETA: 0s - loss: 0.0012 - mean_absolute_error: 0.0275 - mean_squared_error: 0.0012\n",
            "Epoch 00327: val_loss did not improve from 0.00011\n",
            "8064/8064 [==============================] - 23s 3ms/sample - loss: 0.0012 - mean_absolute_error: 0.0275 - mean_squared_error: 0.0012 - val_loss: 1.3119e-04 - val_mean_absolute_error: 0.0085 - val_mean_squared_error: 1.1964e-04\n",
            "Epoch 328/10000\n",
            "8032/8064 [============================>.] - ETA: 0s - loss: 0.0012 - mean_absolute_error: 0.0268 - mean_squared_error: 0.0012\n",
            "Epoch 00328: val_loss did not improve from 0.00011\n",
            "8064/8064 [==============================] - 24s 3ms/sample - loss: 0.0012 - mean_absolute_error: 0.0268 - mean_squared_error: 0.0012 - val_loss: 1.8265e-04 - val_mean_absolute_error: 0.0107 - val_mean_squared_error: 1.7117e-04\n",
            "Epoch 329/10000\n",
            "8032/8064 [============================>.] - ETA: 0s - loss: 0.0012 - mean_absolute_error: 0.0275 - mean_squared_error: 0.0012\n",
            "Epoch 00329: val_loss did not improve from 0.00011\n",
            "8064/8064 [==============================] - 24s 3ms/sample - loss: 0.0012 - mean_absolute_error: 0.0276 - mean_squared_error: 0.0012 - val_loss: 1.2107e-04 - val_mean_absolute_error: 0.0081 - val_mean_squared_error: 1.0959e-04\n",
            "Epoch 330/10000\n",
            "8032/8064 [============================>.] - ETA: 0s - loss: 0.0012 - mean_absolute_error: 0.0277 - mean_squared_error: 0.0012\n",
            "Epoch 00330: val_loss did not improve from 0.00011\n",
            "8064/8064 [==============================] - 24s 3ms/sample - loss: 0.0012 - mean_absolute_error: 0.0278 - mean_squared_error: 0.0012 - val_loss: 1.2745e-04 - val_mean_absolute_error: 0.0084 - val_mean_squared_error: 1.1601e-04\n",
            "Epoch 331/10000\n",
            "8032/8064 [============================>.] - ETA: 0s - loss: 0.0013 - mean_absolute_error: 0.0285 - mean_squared_error: 0.0013\n",
            "Epoch 00331: val_loss did not improve from 0.00011\n",
            "8064/8064 [==============================] - 24s 3ms/sample - loss: 0.0013 - mean_absolute_error: 0.0285 - mean_squared_error: 0.0013 - val_loss: 1.0801e-04 - val_mean_absolute_error: 0.0075 - val_mean_squared_error: 9.6644e-05\n",
            "Epoch 332/10000\n",
            "8032/8064 [============================>.] - ETA: 0s - loss: 0.0012 - mean_absolute_error: 0.0267 - mean_squared_error: 0.0011\n",
            "Epoch 00332: val_loss did not improve from 0.00011\n",
            "8064/8064 [==============================] - 24s 3ms/sample - loss: 0.0012 - mean_absolute_error: 0.0266 - mean_squared_error: 0.0011 - val_loss: 1.8833e-04 - val_mean_absolute_error: 0.0108 - val_mean_squared_error: 1.7697e-04\n",
            "Epoch 333/10000\n",
            "8032/8064 [============================>.] - ETA: 0s - loss: 0.0012 - mean_absolute_error: 0.0283 - mean_squared_error: 0.0012\n",
            "Epoch 00333: val_loss did not improve from 0.00011\n",
            "8064/8064 [==============================] - 23s 3ms/sample - loss: 0.0012 - mean_absolute_error: 0.0285 - mean_squared_error: 0.0012 - val_loss: 1.0775e-04 - val_mean_absolute_error: 0.0075 - val_mean_squared_error: 9.6487e-05\n",
            "Epoch 334/10000\n",
            "8032/8064 [============================>.] - ETA: 0s - loss: 0.0011 - mean_absolute_error: 0.0262 - mean_squared_error: 0.0011\n",
            "Epoch 00334: val_loss did not improve from 0.00011\n",
            "8064/8064 [==============================] - 23s 3ms/sample - loss: 0.0011 - mean_absolute_error: 0.0261 - mean_squared_error: 0.0011 - val_loss: 1.2326e-04 - val_mean_absolute_error: 0.0082 - val_mean_squared_error: 1.1207e-04\n",
            "Epoch 335/10000\n",
            "8032/8064 [============================>.] - ETA: 0s - loss: 0.0012 - mean_absolute_error: 0.0278 - mean_squared_error: 0.0012\n",
            "Epoch 00335: val_loss did not improve from 0.00011\n",
            "8064/8064 [==============================] - 23s 3ms/sample - loss: 0.0012 - mean_absolute_error: 0.0279 - mean_squared_error: 0.0012 - val_loss: 1.3311e-04 - val_mean_absolute_error: 0.0086 - val_mean_squared_error: 1.2197e-04\n",
            "Epoch 336/10000\n",
            "8032/8064 [============================>.] - ETA: 0s - loss: 0.0013 - mean_absolute_error: 0.0283 - mean_squared_error: 0.0013\n",
            "Epoch 00336: val_loss did not improve from 0.00011\n",
            "8064/8064 [==============================] - 23s 3ms/sample - loss: 0.0013 - mean_absolute_error: 0.0283 - mean_squared_error: 0.0013 - val_loss: 1.4128e-04 - val_mean_absolute_error: 0.0090 - val_mean_squared_error: 1.3018e-04\n",
            "Epoch 337/10000\n",
            "8032/8064 [============================>.] - ETA: 0s - loss: 0.0013 - mean_absolute_error: 0.0288 - mean_squared_error: 0.0013\n",
            "Epoch 00337: val_loss did not improve from 0.00011\n",
            "8064/8064 [==============================] - 23s 3ms/sample - loss: 0.0013 - mean_absolute_error: 0.0288 - mean_squared_error: 0.0013 - val_loss: 2.2598e-04 - val_mean_absolute_error: 0.0123 - val_mean_squared_error: 2.1495e-04\n",
            "Epoch 338/10000\n",
            "8032/8064 [============================>.] - ETA: 0s - loss: 0.0014 - mean_absolute_error: 0.0288 - mean_squared_error: 0.0013\n",
            "Epoch 00338: val_loss did not improve from 0.00011\n",
            "8064/8064 [==============================] - 23s 3ms/sample - loss: 0.0014 - mean_absolute_error: 0.0288 - mean_squared_error: 0.0013 - val_loss: 9.1596e-04 - val_mean_absolute_error: 0.0284 - val_mean_squared_error: 9.0478e-04\n",
            "Epoch 339/10000\n",
            "8032/8064 [============================>.] - ETA: 0s - loss: 0.0013 - mean_absolute_error: 0.0288 - mean_squared_error: 0.0013\n",
            "Epoch 00339: val_loss did not improve from 0.00011\n",
            "8064/8064 [==============================] - 23s 3ms/sample - loss: 0.0013 - mean_absolute_error: 0.0287 - mean_squared_error: 0.0013 - val_loss: 1.1794e-04 - val_mean_absolute_error: 0.0080 - val_mean_squared_error: 1.0697e-04\n",
            "Epoch 340/10000\n",
            "8032/8064 [============================>.] - ETA: 0s - loss: 0.0012 - mean_absolute_error: 0.0272 - mean_squared_error: 0.0012\n",
            "Epoch 00340: val_loss did not improve from 0.00011\n",
            "8064/8064 [==============================] - 23s 3ms/sample - loss: 0.0012 - mean_absolute_error: 0.0273 - mean_squared_error: 0.0012 - val_loss: 1.2899e-04 - val_mean_absolute_error: 0.0084 - val_mean_squared_error: 1.1801e-04\n",
            "Epoch 341/10000\n",
            "8032/8064 [============================>.] - ETA: 0s - loss: 0.0012 - mean_absolute_error: 0.0274 - mean_squared_error: 0.0012\n",
            "Epoch 00341: val_loss did not improve from 0.00011\n",
            "8064/8064 [==============================] - 23s 3ms/sample - loss: 0.0012 - mean_absolute_error: 0.0275 - mean_squared_error: 0.0012 - val_loss: 2.4621e-04 - val_mean_absolute_error: 0.0129 - val_mean_squared_error: 2.3523e-04\n",
            "Epoch 342/10000\n",
            "8032/8064 [============================>.] - ETA: 0s - loss: 0.0014 - mean_absolute_error: 0.0300 - mean_squared_error: 0.0014\n",
            "Epoch 00342: val_loss did not improve from 0.00011\n",
            "8064/8064 [==============================] - 23s 3ms/sample - loss: 0.0014 - mean_absolute_error: 0.0299 - mean_squared_error: 0.0014 - val_loss: 1.3905e-04 - val_mean_absolute_error: 0.0089 - val_mean_squared_error: 1.2814e-04\n",
            "Epoch 343/10000\n",
            "8032/8064 [============================>.] - ETA: 0s - loss: 0.0012 - mean_absolute_error: 0.0278 - mean_squared_error: 0.0012\n",
            "Epoch 00343: val_loss improved from 0.00011 to 0.00011, saving model to /content/gdrive/My Drive/deep_learning/_data/numpy_arrays/model_1.hdf5\n",
            "8064/8064 [==============================] - 24s 3ms/sample - loss: 0.0012 - mean_absolute_error: 0.0277 - mean_squared_error: 0.0012 - val_loss: 1.0675e-04 - val_mean_absolute_error: 0.0075 - val_mean_squared_error: 9.5902e-05\n",
            "Epoch 344/10000\n",
            "8032/8064 [============================>.] - ETA: 0s - loss: 0.0014 - mean_absolute_error: 0.0299 - mean_squared_error: 0.0014\n",
            "Epoch 00344: val_loss did not improve from 0.00011\n",
            "8064/8064 [==============================] - 24s 3ms/sample - loss: 0.0014 - mean_absolute_error: 0.0300 - mean_squared_error: 0.0014 - val_loss: 1.8719e-04 - val_mean_absolute_error: 0.0108 - val_mean_squared_error: 1.7634e-04\n",
            "Epoch 345/10000\n",
            "8032/8064 [============================>.] - ETA: 0s - loss: 0.0013 - mean_absolute_error: 0.0280 - mean_squared_error: 0.0012\n",
            "Epoch 00345: val_loss did not improve from 0.00011\n",
            "8064/8064 [==============================] - 24s 3ms/sample - loss: 0.0013 - mean_absolute_error: 0.0280 - mean_squared_error: 0.0013 - val_loss: 1.0920e-04 - val_mean_absolute_error: 0.0076 - val_mean_squared_error: 9.8421e-05\n",
            "Epoch 346/10000\n",
            "8032/8064 [============================>.] - ETA: 0s - loss: 0.0012 - mean_absolute_error: 0.0278 - mean_squared_error: 0.0012\n",
            "Epoch 00346: val_loss improved from 0.00011 to 0.00011, saving model to /content/gdrive/My Drive/deep_learning/_data/numpy_arrays/model_1.hdf5\n",
            "8064/8064 [==============================] - 24s 3ms/sample - loss: 0.0012 - mean_absolute_error: 0.0278 - mean_squared_error: 0.0012 - val_loss: 1.0674e-04 - val_mean_absolute_error: 0.0075 - val_mean_squared_error: 9.5992e-05\n",
            "Epoch 347/10000\n",
            "8032/8064 [============================>.] - ETA: 0s - loss: 0.0013 - mean_absolute_error: 0.0292 - mean_squared_error: 0.0013\n",
            "Epoch 00347: val_loss did not improve from 0.00011\n",
            "8064/8064 [==============================] - 24s 3ms/sample - loss: 0.0013 - mean_absolute_error: 0.0292 - mean_squared_error: 0.0013 - val_loss: 1.1529e-04 - val_mean_absolute_error: 0.0078 - val_mean_squared_error: 1.0457e-04\n",
            "Epoch 348/10000\n",
            "8032/8064 [============================>.] - ETA: 0s - loss: 0.0014 - mean_absolute_error: 0.0291 - mean_squared_error: 0.0014\n",
            "Epoch 00348: val_loss did not improve from 0.00011\n",
            "8064/8064 [==============================] - 24s 3ms/sample - loss: 0.0014 - mean_absolute_error: 0.0292 - mean_squared_error: 0.0014 - val_loss: 1.2466e-04 - val_mean_absolute_error: 0.0083 - val_mean_squared_error: 1.1396e-04\n",
            "Epoch 349/10000\n",
            "8032/8064 [============================>.] - ETA: 0s - loss: 0.0012 - mean_absolute_error: 0.0274 - mean_squared_error: 0.0012\n",
            "Epoch 00349: val_loss did not improve from 0.00011\n",
            "8064/8064 [==============================] - 24s 3ms/sample - loss: 0.0012 - mean_absolute_error: 0.0276 - mean_squared_error: 0.0012 - val_loss: 1.7731e-04 - val_mean_absolute_error: 0.0104 - val_mean_squared_error: 1.6662e-04\n",
            "Epoch 350/10000\n",
            "8032/8064 [============================>.] - ETA: 0s - loss: 0.0011 - mean_absolute_error: 0.0263 - mean_squared_error: 0.0011\n",
            "Epoch 00350: val_loss did not improve from 0.00011\n",
            "8064/8064 [==============================] - 23s 3ms/sample - loss: 0.0011 - mean_absolute_error: 0.0264 - mean_squared_error: 0.0011 - val_loss: 2.0479e-04 - val_mean_absolute_error: 0.0115 - val_mean_squared_error: 1.9412e-04\n",
            "Epoch 351/10000\n",
            "8032/8064 [============================>.] - ETA: 0s - loss: 0.0013 - mean_absolute_error: 0.0288 - mean_squared_error: 0.0013\n",
            "Epoch 00351: val_loss did not improve from 0.00011\n",
            "8064/8064 [==============================] - 23s 3ms/sample - loss: 0.0013 - mean_absolute_error: 0.0288 - mean_squared_error: 0.0013 - val_loss: 1.0676e-04 - val_mean_absolute_error: 0.0075 - val_mean_squared_error: 9.6169e-05\n",
            "Epoch 352/10000\n",
            "8032/8064 [============================>.] - ETA: 0s - loss: 0.0013 - mean_absolute_error: 0.0284 - mean_squared_error: 0.0013\n",
            "Epoch 00352: val_loss did not improve from 0.00011\n",
            "8064/8064 [==============================] - 23s 3ms/sample - loss: 0.0013 - mean_absolute_error: 0.0284 - mean_squared_error: 0.0013 - val_loss: 1.1791e-04 - val_mean_absolute_error: 0.0080 - val_mean_squared_error: 1.0737e-04\n",
            "Epoch 353/10000\n",
            "8032/8064 [============================>.] - ETA: 0s - loss: 0.0013 - mean_absolute_error: 0.0286 - mean_squared_error: 0.0013\n",
            "Epoch 00353: val_loss did not improve from 0.00011\n",
            "8064/8064 [==============================] - 23s 3ms/sample - loss: 0.0013 - mean_absolute_error: 0.0286 - mean_squared_error: 0.0013 - val_loss: 1.0769e-04 - val_mean_absolute_error: 0.0075 - val_mean_squared_error: 9.7159e-05\n",
            "Epoch 354/10000\n",
            "8032/8064 [============================>.] - ETA: 0s - loss: 0.0011 - mean_absolute_error: 0.0266 - mean_squared_error: 0.0011\n",
            "Epoch 00354: val_loss did not improve from 0.00011\n",
            "8064/8064 [==============================] - 24s 3ms/sample - loss: 0.0011 - mean_absolute_error: 0.0265 - mean_squared_error: 0.0011 - val_loss: 7.2322e-04 - val_mean_absolute_error: 0.0248 - val_mean_squared_error: 7.1260e-04\n",
            "Epoch 355/10000\n",
            "8032/8064 [============================>.] - ETA: 0s - loss: 0.0012 - mean_absolute_error: 0.0270 - mean_squared_error: 0.0012\n",
            "Epoch 00355: val_loss did not improve from 0.00011\n",
            "8064/8064 [==============================] - 23s 3ms/sample - loss: 0.0012 - mean_absolute_error: 0.0269 - mean_squared_error: 0.0012 - val_loss: 1.0832e-04 - val_mean_absolute_error: 0.0076 - val_mean_squared_error: 9.7857e-05\n",
            "Epoch 356/10000\n",
            "8032/8064 [============================>.] - ETA: 0s - loss: 0.0013 - mean_absolute_error: 0.0287 - mean_squared_error: 0.0013\n",
            "Epoch 00356: val_loss did not improve from 0.00011\n",
            "8064/8064 [==============================] - 23s 3ms/sample - loss: 0.0013 - mean_absolute_error: 0.0286 - mean_squared_error: 0.0013 - val_loss: 1.4087e-04 - val_mean_absolute_error: 0.0090 - val_mean_squared_error: 1.3045e-04\n",
            "Epoch 357/10000\n",
            "8032/8064 [============================>.] - ETA: 0s - loss: 0.0014 - mean_absolute_error: 0.0302 - mean_squared_error: 0.0014\n",
            "Epoch 00357: val_loss improved from 0.00011 to 0.00011, saving model to /content/gdrive/My Drive/deep_learning/_data/numpy_arrays/model_1.hdf5\n",
            "8064/8064 [==============================] - 24s 3ms/sample - loss: 0.0014 - mean_absolute_error: 0.0303 - mean_squared_error: 0.0014 - val_loss: 1.0639e-04 - val_mean_absolute_error: 0.0075 - val_mean_squared_error: 9.5969e-05\n",
            "Epoch 358/10000\n",
            "8032/8064 [============================>.] - ETA: 0s - loss: 0.0013 - mean_absolute_error: 0.0282 - mean_squared_error: 0.0013\n",
            "Epoch 00358: val_loss did not improve from 0.00011\n",
            "8064/8064 [==============================] - 23s 3ms/sample - loss: 0.0013 - mean_absolute_error: 0.0282 - mean_squared_error: 0.0013 - val_loss: 2.1141e-04 - val_mean_absolute_error: 0.0118 - val_mean_squared_error: 2.0107e-04\n",
            "Epoch 359/10000\n",
            "8032/8064 [============================>.] - ETA: 0s - loss: 0.0013 - mean_absolute_error: 0.0278 - mean_squared_error: 0.0013\n",
            "Epoch 00359: val_loss did not improve from 0.00011\n",
            "8064/8064 [==============================] - 24s 3ms/sample - loss: 0.0013 - mean_absolute_error: 0.0278 - mean_squared_error: 0.0013 - val_loss: 4.7325e-04 - val_mean_absolute_error: 0.0193 - val_mean_squared_error: 4.6278e-04\n",
            "Epoch 360/10000\n",
            "8032/8064 [============================>.] - ETA: 0s - loss: 0.0013 - mean_absolute_error: 0.0289 - mean_squared_error: 0.0013\n",
            "Epoch 00360: val_loss did not improve from 0.00011\n",
            "8064/8064 [==============================] - 24s 3ms/sample - loss: 0.0013 - mean_absolute_error: 0.0289 - mean_squared_error: 0.0013 - val_loss: 2.1123e-04 - val_mean_absolute_error: 0.0118 - val_mean_squared_error: 2.0093e-04\n",
            "Epoch 361/10000\n",
            "8032/8064 [============================>.] - ETA: 0s - loss: 0.0011 - mean_absolute_error: 0.0260 - mean_squared_error: 0.0011\n",
            "Epoch 00361: val_loss did not improve from 0.00011\n",
            "8064/8064 [==============================] - 23s 3ms/sample - loss: 0.0011 - mean_absolute_error: 0.0260 - mean_squared_error: 0.0011 - val_loss: 1.3471e-04 - val_mean_absolute_error: 0.0087 - val_mean_squared_error: 1.2437e-04\n",
            "Epoch 362/10000\n",
            "8032/8064 [============================>.] - ETA: 0s - loss: 0.0012 - mean_absolute_error: 0.0275 - mean_squared_error: 0.0012\n",
            "Epoch 00362: val_loss did not improve from 0.00011\n",
            "8064/8064 [==============================] - 22s 3ms/sample - loss: 0.0012 - mean_absolute_error: 0.0274 - mean_squared_error: 0.0012 - val_loss: 1.1058e-04 - val_mean_absolute_error: 0.0077 - val_mean_squared_error: 1.0028e-04\n",
            "Epoch 363/10000\n",
            "8032/8064 [============================>.] - ETA: 0s - loss: 0.0012 - mean_absolute_error: 0.0275 - mean_squared_error: 0.0012\n",
            "Epoch 00363: val_loss improved from 0.00011 to 0.00011, saving model to /content/gdrive/My Drive/deep_learning/_data/numpy_arrays/model_1.hdf5\n",
            "8064/8064 [==============================] - 23s 3ms/sample - loss: 0.0012 - mean_absolute_error: 0.0276 - mean_squared_error: 0.0012 - val_loss: 1.0639e-04 - val_mean_absolute_error: 0.0075 - val_mean_squared_error: 9.6108e-05\n",
            "Epoch 364/10000\n",
            "8032/8064 [============================>.] - ETA: 0s - loss: 0.0011 - mean_absolute_error: 0.0269 - mean_squared_error: 0.0011\n",
            "Epoch 00364: val_loss did not improve from 0.00011\n",
            "8064/8064 [==============================] - 24s 3ms/sample - loss: 0.0011 - mean_absolute_error: 0.0268 - mean_squared_error: 0.0011 - val_loss: 9.1933e-04 - val_mean_absolute_error: 0.0285 - val_mean_squared_error: 9.0921e-04\n",
            "Epoch 365/10000\n",
            "8032/8064 [============================>.] - ETA: 0s - loss: 0.0012 - mean_absolute_error: 0.0270 - mean_squared_error: 0.0012\n",
            "Epoch 00365: val_loss did not improve from 0.00011\n",
            "8064/8064 [==============================] - 23s 3ms/sample - loss: 0.0012 - mean_absolute_error: 0.0269 - mean_squared_error: 0.0012 - val_loss: 1.0655e-04 - val_mean_absolute_error: 0.0075 - val_mean_squared_error: 9.6316e-05\n",
            "Epoch 366/10000\n",
            "8032/8064 [============================>.] - ETA: 0s - loss: 0.0011 - mean_absolute_error: 0.0264 - mean_squared_error: 0.0011\n",
            "Epoch 00366: val_loss did not improve from 0.00011\n",
            "8064/8064 [==============================] - 23s 3ms/sample - loss: 0.0011 - mean_absolute_error: 0.0263 - mean_squared_error: 0.0011 - val_loss: 1.0867e-04 - val_mean_absolute_error: 0.0075 - val_mean_squared_error: 9.8444e-05\n",
            "Epoch 367/10000\n",
            "8032/8064 [============================>.] - ETA: 0s - loss: 0.0013 - mean_absolute_error: 0.0284 - mean_squared_error: 0.0012\n",
            "Epoch 00367: val_loss did not improve from 0.00011\n",
            "8064/8064 [==============================] - 23s 3ms/sample - loss: 0.0013 - mean_absolute_error: 0.0283 - mean_squared_error: 0.0012 - val_loss: 1.1897e-04 - val_mean_absolute_error: 0.0080 - val_mean_squared_error: 1.0875e-04\n",
            "Epoch 368/10000\n",
            "8032/8064 [============================>.] - ETA: 0s - loss: 0.0012 - mean_absolute_error: 0.0265 - mean_squared_error: 0.0011\n",
            "Epoch 00368: val_loss did not improve from 0.00011\n",
            "8064/8064 [==============================] - 23s 3ms/sample - loss: 0.0012 - mean_absolute_error: 0.0265 - mean_squared_error: 0.0011 - val_loss: 1.6630e-04 - val_mean_absolute_error: 0.0100 - val_mean_squared_error: 1.5608e-04\n",
            "Epoch 369/10000\n",
            "8032/8064 [============================>.] - ETA: 0s - loss: 0.0014 - mean_absolute_error: 0.0295 - mean_squared_error: 0.0014\n",
            "Epoch 00369: val_loss did not improve from 0.00011\n",
            "8064/8064 [==============================] - 23s 3ms/sample - loss: 0.0014 - mean_absolute_error: 0.0296 - mean_squared_error: 0.0014 - val_loss: 1.2736e-04 - val_mean_absolute_error: 0.0084 - val_mean_squared_error: 1.1722e-04\n",
            "Epoch 370/10000\n",
            "8032/8064 [============================>.] - ETA: 0s - loss: 0.0012 - mean_absolute_error: 0.0275 - mean_squared_error: 0.0012\n",
            "Epoch 00370: val_loss did not improve from 0.00011\n",
            "8064/8064 [==============================] - 23s 3ms/sample - loss: 0.0012 - mean_absolute_error: 0.0275 - mean_squared_error: 0.0012 - val_loss: 4.6963e-04 - val_mean_absolute_error: 0.0193 - val_mean_squared_error: 4.5940e-04\n",
            "Epoch 371/10000\n",
            "8032/8064 [============================>.] - ETA: 0s - loss: 0.0013 - mean_absolute_error: 0.0293 - mean_squared_error: 0.0013\n",
            "Epoch 00371: val_loss did not improve from 0.00011\n",
            "8064/8064 [==============================] - 23s 3ms/sample - loss: 0.0013 - mean_absolute_error: 0.0293 - mean_squared_error: 0.0013 - val_loss: 3.8592e-04 - val_mean_absolute_error: 0.0171 - val_mean_squared_error: 3.7572e-04\n",
            "Epoch 372/10000\n",
            "8032/8064 [============================>.] - ETA: 0s - loss: 0.0012 - mean_absolute_error: 0.0277 - mean_squared_error: 0.0012\n",
            "Epoch 00372: val_loss did not improve from 0.00011\n",
            "8064/8064 [==============================] - 23s 3ms/sample - loss: 0.0012 - mean_absolute_error: 0.0277 - mean_squared_error: 0.0012 - val_loss: 1.3406e-04 - val_mean_absolute_error: 0.0087 - val_mean_squared_error: 1.2394e-04\n",
            "Epoch 373/10000\n",
            "8032/8064 [============================>.] - ETA: 0s - loss: 0.0015 - mean_absolute_error: 0.0308 - mean_squared_error: 0.0015\n",
            "Epoch 00373: val_loss did not improve from 0.00011\n",
            "8064/8064 [==============================] - 24s 3ms/sample - loss: 0.0015 - mean_absolute_error: 0.0308 - mean_squared_error: 0.0015 - val_loss: 5.9601e-04 - val_mean_absolute_error: 0.0223 - val_mean_squared_error: 5.8604e-04\n",
            "Epoch 374/10000\n",
            "8032/8064 [============================>.] - ETA: 0s - loss: 0.0012 - mean_absolute_error: 0.0278 - mean_squared_error: 0.0012\n",
            "Epoch 00374: val_loss did not improve from 0.00011\n",
            "8064/8064 [==============================] - 25s 3ms/sample - loss: 0.0012 - mean_absolute_error: 0.0278 - mean_squared_error: 0.0012 - val_loss: 1.4239e-04 - val_mean_absolute_error: 0.0091 - val_mean_squared_error: 1.3230e-04\n",
            "Epoch 375/10000\n",
            "8032/8064 [============================>.] - ETA: 0s - loss: 0.0011 - mean_absolute_error: 0.0265 - mean_squared_error: 0.0011\n",
            "Epoch 00375: val_loss did not improve from 0.00011\n",
            "8064/8064 [==============================] - 24s 3ms/sample - loss: 0.0011 - mean_absolute_error: 0.0265 - mean_squared_error: 0.0011 - val_loss: 2.2753e-04 - val_mean_absolute_error: 0.0123 - val_mean_squared_error: 2.1744e-04\n",
            "Epoch 376/10000\n",
            "8032/8064 [============================>.] - ETA: 0s - loss: 0.0014 - mean_absolute_error: 0.0294 - mean_squared_error: 0.0014\n",
            "Epoch 00376: val_loss improved from 0.00011 to 0.00011, saving model to /content/gdrive/My Drive/deep_learning/_data/numpy_arrays/model_1.hdf5\n",
            "8064/8064 [==============================] - 24s 3ms/sample - loss: 0.0014 - mean_absolute_error: 0.0294 - mean_squared_error: 0.0014 - val_loss: 1.0605e-04 - val_mean_absolute_error: 0.0075 - val_mean_squared_error: 9.6032e-05\n",
            "Epoch 377/10000\n",
            "8032/8064 [============================>.] - ETA: 0s - loss: 0.0012 - mean_absolute_error: 0.0277 - mean_squared_error: 0.0012\n",
            "Epoch 00377: val_loss did not improve from 0.00011\n",
            "8064/8064 [==============================] - 24s 3ms/sample - loss: 0.0012 - mean_absolute_error: 0.0276 - mean_squared_error: 0.0012 - val_loss: 1.6934e-04 - val_mean_absolute_error: 0.0102 - val_mean_squared_error: 1.5937e-04\n",
            "Epoch 378/10000\n",
            "8032/8064 [============================>.] - ETA: 0s - loss: 0.0014 - mean_absolute_error: 0.0298 - mean_squared_error: 0.0014\n",
            "Epoch 00378: val_loss did not improve from 0.00011\n",
            "8064/8064 [==============================] - 24s 3ms/sample - loss: 0.0014 - mean_absolute_error: 0.0298 - mean_squared_error: 0.0014 - val_loss: 1.2618e-04 - val_mean_absolute_error: 0.0084 - val_mean_squared_error: 1.1621e-04\n",
            "Epoch 379/10000\n",
            "8032/8064 [============================>.] - ETA: 0s - loss: 0.0016 - mean_absolute_error: 0.0318 - mean_squared_error: 0.0015\n",
            "Epoch 00379: val_loss did not improve from 0.00011\n",
            "8064/8064 [==============================] - 24s 3ms/sample - loss: 0.0015 - mean_absolute_error: 0.0317 - mean_squared_error: 0.0015 - val_loss: 1.1329e-04 - val_mean_absolute_error: 0.0078 - val_mean_squared_error: 1.0332e-04\n",
            "Epoch 380/10000\n",
            "8032/8064 [============================>.] - ETA: 0s - loss: 0.0013 - mean_absolute_error: 0.0280 - mean_squared_error: 0.0013\n",
            "Epoch 00380: val_loss did not improve from 0.00011\n",
            "8064/8064 [==============================] - 24s 3ms/sample - loss: 0.0013 - mean_absolute_error: 0.0279 - mean_squared_error: 0.0013 - val_loss: 1.0866e-04 - val_mean_absolute_error: 0.0076 - val_mean_squared_error: 9.8689e-05\n",
            "Epoch 381/10000\n",
            "8032/8064 [============================>.] - ETA: 0s - loss: 0.0013 - mean_absolute_error: 0.0290 - mean_squared_error: 0.0013\n",
            "Epoch 00381: val_loss did not improve from 0.00011\n",
            "8064/8064 [==============================] - 24s 3ms/sample - loss: 0.0013 - mean_absolute_error: 0.0292 - mean_squared_error: 0.0013 - val_loss: 2.4615e-04 - val_mean_absolute_error: 0.0130 - val_mean_squared_error: 2.3625e-04\n",
            "Epoch 382/10000\n",
            "8032/8064 [============================>.] - ETA: 0s - loss: 0.0013 - mean_absolute_error: 0.0292 - mean_squared_error: 0.0013\n",
            "Epoch 00382: val_loss did not improve from 0.00011\n",
            "8064/8064 [==============================] - 23s 3ms/sample - loss: 0.0013 - mean_absolute_error: 0.0292 - mean_squared_error: 0.0013 - val_loss: 1.1130e-04 - val_mean_absolute_error: 0.0077 - val_mean_squared_error: 1.0137e-04\n",
            "Epoch 383/10000\n",
            "8032/8064 [============================>.] - ETA: 0s - loss: 0.0013 - mean_absolute_error: 0.0283 - mean_squared_error: 0.0013\n",
            "Epoch 00383: val_loss did not improve from 0.00011\n",
            "8064/8064 [==============================] - 23s 3ms/sample - loss: 0.0013 - mean_absolute_error: 0.0284 - mean_squared_error: 0.0013 - val_loss: 1.5556e-04 - val_mean_absolute_error: 0.0096 - val_mean_squared_error: 1.4567e-04\n",
            "Epoch 384/10000\n",
            "8032/8064 [============================>.] - ETA: 0s - loss: 0.0013 - mean_absolute_error: 0.0283 - mean_squared_error: 0.0013\n",
            "Epoch 00384: val_loss did not improve from 0.00011\n",
            "8064/8064 [==============================] - 23s 3ms/sample - loss: 0.0013 - mean_absolute_error: 0.0282 - mean_squared_error: 0.0013 - val_loss: 1.0667e-04 - val_mean_absolute_error: 0.0075 - val_mean_squared_error: 9.6745e-05\n",
            "Epoch 385/10000\n",
            "8032/8064 [============================>.] - ETA: 0s - loss: 0.0012 - mean_absolute_error: 0.0277 - mean_squared_error: 0.0012\n",
            "Epoch 00385: val_loss did not improve from 0.00011\n",
            "8064/8064 [==============================] - 23s 3ms/sample - loss: 0.0012 - mean_absolute_error: 0.0279 - mean_squared_error: 0.0012 - val_loss: 3.6163e-04 - val_mean_absolute_error: 0.0165 - val_mean_squared_error: 3.5181e-04\n",
            "Epoch 386/10000\n",
            "8032/8064 [============================>.] - ETA: 0s - loss: 0.0014 - mean_absolute_error: 0.0296 - mean_squared_error: 0.0014\n",
            "Epoch 00386: val_loss did not improve from 0.00011\n",
            "8064/8064 [==============================] - 23s 3ms/sample - loss: 0.0014 - mean_absolute_error: 0.0296 - mean_squared_error: 0.0014 - val_loss: 1.1560e-04 - val_mean_absolute_error: 0.0079 - val_mean_squared_error: 1.0569e-04\n",
            "Epoch 387/10000\n",
            "8032/8064 [============================>.] - ETA: 0s - loss: 0.0013 - mean_absolute_error: 0.0290 - mean_squared_error: 0.0013\n",
            "Epoch 00387: val_loss did not improve from 0.00011\n",
            "8064/8064 [==============================] - 23s 3ms/sample - loss: 0.0013 - mean_absolute_error: 0.0290 - mean_squared_error: 0.0013 - val_loss: 1.0618e-04 - val_mean_absolute_error: 0.0075 - val_mean_squared_error: 9.6299e-05\n",
            "Epoch 388/10000\n",
            "8032/8064 [============================>.] - ETA: 0s - loss: 0.0012 - mean_absolute_error: 0.0278 - mean_squared_error: 0.0012\n",
            "Epoch 00388: val_loss did not improve from 0.00011\n",
            "8064/8064 [==============================] - 23s 3ms/sample - loss: 0.0012 - mean_absolute_error: 0.0280 - mean_squared_error: 0.0012 - val_loss: 5.6703e-04 - val_mean_absolute_error: 0.0216 - val_mean_squared_error: 5.5706e-04\n",
            "Epoch 389/10000\n",
            "8032/8064 [============================>.] - ETA: 0s - loss: 0.0012 - mean_absolute_error: 0.0269 - mean_squared_error: 0.0012\n",
            "Epoch 00389: val_loss did not improve from 0.00011\n",
            "8064/8064 [==============================] - 23s 3ms/sample - loss: 0.0012 - mean_absolute_error: 0.0270 - mean_squared_error: 0.0012 - val_loss: 1.0822e-04 - val_mean_absolute_error: 0.0076 - val_mean_squared_error: 9.8376e-05\n",
            "Epoch 390/10000\n",
            "8032/8064 [============================>.] - ETA: 0s - loss: 0.0013 - mean_absolute_error: 0.0281 - mean_squared_error: 0.0013\n",
            "Epoch 00390: val_loss did not improve from 0.00011\n",
            "8064/8064 [==============================] - 23s 3ms/sample - loss: 0.0013 - mean_absolute_error: 0.0281 - mean_squared_error: 0.0013 - val_loss: 7.3316e-04 - val_mean_absolute_error: 0.0250 - val_mean_squared_error: 7.2319e-04\n",
            "Epoch 391/10000\n",
            "8032/8064 [============================>.] - ETA: 0s - loss: 0.0012 - mean_absolute_error: 0.0271 - mean_squared_error: 0.0011\n",
            "Epoch 00391: val_loss did not improve from 0.00011\n",
            "8064/8064 [==============================] - 23s 3ms/sample - loss: 0.0012 - mean_absolute_error: 0.0271 - mean_squared_error: 0.0011 - val_loss: 1.6534e-04 - val_mean_absolute_error: 0.0100 - val_mean_squared_error: 1.5548e-04\n",
            "Epoch 392/10000\n",
            "8032/8064 [============================>.] - ETA: 0s - loss: 0.0013 - mean_absolute_error: 0.0287 - mean_squared_error: 0.0012\n",
            "Epoch 00392: val_loss did not improve from 0.00011\n",
            "8064/8064 [==============================] - 23s 3ms/sample - loss: 0.0012 - mean_absolute_error: 0.0286 - mean_squared_error: 0.0012 - val_loss: 1.9827e-04 - val_mean_absolute_error: 0.0113 - val_mean_squared_error: 1.8841e-04\n",
            "Epoch 393/10000\n",
            "8032/8064 [============================>.] - ETA: 0s - loss: 0.0014 - mean_absolute_error: 0.0297 - mean_squared_error: 0.0014\n",
            "Epoch 00393: val_loss did not improve from 0.00011\n",
            "8064/8064 [==============================] - 23s 3ms/sample - loss: 0.0014 - mean_absolute_error: 0.0296 - mean_squared_error: 0.0014 - val_loss: 1.7064e-04 - val_mean_absolute_error: 0.0102 - val_mean_squared_error: 1.6081e-04\n",
            "Epoch 394/10000\n",
            "8032/8064 [============================>.] - ETA: 0s - loss: 0.0012 - mean_absolute_error: 0.0278 - mean_squared_error: 0.0012\n",
            "Epoch 00394: val_loss did not improve from 0.00011\n",
            "8064/8064 [==============================] - 23s 3ms/sample - loss: 0.0012 - mean_absolute_error: 0.0277 - mean_squared_error: 0.0012 - val_loss: 1.7695e-04 - val_mean_absolute_error: 0.0105 - val_mean_squared_error: 1.6712e-04\n",
            "Epoch 395/10000\n",
            "8032/8064 [============================>.] - ETA: 0s - loss: 0.0013 - mean_absolute_error: 0.0285 - mean_squared_error: 0.0012\n",
            "Epoch 00395: val_loss did not improve from 0.00011\n",
            "8064/8064 [==============================] - 23s 3ms/sample - loss: 0.0013 - mean_absolute_error: 0.0285 - mean_squared_error: 0.0012 - val_loss: 1.0964e-04 - val_mean_absolute_error: 0.0076 - val_mean_squared_error: 9.9842e-05\n",
            "Epoch 396/10000\n",
            "8032/8064 [============================>.] - ETA: 0s - loss: 0.0013 - mean_absolute_error: 0.0290 - mean_squared_error: 0.0013\n",
            "Epoch 00396: val_loss did not improve from 0.00011\n",
            "8064/8064 [==============================] - 24s 3ms/sample - loss: 0.0013 - mean_absolute_error: 0.0289 - mean_squared_error: 0.0013 - val_loss: 4.5826e-04 - val_mean_absolute_error: 0.0190 - val_mean_squared_error: 4.4840e-04\n"
          ],
          "name": "stdout"
        }
      ]
    },
    {
      "metadata": {
        "id": "e_OdY7oIGsTj",
        "colab_type": "code",
        "outputId": "7daffe1e-a273-4cd1-8501-aacad71080c4",
        "colab": {
          "base_uri": "https://localhost:8080/",
          "height": 51
        }
      },
      "cell_type": "code",
      "source": [
        "histories.append(history_m)\n",
        "histories"
      ],
      "execution_count": 45,
      "outputs": [
        {
          "output_type": "execute_result",
          "data": {
            "text/plain": [
              "[<tensorflow.python.keras.callbacks.History at 0x7f1456091358>,\n",
              " <tensorflow.python.keras.callbacks.History at 0x7f143ad36710>]"
            ]
          },
          "metadata": {
            "tags": []
          },
          "execution_count": 45
        }
      ]
    },
    {
      "metadata": {
        "id": "zP9DnUcdHqDD",
        "colab_type": "code",
        "outputId": "f734e953-ae29-42cd-a414-3e24f12144fe",
        "colab": {
          "base_uri": "https://localhost:8080/",
          "height": 34
        }
      },
      "cell_type": "code",
      "source": [
        "histories[0].history.keys()"
      ],
      "execution_count": 46,
      "outputs": [
        {
          "output_type": "execute_result",
          "data": {
            "text/plain": [
              "dict_keys(['loss', 'mean_absolute_error', 'mean_squared_error', 'val_loss', 'val_mean_absolute_error', 'val_mean_squared_error'])"
            ]
          },
          "metadata": {
            "tags": []
          },
          "execution_count": 46
        }
      ]
    },
    {
      "metadata": {
        "id": "DT6uuSPSZ_hb",
        "colab_type": "text"
      },
      "cell_type": "markdown",
      "source": [
        "# Plot"
      ]
    },
    {
      "metadata": {
        "id": "kwDly9jkHNpM",
        "colab_type": "code",
        "colab": {}
      },
      "cell_type": "code",
      "source": [
        "def plot_history(history):\n",
        "  dim = [0.0, 0.05]\n",
        "  hist = pd.DataFrame(history.history)\n",
        "  hist['epoch'] = history.epoch\n",
        "  \n",
        "  plt.figure()\n",
        "  plt.xlabel('Epoch')\n",
        "  plt.ylabel('Mean Abs Error [MPG]')\n",
        "  plt.plot(hist['epoch'], hist['mean_absolute_error'],\n",
        "           label='Train Error')\n",
        "  plt.plot(hist['epoch'], hist['val_mean_absolute_error'],\n",
        "           label = 'Val Error')\n",
        "  plt.ylim(dim)\n",
        "  plt.legend()\n",
        "  \n",
        "  plt.figure()\n",
        "  plt.xlabel('Epoch')\n",
        "  plt.ylabel('Mean Square Error [$MPG^2$]')\n",
        "  plt.plot(hist['epoch'], hist['mean_squared_error'],\n",
        "           label='Train Error')\n",
        "  plt.plot(hist['epoch'], hist['val_mean_squared_error'],\n",
        "           label = 'Val Error')\n",
        "  plt.ylim(dim)\n",
        "  plt.legend()\n",
        "  \n",
        "  plt.figure()\n",
        "  plt.xlabel('Epoch')\n",
        "  plt.ylabel('Loss')\n",
        "  plt.plot(hist['epoch'], hist['loss'],\n",
        "           label='Train loss')\n",
        "  plt.plot(hist['epoch'], hist['val_loss'],\n",
        "           label = 'Val loss')\n",
        "  plt.ylim(dim)\n",
        "  plt.legend()\n",
        "  plt.show()"
      ],
      "execution_count": 0,
      "outputs": []
    },
    {
      "metadata": {
        "id": "Rv3KesovaFGi",
        "colab_type": "code",
        "outputId": "69211aac-3a02-4922-fa12-23450838944f",
        "colab": {
          "base_uri": "https://localhost:8080/",
          "height": 1061
        }
      },
      "cell_type": "code",
      "source": [
        "plot_history(histories[0])"
      ],
      "execution_count": 37,
      "outputs": [
        {
          "output_type": "display_data",
          "data": {
            "image/png": "[encoded data removed]",
            "text/plain": [
              "<Figure size 576x396 with 1 Axes>"
            ]
          },
          "metadata": {
            "tags": []
          }
        },
        {
          "output_type": "display_data",
          "data": {
            "image/png": "[encoded data removed]",
            "text/plain": [
              "<Figure size 576x396 with 1 Axes>"
            ]
          },
          "metadata": {
            "tags": []
          }
        },
        {
          "output_type": "display_data",
          "data": {
            "image/png": "[encoded data removed]",
            "text/plain": [
              "<Figure size 576x396 with 1 Axes>"
            ]
          },
          "metadata": {
            "tags": []
          }
        }
      ]
    },
    {
      "metadata": {
        "id": "NRvls2T2Qkso",
        "colab_type": "code",
        "colab": {
          "base_uri": "https://localhost:8080/",
          "height": 1061
        },
        "outputId": "6d21cb39-206f-4740-9eb4-bedfc7fb5719"
      },
      "cell_type": "code",
      "source": [
        "plot_history(histories[1])"
      ],
      "execution_count": 48,
      "outputs": [
        {
          "output_type": "display_data",
          "data": {
            "image/png": "[encoded data removed]",
            "text/plain": [
              "<Figure size 576x396 with 1 Axes>"
            ]
          },
          "metadata": {
            "tags": []
          }
        },
        {
          "output_type": "display_data",
          "data": {
            "image/png": "[encoded data removed]",
            "text/plain": [
              "<Figure size 576x396 with 1 Axes>"
            ]
          },
          "metadata": {
            "tags": []
          }
        },
        {
          "output_type": "display_data",
          "data": {
            "image/png": "[encoded data removed]",
            "text/plain": [
              "<Figure size 576x396 with 1 Axes>"
            ]
          },
          "metadata": {
            "tags": []
          }
        }
      ]
    },
    {
      "metadata": {
        "id": "GDLr04XfwCIj",
        "colab_type": "code",
        "outputId": "c774f3e9-6c44-4bd6-b736-9213a5857e60",
        "colab": {
          "base_uri": "https://localhost:8080/",
          "height": 51
        }
      },
      "cell_type": "code",
      "source": [
        "r = X_test\n",
        "t = Y_test\n",
        "#print(\"r0:\"+str(r[0]))\n",
        "print(\"t0:\"+str(t[0]))\n",
        "print(\"i:\"+str(i))\n",
        "pred = models[i].predict(r)"
      ],
      "execution_count": 49,
      "outputs": [
        {
          "output_type": "stream",
          "text": [
            "t0:1.1267\n",
            "i:1\n"
          ],
          "name": "stdout"
        }
      ]
    },
    {
      "metadata": {
        "id": "s4B1wqTaozsN",
        "colab_type": "code",
        "outputId": "0aaf3f31-a418-4a04-ae53-e400f34cde4f",
        "colab": {
          "base_uri": "https://localhost:8080/",
          "height": 51
        }
      },
      "cell_type": "code",
      "source": [
        "models[i].evaluate(X_test, Y_test, batch_size=BATCH_SIZE)"
      ],
      "execution_count": 50,
      "outputs": [
        {
          "output_type": "stream",
          "text": [
            "\r32/32 [==============================] - 0s 1ms/sample - loss: 3.4776e-04 - mean_absolute_error: 0.0176 - mean_squared_error: 3.3790e-04\n"
          ],
          "name": "stdout"
        },
        {
          "output_type": "execute_result",
          "data": {
            "text/plain": [
              "[0.0003477586433291435, 0.017623682, 0.00033789582]"
            ]
          },
          "metadata": {
            "tags": []
          },
          "execution_count": 50
        }
      ]
    },
    {
      "metadata": {
        "id": "SCtq6yMct6WF",
        "colab_type": "code",
        "outputId": "fa154b43-a891-4de4-ff24-09048ee0a85a",
        "colab": {
          "base_uri": "https://localhost:8080/",
          "height": 119
        }
      },
      "cell_type": "code",
      "source": [
        "k = len(X_test) - 2\n",
        "print(pred[k]/pred[k+1])\n",
        "print(t[k]/t[k+1])\n",
        "print(\"t[k-1]: \"+str(t[k-1]))\n",
        "print(\"t[k]:\"+str(t[k]))\n",
        "print(\"p[k+1] improved: \"+str(t[k]*(pred[k+1]/pred[k])))\n",
        "print(\"t[k+1]: \"+str(t[k+1]))"
      ],
      "execution_count": 52,
      "outputs": [
        {
          "output_type": "stream",
          "text": [
            "[1.0026481]\n",
            "0.9997334517992004\n",
            "t[k-1]: 1.1266\n",
            "t[k]:1.1252\n",
            "p[k+1] improved: [1.1222283]\n",
            "t[k+1]: 1.1255\n"
          ],
          "name": "stdout"
        }
      ]
    }
  ]
}