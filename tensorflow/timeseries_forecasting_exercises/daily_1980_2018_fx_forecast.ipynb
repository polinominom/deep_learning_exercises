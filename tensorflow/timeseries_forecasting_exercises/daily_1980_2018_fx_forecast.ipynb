{
  "nbformat": 4,
  "nbformat_minor": 0,
  "metadata": {
    "colab": {
      "name": "daily_1980_2018_fx_forecast.ipynb",
      "version": "0.3.2",
      "provenance": [],
      "collapsed_sections": []
    },
    "kernelspec": {
      "name": "python3",
      "display_name": "Python 3"
    },
    "accelerator": "GPU"
  },
  "cells": [
    {
      "metadata": {
        "id": "9RS9W8EnMC9t",
        "colab_type": "text"
      },
      "cell_type": "markdown",
      "source": [
        "# Resources and references\n",
        "\n",
        "inspired thesis: http://cs.au.dk/~cstorm/students/Chong_Jul2009.pdf\n",
        "And the data are gethared from *https://investing.com*\n",
        "\n",
        "# Data Info\n",
        "In our data, the column names were not given but the order is CLOSE, OPEN, HIGH, LOW and CHANGE\n",
        "\n",
        "Data type: EUR/USD daily data.\n",
        "\n",
        "the dates between 01/01/1980 and 28/02/2019 were used for train, validation.\n",
        "\n",
        "test data would be march april or even other future dates.\n",
        "\n",
        "**important: data should be reversed after read with pandas. The dataset from the investing.com is reversed. This effects prediction.**\n",
        "\n",
        "# Task Info\n",
        "\n",
        "Binary classification.\n",
        "Classifies if the given time will have a higher value or lower value.\n",
        "\n",
        "Later: Regression\n",
        "Tries to predict exact price.\n",
        "\n",
        "# Purpose\n",
        "\n",
        "- find out if using more data on daily forecasting is a good idea\n",
        "- use regression to predict a value"
      ]
    },
    {
      "metadata": {
        "id": "oSrym8CVMWil",
        "colab_type": "text"
      },
      "cell_type": "markdown",
      "source": [
        "# Imports and Mount google drive"
      ]
    },
    {
      "metadata": {
        "id": "99ZwGfyMLTgw",
        "colab_type": "code",
        "colab": {}
      },
      "cell_type": "code",
      "source": [
        "from __future__ import print_function, absolute_import, division\n",
        "\n",
        "# general imports for deep learning\n",
        "import tensorflow as tf\n",
        "from tensorflow.keras import layers\n",
        "import numpy as np\n",
        "from sklearn.preprocessing import StandardScaler\n",
        "from sklearn import preprocessing\n",
        "\n",
        "# data read\n",
        "import pandas as pd\n",
        "\n",
        "# plot\n",
        "import matplotlib.pyplot as plt\n",
        "from tensorflow.keras.utils import plot_model\n",
        "\n",
        "# json and pretty print\n",
        "import json\n",
        "import pprint\n",
        "\n",
        "# to persist the numpy arrays data\n",
        "import h5py\n",
        "\n",
        "# handle logging\n",
        "tf.logging.set_verbosity(tf.logging.INFO)"
      ],
      "execution_count": 0,
      "outputs": []
    },
    {
      "metadata": {
        "id": "iLEQJOmPMbto",
        "colab_type": "code",
        "outputId": "0f3c8d5f-116d-4ddf-ad77-c96c74d46821",
        "colab": {
          "base_uri": "https://localhost:8080/",
          "height": 34
        }
      },
      "cell_type": "code",
      "source": [
        "from google.colab import drive\n",
        "drive.mount('/content/gdrive')"
      ],
      "execution_count": 2,
      "outputs": [
        {
          "output_type": "stream",
          "text": [
            "Drive already mounted at /content/gdrive; to attempt to forcibly remount, call drive.mount(\"/content/gdrive\", force_remount=True).\n"
          ],
          "name": "stdout"
        }
      ]
    },
    {
      "metadata": {
        "id": "tK_NZWs2MdMd",
        "colab_type": "code",
        "outputId": "a6fbe532-896a-4533-a3a5-11fec376a400",
        "colab": {
          "base_uri": "https://localhost:8080/",
          "height": 68
        }
      },
      "cell_type": "code",
      "source": [
        "# check if correct place\n",
        "!ls '/content/gdrive/My Drive/deep_learning/_data/forex/daily_csv/'"
      ],
      "execution_count": 3,
      "outputs": [
        {
          "output_type": "stream",
          "text": [
            " EUR_USD_1980_1990.csv\t EUR_USD_2019_jan_feb.csv\n",
            " EUR_USD_1991_2000.csv\t'EUR_USD Historical Data.csv'\n",
            " EUR_USD_2001_2018.csv\t'EUR_USD Historical Data.gsheet'\n"
          ],
          "name": "stdout"
        }
      ]
    },
    {
      "metadata": {
        "id": "6DMRTRlNM0rZ",
        "colab_type": "text"
      },
      "cell_type": "markdown",
      "source": [
        "# Loading Data"
      ]
    },
    {
      "metadata": {
        "id": "tu33ziOdNlrA",
        "colab_type": "text"
      },
      "cell_type": "markdown",
      "source": [
        "## Functions of Data Handling"
      ]
    },
    {
      "metadata": {
        "id": "LYFiTGIFNqSV",
        "colab_type": "code",
        "colab": {}
      },
      "cell_type": "code",
      "source": [
        "# Tries to concatenate a list of arrays into one array\n",
        "def get_concatenated_dataset(d_list):\n",
        "  result_data = d_list[0]\n",
        "  for d in d_list[1:]:\n",
        "    result_data = np.concatenate((result_data, d), axis=None)\n",
        "    \n",
        "  return result_data\n",
        "\n",
        "# Tries to check if the concatenated list is correct.\n",
        "def concatenate_length_check(d_list, concatenated):\n",
        "  print(\"----------- length check -----------\")\n",
        "  total_length = 0\n",
        "  for d in d_list:  \n",
        "    total_length += len(d)\n",
        "    print(\"length: \" +str(len(d)))\n",
        "\n",
        "  print(\"concatenated length \"+str(len(concatenated)))\n",
        "  if(len(concatenated) == total_length):\n",
        "    print(\"concatenated length -----------> CORRECT\")\n",
        "  else:\n",
        "    print(\"concatenated length -----------> WRONG\")"
      ],
      "execution_count": 0,
      "outputs": []
    },
    {
      "metadata": {
        "id": "dSvq8s2mNh7Z",
        "colab_type": "text"
      },
      "cell_type": "markdown",
      "source": [
        "## Read Data"
      ]
    },
    {
      "metadata": {
        "id": "Fm9MAQUXMfWY",
        "colab_type": "code",
        "colab": {}
      },
      "cell_type": "code",
      "source": [
        "# initialize file names\n",
        "data_folder = \"/content/gdrive/My Drive/deep_learning/_data/forex/daily_csv/\"\n",
        "data_filenames = []\n",
        "data_filenames.append(\"EUR_USD_2019_jan_feb.csv\")\n",
        "data_filenames.append(\"EUR_USD_2001_2018.csv\")\n",
        "data_filenames.append(\"EUR_USD_1991_2000.csv\")\n",
        "data_filenames.append(\"EUR_USD_1980_1990.csv\")\n"
      ],
      "execution_count": 0,
      "outputs": []
    },
    {
      "metadata": {
        "id": "T6ndJ1BbNOFx",
        "colab_type": "code",
        "colab": {}
      },
      "cell_type": "code",
      "source": [
        "# get train data that will be both validation and train data in training mode\n",
        "data_1 = pd.read_csv(data_folder+data_filenames[0])\n",
        "data_2 = pd.read_csv(data_folder+data_filenames[1])\n",
        "data_3 = pd.read_csv(data_folder+data_filenames[2])\n",
        "data_4 = pd.read_csv(data_folder+data_filenames[3])\n",
        "\n",
        "# Get all data as list\n",
        "data_list = [data_1, data_2, data_3, data_4]"
      ],
      "execution_count": 0,
      "outputs": []
    },
    {
      "metadata": {
        "id": "TPWmtfaLNXC8",
        "colab_type": "code",
        "outputId": "d4cd9c8d-15c3-4617-fde5-3e5f9c886c0e",
        "colab": {
          "base_uri": "https://localhost:8080/",
          "height": 323
        }
      },
      "cell_type": "code",
      "source": [
        "# print for understand the context\n",
        "# NOTE: it is reversed\n",
        "print(data_3.tail())\n",
        "print(data_4.head())\n",
        "print(data_4.tail())\n",
        "#test_data_list[0].head()"
      ],
      "execution_count": 7,
      "outputs": [
        {
          "output_type": "stream",
          "text": [
            "              Date   Price    Open    High     Low Change %\n",
            "2598  Jan 08, 1991  1.3432  1.3432  1.3453  1.3373   -0.25%\n",
            "2599  Jan 07, 1991  1.3465  1.3465  1.3627  1.3370   -1.54%\n",
            "2600  Jan 04, 1991  1.3675  1.3675  1.3825  1.3675   -0.74%\n",
            "2601  Jan 03, 1991  1.3777  1.3777  1.3807  1.3742    0.03%\n",
            "2602  Jan 02, 1991  1.3773  1.3773  1.3822  1.3678    0.75%\n",
            "           Date   Price    Open    High     Low Change %\n",
            "0  Dec 31, 1990  1.3670  1.3670  1.3705  1.3584    0.71%\n",
            "1  Dec 28, 1990  1.3574  1.3574  1.3595  1.3455    1.26%\n",
            "2  Dec 27, 1990  1.3405  1.3405  1.3445  1.3340    0.49%\n",
            "3  Dec 26, 1990  1.3339  1.3339  1.3339  1.3339    0.00%\n",
            "4  Dec 25, 1990  1.3339  1.3339  1.3339  1.3339    0.00%\n",
            "              Date   Price    Open    High     Low Change %\n",
            "2806  Jan 08, 1980  1.5108  1.5108  1.5108  1.5108   -0.40%\n",
            "2807  Jan 07, 1980  1.5168  1.5168  1.5168  1.5168    0.26%\n",
            "2808  Jan 04, 1980  1.5129  1.5129  1.5129  1.5129   -0.32%\n",
            "2809  Jan 03, 1980  1.5177  1.5177  1.5177  1.5177    0.18%\n",
            "2810  Jan 02, 1980  1.5149  1.5149  1.5149  1.5149    0.45%\n"
          ],
          "name": "stdout"
        }
      ]
    },
    {
      "metadata": {
        "id": "_P59SlJoNjXc",
        "colab_type": "text"
      },
      "cell_type": "markdown",
      "source": [
        "## Read Train Data"
      ]
    },
    {
      "metadata": {
        "id": "E1JvKgE4OBvu",
        "colab_type": "code",
        "outputId": "c77d4977-fd3e-498c-f62d-8a415ad0ccbb",
        "colab": {
          "base_uri": "https://localhost:8080/",
          "height": 493
        }
      },
      "cell_type": "code",
      "source": [
        "# Get OPEN, HIGH, LOW, CLOSE columns in all data\n",
        "open_data_list=[]\n",
        "high_data_list=[]\n",
        "low_data_list=[]\n",
        "close_data_list=[]\n",
        "\n",
        "for d in data_list:\n",
        "  open_data_list.append(d['Open'].as_matrix())\n",
        "  high_data_list.append(d['High'].as_matrix())\n",
        "  low_data_list.append(d['Low'].as_matrix())\n",
        "  close_data_list.append(d['Price'].as_matrix())\n",
        "  \n",
        "# And CONCATENATE all of them\n",
        "all_open_data = get_concatenated_dataset(open_data_list)\n",
        "all_high_data = get_concatenated_dataset(high_data_list)\n",
        "all_low_data = get_concatenated_dataset(low_data_list)\n",
        "all_close_data = get_concatenated_dataset(close_data_list)\n",
        "  \n",
        "# CHECK IF CONCATENATION IS SUCCESSUL.\n",
        "concatenate_length_check(open_data_list, all_open_data)\n",
        "concatenate_length_check(high_data_list, all_high_data)\n",
        "concatenate_length_check(low_data_list, all_low_data)\n",
        "concatenate_length_check(close_data_list, all_close_data)"
      ],
      "execution_count": 8,
      "outputs": [
        {
          "output_type": "stream",
          "text": [
            "----------- length check -----------\n",
            "length: 63\n",
            "length: 4696\n",
            "length: 2603\n",
            "length: 2811\n",
            "concatenated length 10173\n",
            "concatenated length -----------> CORRECT\n",
            "----------- length check -----------\n",
            "length: 63\n",
            "length: 4696\n",
            "length: 2603\n",
            "length: 2811\n",
            "concatenated length 10173\n",
            "concatenated length -----------> CORRECT\n",
            "----------- length check -----------\n",
            "length: 63\n",
            "length: 4696\n",
            "length: 2603\n",
            "length: 2811\n",
            "concatenated length 10173\n",
            "concatenated length -----------> CORRECT\n",
            "----------- length check -----------\n",
            "length: 63\n",
            "length: 4696\n",
            "length: 2603\n",
            "length: 2811\n",
            "concatenated length 10173\n",
            "concatenated length -----------> CORRECT\n"
          ],
          "name": "stdout"
        }
      ]
    },
    {
      "metadata": {
        "id": "3icqZHtxPlDJ",
        "colab_type": "text"
      },
      "cell_type": "markdown",
      "source": [
        "## Flip Data"
      ]
    },
    {
      "metadata": {
        "id": "zGTU3wx0PkVh",
        "colab_type": "code",
        "outputId": "5cc7d976-62fc-428e-bf1d-cce5c0d1b03a",
        "colab": {
          "base_uri": "https://localhost:8080/",
          "height": 34
        }
      },
      "cell_type": "code",
      "source": [
        "# REVERSE THE DATA BEFORE CONTINUE\n",
        "all_open_data = np.flip(all_open_data, 0)\n",
        "all_high_data = np.flip(all_high_data, 0)\n",
        "all_low_data = np.flip(all_low_data, 0)\n",
        "all_close_data = np.flip(all_close_data, 0)\n",
        "\n",
        "print(\"OPEN HIGH LOW CLOSE data were flipped successfully for both rain and test data.\")\n"
      ],
      "execution_count": 9,
      "outputs": [
        {
          "output_type": "stream",
          "text": [
            "OPEN HIGH LOW CLOSE data were flipped successfully for both rain and test data.\n"
          ],
          "name": "stdout"
        }
      ]
    },
    {
      "metadata": {
        "id": "eEp3S7tnR6wg",
        "colab_type": "code",
        "outputId": "eb72bbd1-9dd3-41e3-9f31-2c290558bf6e",
        "colab": {
          "base_uri": "https://localhost:8080/",
          "height": 85
        }
      },
      "cell_type": "code",
      "source": [
        "# should be: array([1.5149, 1.5177, 1.5129, ..., 1.1313, 1.1274, 1.1252])\n",
        "print(all_open_data)\n",
        "print(all_high_data)\n",
        "print(all_low_data)\n",
        "print(all_close_data)"
      ],
      "execution_count": 11,
      "outputs": [
        {
          "output_type": "stream",
          "text": [
            "[1.5149 1.5177 1.5129 ... 1.1313 1.1274 1.1252]\n",
            "[1.5149 1.5177 1.5129 ... 1.1329 1.1286 1.1263]\n",
            "[1.5149 1.5177 1.5129 ... 1.1263 1.1242 1.1234]\n",
            "[1.5149 1.5177 1.5129 ... 1.1266 1.1252 1.1255]\n"
          ],
          "name": "stdout"
        }
      ]
    },
    {
      "metadata": {
        "id": "bAnF6Rn4QwLv",
        "colab_type": "text"
      },
      "cell_type": "markdown",
      "source": [
        "# General Values"
      ]
    },
    {
      "metadata": {
        "id": "WJoAdvHdQ093",
        "colab_type": "code",
        "colab": {}
      },
      "cell_type": "code",
      "source": [
        "# BATCH size of the lstm model\n",
        "#BATCH_SIZES = [32, 64, 128, 256, 512]\n",
        "BATCH_SIZE = 32\n",
        "\n",
        "# How many of the past points were involved.\n",
        "#WINDOWS = [32, 64, 128, 256, 512]\n",
        "WINDOW = 32\n",
        "\n",
        "# How many of data type is used as multivariate(open,high,low,close = 4)\n",
        "EMB_SIZE = 4\n",
        "\n",
        "# While training how many points should be ignored\n",
        "STEP = 1\n",
        "\n",
        "# Determines which time should be predictied\n",
        "#(1 = 1 min further is predicted)\n",
        "#(60 = 1 hour further is predicted)\n",
        "FORECAST = 1\n",
        "\n",
        "# Determines if the data is to be load.\n",
        "LOAD = False"
      ],
      "execution_count": 0,
      "outputs": []
    },
    {
      "metadata": {
        "id": "dLuSc2mhP6A0",
        "colab_type": "text"
      },
      "cell_type": "markdown",
      "source": [
        "# Construct Data"
      ]
    },
    {
      "metadata": {
        "id": "RP7ZAQHlP7d1",
        "colab_type": "text"
      },
      "cell_type": "markdown",
      "source": [
        "## Functions"
      ]
    },
    {
      "metadata": {
        "id": "9jCPvXIoQA2B",
        "colab_type": "code",
        "colab": {}
      },
      "cell_type": "code",
      "source": [
        "# ORIGINAL CHANEGD TO REGRESSION\n",
        "def get_data_chunks(d_list, length, window=30, forecast=1, step=1):\n",
        "  X = []\n",
        "  Y = []\n",
        "  for i in range(0, length, step):\n",
        "    try:\n",
        "      # Get windowed data\n",
        "      o = d_list[0][i:i+window] # open\n",
        "      h = d_list[1][i:i+window] # high\n",
        "      l = d_list[2][i:i+window] # low\n",
        "      c = d_list[3][i:i+window] # close\n",
        "\n",
        "      # Normalize data\n",
        "      # NO NORMALIZATION FOR NOW\n",
        "#      mean_c = np.mean(c)\n",
        "#      std_c = np.std(c)\n",
        "      \n",
        "#      o = (np.array(o) - np.mean(o)) / np.std(o)\n",
        "#      h = (np.array(h) - np.mean(h)) / np.std(h)\n",
        "#      l = (np.array(l) - np.mean(l)) / np.std(l)\n",
        "#      c = (np.array(c) - np.mean(c)) / np.std(c)\n",
        "\n",
        "      # x_i\n",
        "      x_i = d_list[3][i:i+window]\n",
        "      y_i = d_list[3][i + window + forecast]\n",
        "\n",
        "      x_i = np.column_stack((o,h,l,c))\n",
        "    except Exception as e:\n",
        "      print(e)\n",
        "      # break when the limit is not enough\n",
        "      break\n",
        "\n",
        "    X.append(x_i)\n",
        "    Y.append(y_i)\n",
        "  print(\"data chunks are ready...\")\n",
        "  return [X, Y]\n",
        "\n",
        "def get_train_validation(X, y, percentage=0.8):\n",
        "    iXPercentage = int(len(X) * percentage) \n",
        "    iYPercentage = int(len(y) * percentage)\n",
        "    X_train = X[0:iXPercentage]\n",
        "    Y_train = y[0:iYPercentage]\n",
        "    \n",
        "    #X_train, Y_train = shuffle_in_unison(X_train, Y_train)\n",
        "\n",
        "    X_val = X[iXPercentage:]\n",
        "    Y_val = y[iYPercentage:]\n",
        "\n",
        "    return X_train, X_val, Y_train, Y_val"
      ],
      "execution_count": 0,
      "outputs": []
    },
    {
      "metadata": {
        "id": "gpd7g7uVQV_7",
        "colab_type": "code",
        "colab": {}
      },
      "cell_type": "code",
      "source": [
        "def save_data(x,y,x_test,y_test):\n",
        "  # Save X, Y and X_test, Y_test\n",
        "  save_folder = \"/content/gdrive/My Drive/deep_learning/_data/numpy_arrays/\"\n",
        "  filename=\"d_fx_multi_fcst_1980_2018\"\n",
        "\n",
        "  # Save Y\n",
        "  y_h5 = h5py.File(save_folder+filename+\"_y.h5\", 'w')\n",
        "  y_h5.create_dataset('dataset_Y', data=y)\n",
        "  y_h5.close()\n",
        "  print(\"Saving Y Completed\")\n",
        "\n",
        "  # Save X\n",
        "  x_h5 = h5py.File(save_folder+filename+\"_x.h5\", 'w')\n",
        "  x_h5.create_dataset('dataset_X', data=x)\n",
        "  x_h5.close()\n",
        "  print(\"Saving X Completed\")\n",
        "\n",
        "  # Save X_test\n",
        "  x_test_h5 = h5py.File(save_folder+filename+\"_x_test.h5\", 'w')\n",
        "  x_test_h5.create_dataset('dataset_X_test', data=x_test)\n",
        "  x_test_h5.close()\n",
        "  print(\"Saving X_test Completed\")\n",
        "\n",
        "  # Save Y_test\n",
        "  y_test_h5 = h5py.File(save_folder+filename+\"_y_test.h5\", 'w')\n",
        "  y_test_h5.create_dataset('dataset_Y_test', data=y_test)\n",
        "  y_test_h5.close()\n",
        "  print(\"Saving Y_test Completed\")\n"
      ],
      "execution_count": 0,
      "outputs": []
    },
    {
      "metadata": {
        "id": "YurLF_NaQgk7",
        "colab_type": "code",
        "colab": {}
      },
      "cell_type": "code",
      "source": [
        "def get_data(should_loaded, d_list, d_list_test, train_len, test_len, window):\n",
        "  if not should_loaded:\n",
        "    # PROCESSES WHOLE TRAIN SET\n",
        "    X, Y = get_data_chunks(d_list, train_len, window=window, forecast=FORECAST, step=STEP)\n",
        "    X_test, Y_test = get_data_chunks(d_list_test, test_len, window=window, forecast=FORECAST, step=STEP)\n",
        "\n",
        "    X = np.array(X)\n",
        "    Y = np.array(Y)\n",
        "    X_test = np.array(X_test)\n",
        "    Y_test = np.array(Y_test)\n",
        "  else:\n",
        "    save_folder = \"/content/gdrive/My Drive/deep_learning/_data/numpy_arrays/\"\n",
        "    filename=\"d_fx_multi_fcst_1980_2018\"\n",
        "    \n",
        "    h5f = h5py.File(save_folder+filename+\"_x.h5\",'r')\n",
        "    X = h5f['dataset_X'][:]\n",
        "    h5f.close()\n",
        "\n",
        "    h5f = h5py.File(save_folder+filename+\"_y.h5\",'r')\n",
        "    Y = h5f['dataset_Y'][:]\n",
        "    h5f.close()\n",
        "\n",
        "    h5f = h5py.File(save_folder+filename+\"_x_test.h5\",'r')\n",
        "    X_test = h5f['dataset_X_test'][:]\n",
        "    h5f.close()\n",
        "\n",
        "    h5f = h5py.File(save_folder+filename+\"_y_test.h5\",'r')\n",
        "    Y_test = h5f['dataset_Y_test'][:]\n",
        "    h5f.close()\n",
        "    pass\n",
        "  \n",
        "  return [X, Y, X_test, Y_test]\n",
        "\n"
      ],
      "execution_count": 0,
      "outputs": []
    },
    {
      "metadata": {
        "id": "J7urATEYR2A6",
        "colab_type": "text"
      },
      "cell_type": "markdown",
      "source": [
        "## Get Data"
      ]
    },
    {
      "metadata": {
        "id": "56ikNBOYSjZM",
        "colab_type": "code",
        "outputId": "933416dd-ddbc-4150-99c9-a58cfe7f38bf",
        "colab": {
          "base_uri": "https://localhost:8080/",
          "height": 102
        }
      },
      "cell_type": "code",
      "source": [
        "X_list = []\n",
        "Y_list = []\n",
        "X_test_list = []\n",
        "Y_test_list = []\n",
        "mean_std_list = []\n",
        "\n",
        "if not LOAD:\n",
        "  d_list = [all_open_data, all_high_data, all_low_data, all_close_data]\n",
        "  #d_list_test = [t_all_open_data, t_all_high_data, t_all_low_data, t_all_close_data]\n",
        "\n",
        "  print(\"getting data for window: \"+str(WINDOW))\n",
        "  X, Y, X_test, Y_test = get_data(should_loaded=LOAD, \n",
        "                                                   d_list=d_list, \n",
        "                                                   d_list_test=d_list, \n",
        "                                                   train_len=len(all_close_data), \n",
        "                                                   test_len=len(all_close_data), \n",
        "                                                   window=WINDOW)\n",
        "    \n",
        "  X_list.append(X)\n",
        "  Y_list.append(Y)\n",
        "  X_test_list.append(X_test)\n",
        "  Y_test_list.append(Y_test)\n",
        "else:\n",
        "    X, Y, X_test, Y_test = get_data(should_loaded=LOAD, \n",
        "                                d_list=None, \n",
        "                                d_list_test=None, \n",
        "                                train_len=0, \n",
        "                                test_len=0)\n",
        "\n",
        "    #if not LOAD: save_data(X, Y, X_test, Y_test)\n"
      ],
      "execution_count": 62,
      "outputs": [
        {
          "output_type": "stream",
          "text": [
            "getting data for window: 32\n",
            "index 10173 is out of bounds for axis 0 with size 10173\n",
            "data chunks are ready...\n",
            "index 10173 is out of bounds for axis 0 with size 10173\n",
            "data chunks are ready...\n"
          ],
          "name": "stdout"
        }
      ]
    },
    {
      "metadata": {
        "id": "Afqz0A-wTu6e",
        "colab_type": "code",
        "outputId": "c22c1b45-ddc4-4f39-9e88-502c866afe2a",
        "colab": {
          "base_uri": "https://localhost:8080/",
          "height": 34
        }
      },
      "cell_type": "code",
      "source": [
        "print(X_list[0].shape)\n"
      ],
      "execution_count": 63,
      "outputs": [
        {
          "output_type": "stream",
          "text": [
            "(10140, 32, 4)\n"
          ],
          "name": "stdout"
        }
      ]
    },
    {
      "metadata": {
        "id": "oT4s_St0HfdN",
        "colab_type": "text"
      },
      "cell_type": "markdown",
      "source": [
        "## Split Test\n",
        "Before splitting to validation, split the test data first."
      ]
    },
    {
      "metadata": {
        "id": "89skEUIvHml_",
        "colab_type": "code",
        "outputId": "035d8e16-ac40-4279-9331-321b5db4c965",
        "colab": {
          "base_uri": "https://localhost:8080/",
          "height": 102
        }
      },
      "cell_type": "code",
      "source": [
        "calculated_size = X_list[0].shape[0] - BATCH_SIZE\n",
        "X = X_list[0][:calculated_size]\n",
        "Y = Y_list[0][:calculated_size]\n",
        "\n",
        "X_test = X_test_list[0][calculated_size:]\n",
        "Y_test = Y_test_list[0][calculated_size:]\n",
        "\n",
        "print(\"old: \"+str(X_list[0].shape))\n",
        "print(\"X size: \"+str(X.shape))\n",
        "print(\"Y size: \"+str(Y.shape))\n",
        "print(\"X_test size: \"+str(X_test.shape))\n",
        "print(\"Y_test size: \"+str(Y_test.shape))"
      ],
      "execution_count": 64,
      "outputs": [
        {
          "output_type": "stream",
          "text": [
            "old: (10140, 32, 4)\n",
            "X size: (10108, 32, 4)\n",
            "Y size: (10108,)\n",
            "X_test size: (32, 32, 4)\n",
            "Y_test size: (32,)\n"
          ],
          "name": "stdout"
        }
      ]
    },
    {
      "metadata": {
        "id": "-3KSgeQHHnyu",
        "colab_type": "text"
      },
      "cell_type": "markdown",
      "source": [
        "## Split Validation"
      ]
    },
    {
      "metadata": {
        "id": "eJPHPibfUGX6",
        "colab_type": "code",
        "outputId": "58a90290-a057-47d4-e566-26346a6c0d6f",
        "colab": {
          "base_uri": "https://localhost:8080/",
          "height": 187
        }
      },
      "cell_type": "code",
      "source": [
        "X_train, X_val, Y_train, Y_val = get_train_validation(X, Y)\n",
        "  \n",
        "print(\"OLD_shapes for windows: \"+str(WINDOW))\n",
        "print(X.shape)\n",
        "print(Y.shape)\n",
        "print(\"*\"*40)\n",
        "print(\"New Shapes for windows: \"+str(WINDOW))\n",
        "print(X_train.shape)\n",
        "print(Y_train.shape)\n",
        "print(X_val.shape)\n",
        "print(Y_val.shape)\n",
        "print(\"-\"*50)"
      ],
      "execution_count": 65,
      "outputs": [
        {
          "output_type": "stream",
          "text": [
            "OLD_shapes for windows: 32\n",
            "(10108, 32, 4)\n",
            "(10108,)\n",
            "****************************************\n",
            "New Shapes for windows: 32\n",
            "(8086, 32, 4)\n",
            "(8086,)\n",
            "(2022, 32, 4)\n",
            "(2022,)\n",
            "--------------------------------------------------\n"
          ],
          "name": "stdout"
        }
      ]
    },
    {
      "metadata": {
        "id": "NNoanSIaVwnS",
        "colab_type": "code",
        "colab": {}
      },
      "cell_type": "code",
      "source": [
        "def get_smooth_size(old_size, batch_size=32):\n",
        "  new_size = old_size - old_size%batch_size\n",
        "  print(\"Smoothed from: [\"+str(old_size)+\"] to: [\"+str(new_size)+\"]\")\n",
        "  return new_size"
      ],
      "execution_count": 0,
      "outputs": []
    },
    {
      "metadata": {
        "id": "B5Wa42YyJKXF",
        "colab_type": "text"
      },
      "cell_type": "markdown",
      "source": [
        "Now it is time to smooth\n",
        "\n",
        "However in here some data  lost\n",
        "\n",
        "for example we get the smoothness bellow for the window size 64.\n",
        "\n",
        "Smoothed from: [8035] to: [8000]\n",
        "Smoothed from: [64] to: [64]\n",
        "Smoothed from: [2009] to: [1984]\n",
        "\n",
        "TODO: 35 data could be added to the validation data before smoothing it."
      ]
    },
    {
      "metadata": {
        "id": "I4bQeYk1V2hy",
        "colab_type": "code",
        "outputId": "d1662dbf-1e41-4b19-deab-64b9a463131a",
        "colab": {
          "base_uri": "https://localhost:8080/",
          "height": 68
        }
      },
      "cell_type": "code",
      "source": [
        "# MAKE THE DATA SMOOT FOR LSTM MODEL\n",
        "train_smooth_size = get_smooth_size(X_train.shape[0], batch_size=BATCH_SIZE)\n",
        "test_smooth_size = get_smooth_size(X_test.shape[0], batch_size=BATCH_SIZE)\n",
        "val_smooth_size = get_smooth_size(X_val.shape[0], batch_size=BATCH_SIZE)\n",
        "\n",
        "X_train = X_train[:train_smooth_size] \n",
        "X_test = X_test[:test_smooth_size] \n",
        "X_val = X_val[:val_smooth_size] \n",
        "\n",
        "Y_train = Y_train[:train_smooth_size]\n",
        "Y_test = Y_test[:test_smooth_size]\n",
        "Y_val = Y_val[:val_smooth_size]"
      ],
      "execution_count": 68,
      "outputs": [
        {
          "output_type": "stream",
          "text": [
            "Smoothed from: [8086] to: [8064]\n",
            "Smoothed from: [32] to: [32]\n",
            "Smoothed from: [2022] to: [2016]\n"
          ],
          "name": "stdout"
        }
      ]
    },
    {
      "metadata": {
        "id": "clUkrfzQdcks",
        "colab_type": "text"
      },
      "cell_type": "markdown",
      "source": [
        "## MODELS"
      ]
    },
    {
      "metadata": {
        "id": "S9RGROfuXUlR",
        "colab_type": "code",
        "colab": {}
      },
      "cell_type": "code",
      "source": [
        "def build_lstm_model_1(tensor_shape, batch_size=100, hidden_neurons=100):\n",
        "  model = tf.keras.Sequential()\n",
        "# hyperbolic tangent is automatically seleceted as activation function\n",
        "  model.add(layers.LSTM(hidden_neurons, batch_input_shape=(batch_size, tensor_shape[0], tensor_shape[1])))\n",
        "\n",
        "  model.add(layers.BatchNormalization())\n",
        "  model.add(layers.Dense(32, activation='relu'))\n",
        "  model.add(layers.Dropout(0.5))\n",
        "  \n",
        "  model.add(layers.Dense(1))\n",
        "  return model"
      ],
      "execution_count": 0,
      "outputs": []
    },
    {
      "metadata": {
        "id": "A1hUh-hbYsvx",
        "colab_type": "code",
        "colab": {}
      },
      "cell_type": "code",
      "source": [
        "def build_lstm_model_2(tensor_shape, batch_size=100, hidden_neurons=100):\n",
        "  model = tf.keras.Sequential()\n",
        "# hyperbolic tangent is automatically seleceted as activation function\n",
        "  model.add(layers.LSTM(hidden_neurons, batch_input_shape=(batch_size, tensor_shape[0], tensor_shape[1]),return_sequences=True))\n",
        "  model.add(layers.LSTM(hidden_neurons, batch_input_shape=(batch_size, tensor_shape[0], tensor_shape[1])))\n",
        "#  model.add(layers.GlobalAveragePooling1D())\n",
        "  model.add(layers.BatchNormalization())\n",
        "  model.add(layers.Dense(32, activation='relu'))\n",
        "  model.add(layers.Dropout(0.5))\n",
        "  \n",
        "  model.add(layers.Dense(1))\n",
        "  return model"
      ],
      "execution_count": 0,
      "outputs": []
    },
    {
      "metadata": {
        "id": "W2JyUFtRZG6I",
        "colab_type": "code",
        "colab": {}
      },
      "cell_type": "code",
      "source": [
        "#TODO: weight initialization and L2 regularization\n",
        "# A linear layer with L2 regularization of factor 0.02\n",
        "\n",
        "\n",
        "def build_lstm_model_3(tensor_shape, batch_size=100, hidden_neurons=100, pooling_size=2):\n",
        "  # L2 norm regularizer\n",
        "  regularizer = tf.keras.regularizers.l2(0.01)\n",
        "  \n",
        "  # XAVIER INITIALIZER\n",
        "  initializer = tf.keras.initializers.glorot_uniform()\n",
        "  \n",
        "  model = tf.keras.Sequential()\n",
        "  \n",
        "# hyperbolic tangent is automatically seleceted as activation function\n",
        "  model.add(layers.LSTM(hidden_neurons, \n",
        "                        batch_input_shape=(batch_size, tensor_shape[0], tensor_shape[1]),\n",
        "                        recurrent_regularizer=regularizer,\n",
        "                        bias_regularizer=regularizer, \n",
        "                        kernel_regularizer=regularizer,\n",
        "                        recurrent_initializer=initializer,\n",
        "                        kernel_initializer=initializer,\n",
        "                        bias_initializer=initializer\n",
        "                       ))\n",
        "\n",
        "# TODO\n",
        "\n",
        "#  model.add(layers.GlobalAveragePooling1D())\n",
        "  model.add(layers.BatchNormalization())\n",
        "  model.add(layers.Dense(32, activation='relu', \n",
        "                         kernel_regularizer=regularizer, \n",
        "                         bias_regularizer=regularizer,\n",
        "                         kernel_initializer=initializer,\n",
        "                         bias_initializer=initializer))\n",
        "  \n",
        "  model.add(layers.Dropout(0.5))\n",
        "  \n",
        "  model.add(layers.Dense(1))\n",
        "  return model"
      ],
      "execution_count": 0,
      "outputs": []
    },
    {
      "metadata": {
        "id": "UucKQee-XwUB",
        "colab_type": "code",
        "colab": {}
      },
      "cell_type": "code",
      "source": [
        "def build_conv1d_model_1(tensor_shape, filters=64, kernel_size=3, pooling_size=2, dropout=0.5):\n",
        "  #todo: maybe add strides\n",
        "  \n",
        "  # initialize the placeholdder\n",
        "  placeholder_input = tf.keras.Input(shape=tensor_shape)\n",
        "  \n",
        "  #------------- FIRST CNN BLOCK: CONV1D & MAXPOOLING ------------- \n",
        "  model = layers.Conv1D(filters=filters, \n",
        "                        kernel_size=kernel_size, \n",
        "                        padding=\"same\",\n",
        "                        input_shape=tensor_shape,\n",
        "                        batch_input_shape=(None, tensor_shape[0], tensor_shape[1]),\n",
        "                        activation='relu')(placeholder_input)\n",
        "  \n",
        "  model = layers.MaxPool1D(pool_size=pooling_size, \n",
        "                           padding=\"same\")(model)\n",
        "  \n",
        "  # CONSIDER:  model = layers.BatchNormalization(model)  \n",
        "  # ------------- Second CNN BLOCK: CONV1D & MAXPOOLING ------------- \n",
        "  model = layers.Conv1D(filters=filters, \n",
        "                        kernel_size=kernel_size, \n",
        "                        padding=\"same\", \n",
        "                        activation='relu')(model)\n",
        "  \n",
        "  model = layers.MaxPool1D(pool_size=pooling_size, \n",
        "                           padding=\"same\")(model)\n",
        "  # ------------- DROPOUT & FLATTEN ------------- \n",
        "  model = layers.Dropout(dropout)(model)\n",
        "  model = layers.Flatten()(model)\n",
        "  \n",
        "  \n",
        "  model = layers.Dense(32, activation='relu')(model)\n",
        "  model = layers.Dropout(dropout)(model)\n",
        "  # not sure if this necessary 1\n",
        "  #model = layers.Activation(activation='relu')(model)\n",
        "  \n",
        "  prediction = layers.Dense(1)(model)\n",
        "  \n",
        "  model = tf.keras.Model(inputs=placeholder_input, outputs=prediction)\n",
        "  return model"
      ],
      "execution_count": 0,
      "outputs": []
    },
    {
      "metadata": {
        "id": "x4uCh2SedE59",
        "colab_type": "code",
        "colab": {}
      },
      "cell_type": "code",
      "source": [
        "def build_conv1d_model_2(tensor_shape, filters=64, kernel_size=3, pooling_size=2, dropout=0.5):\n",
        "  # L2 norm regularizer\n",
        "  regularizer = tf.keras.regularizers.l2(0.01)\n",
        "  \n",
        "  # XAVIER INITIALIZER\n",
        "  initializer = tf.keras.initializers.glorot_uniform()\n",
        "  \n",
        "  # initialize the placeholdder\n",
        "  placeholder_input = tf.keras.Input(shape=tensor_shape)\n",
        "  \n",
        "  #------------- FIRST CNN BLOCK: CONV1D & MAXPOOLING ------------- \n",
        "  model = layers.Conv1D(filters=filters, \n",
        "                        kernel_size=kernel_size, \n",
        "                        padding=\"same\",\n",
        "                        input_shape=tensor_shape,\n",
        "                        batch_input_shape=(None, tensor_shape[0], tensor_shape[1]),\n",
        "                        activation='relu',                         \n",
        "                        kernel_regularizer=regularizer, \n",
        "                        bias_regularizer=regularizer,\n",
        "                        kernel_initializer=initializer,\n",
        "                        bias_initializer=initializer)(placeholder_input)\n",
        "  \n",
        "  model = layers.MaxPool1D(pool_size=pooling_size, \n",
        "                           padding=\"same\")(model)\n",
        "  \n",
        "  # CONSIDER:  model = layers.BatchNormalization(model)  \n",
        "  # ------------- Second CNN BLOCK: CONV1D & MAXPOOLING ------------- \n",
        "  model = layers.Conv1D(filters=filters, \n",
        "                        kernel_size=kernel_size, \n",
        "                        padding=\"same\", \n",
        "                        activation='relu',\n",
        "                        kernel_regularizer=regularizer, \n",
        "                        bias_regularizer=regularizer,\n",
        "                        kernel_initializer=initializer,\n",
        "                        bias_initializer=initializer)(model)\n",
        "  \n",
        "  model = layers.MaxPool1D(pool_size=pooling_size, \n",
        "                           padding=\"same\")(model)\n",
        "  # ------------- DROPOUT & FLATTEN ------------- \n",
        "  model = layers.Dropout(dropout)(model)\n",
        "  model = layers.Flatten()(model)\n",
        "  \n",
        "  \n",
        "  model = layers.Dense(32, activation='relu',\n",
        "                       kernel_regularizer=regularizer, \n",
        "                       bias_regularizer=regularizer,\n",
        "                       kernel_initializer=initializer,\n",
        "                       bias_initializer=initializer)(model)\n",
        "  \n",
        "  model = layers.Dropout(dropout)(model)\n",
        "  # not sure if this necessary 1\n",
        "  #model = layers.Activation(activation='relu')(model)\n",
        "  \n",
        "  prediction = layers.Dense(1)(model)\n",
        "  \n",
        "  model = tf.keras.Model(inputs=placeholder_input, outputs=prediction)\n",
        "  return model"
      ],
      "execution_count": 0,
      "outputs": []
    },
    {
      "metadata": {
        "id": "MA1Fy_NcuyIl",
        "colab_type": "code",
        "colab": {}
      },
      "cell_type": "code",
      "source": [
        "def build_dense_model_1(tensor_shape, batch_size):\n",
        "  # L2 norm regularizer\n",
        "  regularizer = tf.keras.regularizers.l2(0.01)\n",
        "  \n",
        "  # XAVIER INITIALIZER\n",
        "  initializer = tf.keras.initializers.glorot_uniform()\n",
        "  \n",
        "  # initialize the placeholdder\n",
        "  placeholder_input = tf.keras.Input(shape=tensor_shape)\n",
        "  \n",
        "  #------------- calculate the feasable neuron size ------------- \n",
        "  hidden_neuron_size = batch_size/2 + 1\n",
        "  model = layers.Dense(hidden_neuron_size,\n",
        "                       batch_input_shape=(batch_size, tensor_shape[0], tensor_shape[1]),\n",
        "                       activation='relu',\n",
        "                       kernel_regularizer=regularizer,\n",
        "                       bias_regularizer=regularizer,\n",
        "                       kernel_initializer=initializer,\n",
        "                       bias_initializer=initializer)(placeholder_input)\n",
        "  model = layers.GlobalAveragePooling1D()(model)\n",
        "  model = layers.Dense(hidden_neuron_size,\n",
        "                       activation='relu',\n",
        "                       kernel_regularizer=regularizer,\n",
        "                       bias_regularizer=regularizer,\n",
        "                       kernel_initializer=initializer,\n",
        "                       bias_initializer=initializer)(model)\n",
        "\n",
        "  prediction = layers.Dense(1)(model)\n",
        "  \n",
        "  model = tf.keras.Model(inputs=placeholder_input, outputs=prediction)\n",
        "  return model"
      ],
      "execution_count": 0,
      "outputs": []
    },
    {
      "metadata": {
        "id": "_8wIZZUYX-OT",
        "colab_type": "code",
        "colab": {}
      },
      "cell_type": "code",
      "source": [
        "#KERNEL_SIZES = [3,4,5]\n",
        "#FILTER_SIZES = [32, 64, 128]\n",
        "#NEURONS = [100, 200]\n",
        "neuron = 100\n",
        "kernel_size = 3\n",
        "filter_size = 32"
      ],
      "execution_count": 0,
      "outputs": []
    },
    {
      "metadata": {
        "id": "oY-IMF1JKsb8",
        "colab_type": "text"
      },
      "cell_type": "markdown",
      "source": [
        "### All Models"
      ]
    },
    {
      "metadata": {
        "id": "g0QZlMgWdfbL",
        "colab_type": "code",
        "outputId": "b07dc1db-0884-4d57-ff89-fabb76dc7ed9",
        "colab": {
          "base_uri": "https://localhost:8080/",
          "height": 139
        }
      },
      "cell_type": "code",
      "source": [
        "# NOTE: model3 seems nice.\n",
        "shape = (X_train.shape[1], X_train.shape[2])\n",
        "x1 = build_lstm_model_1(tensor_shape=shape, batch_size=BATCH_SIZE, hidden_neurons=neuron)\n",
        "x2 = build_lstm_model_2(tensor_shape=shape, batch_size=BATCH_SIZE, hidden_neurons=neuron)\n",
        "x3 = build_lstm_model_3(tensor_shape=shape, batch_size=BATCH_SIZE, hidden_neurons=neuron)\n",
        "c1 = build_conv1d_model_1(tensor_shape=shape, filters=filter_size, kernel_size=kernel_size)\n",
        "c2 = build_conv1d_model_2(tensor_shape=shape, filters=filter_size, kernel_size=kernel_size)\n",
        "models = [x1, x2, x3, c1, c2]"
      ],
      "execution_count": 0,
      "outputs": [
        {
          "output_type": "stream",
          "text": [
            "WARNING:tensorflow:From /usr/local/lib/python3.6/dist-packages/tensorflow/python/ops/resource_variable_ops.py:435: colocate_with (from tensorflow.python.framework.ops) is deprecated and will be removed in a future version.\n",
            "Instructions for updating:\n",
            "Colocations handled automatically by placer.\n",
            "WARNING:tensorflow:From /usr/local/lib/python3.6/dist-packages/tensorflow/python/keras/layers/core.py:143: calling dropout (from tensorflow.python.ops.nn_ops) with keep_prob is deprecated and will be removed in a future version.\n",
            "Instructions for updating:\n",
            "Please use `rate` instead of `keep_prob`. Rate should be set to `rate = 1 - keep_prob`.\n"
          ],
          "name": "stdout"
        }
      ]
    },
    {
      "metadata": {
        "id": "cEBnpmzTKw_k",
        "colab_type": "text"
      },
      "cell_type": "markdown",
      "source": [
        "### Efficient Models"
      ]
    },
    {
      "metadata": {
        "id": "DOt1Yjt4K0Wl",
        "colab_type": "code",
        "colab": {}
      },
      "cell_type": "code",
      "source": [
        "# NOTE: model3 seems nice.\n",
        "shape = (X_train.shape[1], X_train.shape[2])\n",
        "m1 = build_conv1d_model_2(tensor_shape=shape, filters=filter_size, kernel_size=kernel_size)\n",
        "m2 = build_dense_model_1(shape, BATCH_SIZE)\n",
        "models = [m1, m2]"
      ],
      "execution_count": 0,
      "outputs": []
    },
    {
      "metadata": {
        "id": "W9vW7-e6K0x8",
        "colab_type": "text"
      },
      "cell_type": "markdown",
      "source": [
        "### Train Process"
      ]
    },
    {
      "metadata": {
        "id": "XuGVZWjAhggD",
        "colab_type": "code",
        "outputId": "2db33645-4678-4105-8b95-2de704208506",
        "colab": {
          "base_uri": "https://localhost:8080/",
          "height": 799
        }
      },
      "cell_type": "code",
      "source": [
        "for m in models:\n",
        "  print(m.summary())"
      ],
      "execution_count": 73,
      "outputs": [
        {
          "output_type": "stream",
          "text": [
            "_________________________________________________________________\n",
            "Layer (type)                 Output Shape              Param #   \n",
            "=================================================================\n",
            "input_5 (InputLayer)         (None, 32, 4)             0         \n",
            "_________________________________________________________________\n",
            "conv1d_4 (Conv1D)            (None, 32, 32)            416       \n",
            "_________________________________________________________________\n",
            "max_pooling1d_4 (MaxPooling1 (None, 16, 32)            0         \n",
            "_________________________________________________________________\n",
            "conv1d_5 (Conv1D)            (None, 16, 32)            3104      \n",
            "_________________________________________________________________\n",
            "max_pooling1d_5 (MaxPooling1 (None, 8, 32)             0         \n",
            "_________________________________________________________________\n",
            "dropout_4 (Dropout)          (None, 8, 32)             0         \n",
            "_________________________________________________________________\n",
            "flatten_2 (Flatten)          (None, 256)               0         \n",
            "_________________________________________________________________\n",
            "dense_10 (Dense)             (None, 32)                8224      \n",
            "_________________________________________________________________\n",
            "dropout_5 (Dropout)          (None, 32)                0         \n",
            "_________________________________________________________________\n",
            "dense_11 (Dense)             (None, 1)                 33        \n",
            "=================================================================\n",
            "Total params: 11,777\n",
            "Trainable params: 11,777\n",
            "Non-trainable params: 0\n",
            "_________________________________________________________________\n",
            "None\n",
            "_________________________________________________________________\n",
            "Layer (type)                 Output Shape              Param #   \n",
            "=================================================================\n",
            "input_6 (InputLayer)         (None, 32, 4)             0         \n",
            "_________________________________________________________________\n",
            "dense_12 (Dense)             (None, 32, 17)            85        \n",
            "_________________________________________________________________\n",
            "global_average_pooling1d_2 ( (None, 17)                0         \n",
            "_________________________________________________________________\n",
            "dense_13 (Dense)             (None, 17)                306       \n",
            "_________________________________________________________________\n",
            "dense_14 (Dense)             (None, 1)                 18        \n",
            "=================================================================\n",
            "Total params: 409\n",
            "Trainable params: 409\n",
            "Non-trainable params: 0\n",
            "_________________________________________________________________\n",
            "None\n"
          ],
          "name": "stdout"
        }
      ]
    },
    {
      "metadata": {
        "id": "uPFqVZhSh-oc",
        "colab_type": "code",
        "colab": {}
      },
      "cell_type": "code",
      "source": [
        "#OPTIMIZER\n",
        "opt_1 = 'adam'\n",
        "opt_2 = tf.keras.optimizers.RMSprop(0.001)\n",
        "opt_3 = tf.keras.optimizers.Adadelta(0.01)\n",
        "#opt = tf.keras.optimizers.RMSprop()\n",
        "\n",
        "loss_func = tf.keras.losses.mean_squared_error\n",
        "metrics =  ['mean_absolute_error', 'mean_squared_error']\n",
        "\n",
        "\n",
        "# CALLBACKS\n",
        "save_folder = \"/content/gdrive/My Drive/deep_learning/_data/numpy_arrays/\"\n",
        "default_filename = \"d_fx_multi_fcst_wavelet_nn\"\n",
        "\n",
        "checkpointer_list = []\n",
        "for model_index in range(len(models)):\n",
        "  m = models[model_index]\n",
        "  fp = save_folder + default_filename + \"_\"+str(model_index)+\".hdf5\"\n",
        "  checkpointer_list.append(tf.keras.callbacks.ModelCheckpoint(filepath=fp, verbose=1, save_best_only=True))\n",
        "  \n",
        "  m.compile(optimizer=opt_3, loss=loss_func, metrics=metrics)\n"
      ],
      "execution_count": 0,
      "outputs": []
    },
    {
      "metadata": {
        "id": "_kQr-8inYqfO",
        "colab_type": "code",
        "colab": {}
      },
      "cell_type": "code",
      "source": [
        "# TENSORBOARD CALLBACK\n",
        "#_tensorboard = TensorBoardColab()\n",
        "_tensorboard = None"
      ],
      "execution_count": 0,
      "outputs": []
    },
    {
      "metadata": {
        "id": "PDGNyz_toRo9",
        "colab_type": "code",
        "colab": {}
      },
      "cell_type": "code",
      "source": [
        "histories = []"
      ],
      "execution_count": 0,
      "outputs": []
    },
    {
      "metadata": {
        "id": "D2g6gGeXjjcq",
        "colab_type": "code",
        "outputId": "519426de-6bdb-4953-9e56-bdec6b6b1dcb",
        "colab": {
          "base_uri": "https://localhost:8080/",
          "height": 1170
        }
      },
      "cell_type": "code",
      "source": [
        "EPOCH_COUNT = 10000\n",
        "early_stop = tf.keras.callbacks.EarlyStopping(monitor='val_loss', patience=20)\n",
        "\n",
        "\n",
        "#histories = []\n",
        "#for i in range(len(models)):\n",
        "#  m = models[i]\n",
        "#  history_m = m.fit(\n",
        "#      X_train, Y_train, \n",
        "#      epochs = EPOCH_COUNT, batch_size = BATCH_SIZE, verbose=1, \n",
        "#      validation_data=(X_val, Y_val),\n",
        "#      callbacks=[early_stop, checkpointer_list[i]])\n",
        "#    \n",
        "#  histories.append(history_m)\n",
        "\n",
        "i = 1\n",
        "m = models[i]\n",
        "history_m = m.fit(X_train, Y_train,\n",
        "                  epochs = EPOCH_COUNT, \n",
        "                  batch_size = BATCH_SIZE, \n",
        "                  verbose=2, \n",
        "                  validation_data=(X_val, Y_val),\n",
        "                  callbacks=[early_stop, checkpointer_list[i]])"
      ],
      "execution_count": 103,
      "outputs": [
        {
          "output_type": "stream",
          "text": [
            "\n",
            "Epoch 03410: val_loss did not improve from 0.00227\n",
            " - 1s - loss: 0.0027 - mean_absolute_error: 0.0232 - mean_squared_error: 8.5087e-04 - val_loss: 0.0023 - val_mean_absolute_error: 0.0165 - val_mean_squared_error: 4.4104e-04\n",
            "Epoch 3411/10000\n",
            "\n",
            "Epoch 03411: val_loss improved from 0.00227 to 0.00227, saving model to /content/gdrive/My Drive/deep_learning/_data/numpy_arrays/d_fx_multi_fcst_wavelet_nn_1.hdf5\n",
            " - 1s - loss: 0.0027 - mean_absolute_error: 0.0232 - mean_squared_error: 8.5129e-04 - val_loss: 0.0023 - val_mean_absolute_error: 0.0165 - val_mean_squared_error: 4.3993e-04\n",
            "Epoch 3412/10000\n",
            "\n",
            "Epoch 03412: val_loss improved from 0.00227 to 0.00227, saving model to /content/gdrive/My Drive/deep_learning/_data/numpy_arrays/d_fx_multi_fcst_wavelet_nn_1.hdf5\n",
            " - 1s - loss: 0.0027 - mean_absolute_error: 0.0232 - mean_squared_error: 8.5126e-04 - val_loss: 0.0023 - val_mean_absolute_error: 0.0165 - val_mean_squared_error: 4.3998e-04\n",
            "Epoch 3413/10000\n",
            "\n",
            "Epoch 03413: val_loss did not improve from 0.00227\n",
            " - 1s - loss: 0.0027 - mean_absolute_error: 0.0232 - mean_squared_error: 8.5161e-04 - val_loss: 0.0023 - val_mean_absolute_error: 0.0164 - val_mean_squared_error: 4.4048e-04\n",
            "Epoch 3414/10000\n",
            "\n",
            "Epoch 03414: val_loss did not improve from 0.00227\n",
            " - 1s - loss: 0.0027 - mean_absolute_error: 0.0232 - mean_squared_error: 8.5122e-04 - val_loss: 0.0023 - val_mean_absolute_error: 0.0164 - val_mean_squared_error: 4.4296e-04\n",
            "Epoch 3415/10000\n",
            "\n",
            "Epoch 03415: val_loss improved from 0.00227 to 0.00227, saving model to /content/gdrive/My Drive/deep_learning/_data/numpy_arrays/d_fx_multi_fcst_wavelet_nn_1.hdf5\n",
            " - 1s - loss: 0.0027 - mean_absolute_error: 0.0232 - mean_squared_error: 8.5159e-04 - val_loss: 0.0023 - val_mean_absolute_error: 0.0164 - val_mean_squared_error: 4.3915e-04\n",
            "Epoch 3416/10000\n",
            "\n",
            "Epoch 03416: val_loss improved from 0.00227 to 0.00227, saving model to /content/gdrive/My Drive/deep_learning/_data/numpy_arrays/d_fx_multi_fcst_wavelet_nn_1.hdf5\n",
            " - 1s - loss: 0.0027 - mean_absolute_error: 0.0232 - mean_squared_error: 8.5082e-04 - val_loss: 0.0023 - val_mean_absolute_error: 0.0165 - val_mean_squared_error: 4.3976e-04\n",
            "Epoch 3417/10000\n"
          ],
          "name": "stdout"
        },
        {
          "output_type": "error",
          "ename": "KeyboardInterrupt",
          "evalue": "ignored",
          "traceback": [
            "\u001b[0;31m---------------------------------------------------------------------------\u001b[0m",
            "\u001b[0;31mKeyboardInterrupt\u001b[0m                         Traceback (most recent call last)",
            "\u001b[0;32m<ipython-input-103-1aaa200aba5f>\u001b[0m in \u001b[0;36m<module>\u001b[0;34m()\u001b[0m\n\u001b[1;32m     21\u001b[0m                   \u001b[0mverbose\u001b[0m\u001b[0;34m=\u001b[0m\u001b[0;36m2\u001b[0m\u001b[0;34m,\u001b[0m\u001b[0;34m\u001b[0m\u001b[0;34m\u001b[0m\u001b[0m\n\u001b[1;32m     22\u001b[0m                   \u001b[0mvalidation_data\u001b[0m\u001b[0;34m=\u001b[0m\u001b[0;34m(\u001b[0m\u001b[0mX_val\u001b[0m\u001b[0;34m,\u001b[0m \u001b[0mY_val\u001b[0m\u001b[0;34m)\u001b[0m\u001b[0;34m,\u001b[0m\u001b[0;34m\u001b[0m\u001b[0;34m\u001b[0m\u001b[0m\n\u001b[0;32m---> 23\u001b[0;31m                   callbacks=[early_stop, checkpointer_list[i]])\n\u001b[0m",
            "\u001b[0;32m/usr/local/lib/python3.6/dist-packages/tensorflow/python/keras/engine/training.py\u001b[0m in \u001b[0;36mfit\u001b[0;34m(self, x, y, batch_size, epochs, verbose, callbacks, validation_split, validation_data, shuffle, class_weight, sample_weight, initial_epoch, steps_per_epoch, validation_steps, max_queue_size, workers, use_multiprocessing, **kwargs)\u001b[0m\n\u001b[1;32m    878\u001b[0m           \u001b[0minitial_epoch\u001b[0m\u001b[0;34m=\u001b[0m\u001b[0minitial_epoch\u001b[0m\u001b[0;34m,\u001b[0m\u001b[0;34m\u001b[0m\u001b[0;34m\u001b[0m\u001b[0m\n\u001b[1;32m    879\u001b[0m           \u001b[0msteps_per_epoch\u001b[0m\u001b[0;34m=\u001b[0m\u001b[0msteps_per_epoch\u001b[0m\u001b[0;34m,\u001b[0m\u001b[0;34m\u001b[0m\u001b[0;34m\u001b[0m\u001b[0m\n\u001b[0;32m--> 880\u001b[0;31m           validation_steps=validation_steps)\n\u001b[0m\u001b[1;32m    881\u001b[0m \u001b[0;34m\u001b[0m\u001b[0m\n\u001b[1;32m    882\u001b[0m   def evaluate(self,\n",
            "\u001b[0;32m/usr/local/lib/python3.6/dist-packages/tensorflow/python/keras/engine/training_arrays.py\u001b[0m in \u001b[0;36mmodel_iteration\u001b[0;34m(model, inputs, targets, sample_weights, batch_size, epochs, verbose, callbacks, val_inputs, val_targets, val_sample_weights, shuffle, initial_epoch, steps_per_epoch, validation_steps, mode, validation_in_fit, **kwargs)\u001b[0m\n\u001b[1;32m    327\u001b[0m \u001b[0;34m\u001b[0m\u001b[0m\n\u001b[1;32m    328\u001b[0m         \u001b[0;31m# Get outputs.\u001b[0m\u001b[0;34m\u001b[0m\u001b[0;34m\u001b[0m\u001b[0;34m\u001b[0m\u001b[0m\n\u001b[0;32m--> 329\u001b[0;31m         \u001b[0mbatch_outs\u001b[0m \u001b[0;34m=\u001b[0m \u001b[0mf\u001b[0m\u001b[0;34m(\u001b[0m\u001b[0mins_batch\u001b[0m\u001b[0;34m)\u001b[0m\u001b[0;34m\u001b[0m\u001b[0;34m\u001b[0m\u001b[0m\n\u001b[0m\u001b[1;32m    330\u001b[0m         \u001b[0;32mif\u001b[0m \u001b[0;32mnot\u001b[0m \u001b[0misinstance\u001b[0m\u001b[0;34m(\u001b[0m\u001b[0mbatch_outs\u001b[0m\u001b[0;34m,\u001b[0m \u001b[0mlist\u001b[0m\u001b[0;34m)\u001b[0m\u001b[0;34m:\u001b[0m\u001b[0;34m\u001b[0m\u001b[0;34m\u001b[0m\u001b[0m\n\u001b[1;32m    331\u001b[0m           \u001b[0mbatch_outs\u001b[0m \u001b[0;34m=\u001b[0m \u001b[0;34m[\u001b[0m\u001b[0mbatch_outs\u001b[0m\u001b[0;34m]\u001b[0m\u001b[0;34m\u001b[0m\u001b[0;34m\u001b[0m\u001b[0m\n",
            "\u001b[0;32m/usr/local/lib/python3.6/dist-packages/tensorflow/python/keras/backend.py\u001b[0m in \u001b[0;36m__call__\u001b[0;34m(self, inputs)\u001b[0m\n\u001b[1;32m   3074\u001b[0m \u001b[0;34m\u001b[0m\u001b[0m\n\u001b[1;32m   3075\u001b[0m     fetched = self._callable_fn(*array_vals,\n\u001b[0;32m-> 3076\u001b[0;31m                                 run_metadata=self.run_metadata)\n\u001b[0m\u001b[1;32m   3077\u001b[0m     \u001b[0mself\u001b[0m\u001b[0;34m.\u001b[0m\u001b[0m_call_fetch_callbacks\u001b[0m\u001b[0;34m(\u001b[0m\u001b[0mfetched\u001b[0m\u001b[0;34m[\u001b[0m\u001b[0;34m-\u001b[0m\u001b[0mlen\u001b[0m\u001b[0;34m(\u001b[0m\u001b[0mself\u001b[0m\u001b[0;34m.\u001b[0m\u001b[0m_fetches\u001b[0m\u001b[0;34m)\u001b[0m\u001b[0;34m:\u001b[0m\u001b[0;34m]\u001b[0m\u001b[0;34m)\u001b[0m\u001b[0;34m\u001b[0m\u001b[0;34m\u001b[0m\u001b[0m\n\u001b[1;32m   3078\u001b[0m     return nest.pack_sequence_as(self._outputs_structure,\n",
            "\u001b[0;32m/usr/local/lib/python3.6/dist-packages/tensorflow/python/client/session.py\u001b[0m in \u001b[0;36m__call__\u001b[0;34m(self, *args, **kwargs)\u001b[0m\n\u001b[1;32m   1437\u001b[0m           ret = tf_session.TF_SessionRunCallable(\n\u001b[1;32m   1438\u001b[0m               \u001b[0mself\u001b[0m\u001b[0;34m.\u001b[0m\u001b[0m_session\u001b[0m\u001b[0;34m.\u001b[0m\u001b[0m_session\u001b[0m\u001b[0;34m,\u001b[0m \u001b[0mself\u001b[0m\u001b[0;34m.\u001b[0m\u001b[0m_handle\u001b[0m\u001b[0;34m,\u001b[0m \u001b[0margs\u001b[0m\u001b[0;34m,\u001b[0m \u001b[0mstatus\u001b[0m\u001b[0;34m,\u001b[0m\u001b[0;34m\u001b[0m\u001b[0;34m\u001b[0m\u001b[0m\n\u001b[0;32m-> 1439\u001b[0;31m               run_metadata_ptr)\n\u001b[0m\u001b[1;32m   1440\u001b[0m         \u001b[0;32mif\u001b[0m \u001b[0mrun_metadata\u001b[0m\u001b[0;34m:\u001b[0m\u001b[0;34m\u001b[0m\u001b[0;34m\u001b[0m\u001b[0m\n\u001b[1;32m   1441\u001b[0m           \u001b[0mproto_data\u001b[0m \u001b[0;34m=\u001b[0m \u001b[0mtf_session\u001b[0m\u001b[0;34m.\u001b[0m\u001b[0mTF_GetBuffer\u001b[0m\u001b[0;34m(\u001b[0m\u001b[0mrun_metadata_ptr\u001b[0m\u001b[0;34m)\u001b[0m\u001b[0;34m\u001b[0m\u001b[0;34m\u001b[0m\u001b[0m\n",
            "\u001b[0;31mKeyboardInterrupt\u001b[0m: "
          ]
        }
      ]
    },
    {
      "metadata": {
        "id": "e_OdY7oIGsTj",
        "colab_type": "code",
        "outputId": "8a892d48-e462-440d-9132-160550f5e4ae",
        "colab": {
          "base_uri": "https://localhost:8080/",
          "height": 51
        }
      },
      "cell_type": "code",
      "source": [
        "histories.append(history_m)\n",
        "histories"
      ],
      "execution_count": 104,
      "outputs": [
        {
          "output_type": "execute_result",
          "data": {
            "text/plain": [
              "[<tensorflow.python.keras.callbacks.History at 0x7fe5e9759550>,\n",
              " <tensorflow.python.keras.callbacks.History at 0x7fe5e9759550>]"
            ]
          },
          "metadata": {
            "tags": []
          },
          "execution_count": 104
        }
      ]
    },
    {
      "metadata": {
        "id": "zP9DnUcdHqDD",
        "colab_type": "code",
        "outputId": "48929a5e-9cfa-4e88-f2d3-24a90521ae16",
        "colab": {
          "base_uri": "https://localhost:8080/",
          "height": 34
        }
      },
      "cell_type": "code",
      "source": [
        "histories[0].history.keys()"
      ],
      "execution_count": 78,
      "outputs": [
        {
          "output_type": "execute_result",
          "data": {
            "text/plain": [
              "dict_keys(['loss', 'mean_absolute_error', 'mean_squared_error', 'val_loss', 'val_mean_absolute_error', 'val_mean_squared_error'])"
            ]
          },
          "metadata": {
            "tags": []
          },
          "execution_count": 78
        }
      ]
    },
    {
      "metadata": {
        "id": "DT6uuSPSZ_hb",
        "colab_type": "text"
      },
      "cell_type": "markdown",
      "source": [
        "# Plot"
      ]
    },
    {
      "metadata": {
        "id": "kwDly9jkHNpM",
        "colab_type": "code",
        "colab": {}
      },
      "cell_type": "code",
      "source": [
        "def plot_history(history):\n",
        "  dim = [0.0, 0.03]\n",
        "  hist = pd.DataFrame(history.history)\n",
        "  hist['epoch'] = history.epoch\n",
        "  \n",
        "  plt.figure()\n",
        "  plt.xlabel('Epoch')\n",
        "  plt.ylabel('Mean Abs Error [MPG]')\n",
        "  plt.plot(hist['epoch'], hist['mean_absolute_error'],\n",
        "           label='Train Error')\n",
        "  plt.plot(hist['epoch'], hist['val_mean_absolute_error'],\n",
        "           label = 'Val Error')\n",
        "  plt.ylim(dim)\n",
        "  plt.legend()\n",
        "  \n",
        "  plt.figure()\n",
        "  plt.xlabel('Epoch')\n",
        "  plt.ylabel('Mean Square Error [$MPG^2$]')\n",
        "  plt.plot(hist['epoch'], hist['mean_squared_error'],\n",
        "           label='Train Error')\n",
        "  plt.plot(hist['epoch'], hist['val_mean_squared_error'],\n",
        "           label = 'Val Error')\n",
        "  plt.ylim(dim)\n",
        "  plt.legend()\n",
        "  \n",
        "  plt.figure()\n",
        "  plt.xlabel('Epoch')\n",
        "  plt.ylabel('Loss')\n",
        "  plt.plot(hist['epoch'], hist['loss'],\n",
        "           label='Train loss')\n",
        "  plt.plot(hist['epoch'], hist['val_loss'],\n",
        "           label = 'Val loss')\n",
        "  plt.ylim(dim)\n",
        "  plt.legend()\n",
        "  plt.show()"
      ],
      "execution_count": 0,
      "outputs": []
    },
    {
      "metadata": {
        "id": "Rv3KesovaFGi",
        "colab_type": "code",
        "outputId": "c8d321b2-e2b9-451b-8eec-c3115995710d",
        "colab": {
          "base_uri": "https://localhost:8080/",
          "height": 1061
        }
      },
      "cell_type": "code",
      "source": [
        "plot_history(histories[0])"
      ],
      "execution_count": 109,
      "outputs": [
        {
          "output_type": "display_data",
          "data": {
            "image/png": "[encoded data removed]",
            "text/plain": [
              "<Figure size 576x396 with 1 Axes>"
            ]
          },
          "metadata": {
            "tags": []
          }
        },
        {
          "output_type": "display_data",
          "data": {
            "image/png": "[encoded data removed]",
            "text/plain": [
              "<Figure size 576x396 with 1 Axes>"
            ]
          },
          "metadata": {
            "tags": []
          }
        },
        {
          "output_type": "display_data",
          "data": {
            "image/png": "[encoded data removed]",
            "text/plain": [
              "<Figure size 576x396 with 1 Axes>"
            ]
          },
          "metadata": {
            "tags": []
          }
        }
      ]
    },
    {
      "metadata": {
        "id": "GDLr04XfwCIj",
        "colab_type": "code",
        "outputId": "e3e441ea-98a8-4301-9631-802205613c06",
        "colab": {
          "base_uri": "https://localhost:8080/",
          "height": 51
        }
      },
      "cell_type": "code",
      "source": [
        "r = X_test\n",
        "t = Y_test\n",
        "#print(\"r0:\"+str(r[0]))\n",
        "print(\"t0:\"+str(t[0]))\n",
        "print(\"i:\"+str(i))\n",
        "pred = models[i].predict(r)"
      ],
      "execution_count": 81,
      "outputs": [
        {
          "output_type": "stream",
          "text": [
            "t0:1.1267\n",
            "i:0\n"
          ],
          "name": "stdout"
        }
      ]
    },
    {
      "metadata": {
        "id": "s4B1wqTaozsN",
        "colab_type": "code",
        "outputId": "c88fc9f7-0498-4013-d299-5d042a2390d5",
        "colab": {
          "base_uri": "https://localhost:8080/",
          "height": 51
        }
      },
      "cell_type": "code",
      "source": [
        "models[i].evaluate(X_test, Y_test, batch_size=BATCH_SIZE)"
      ],
      "execution_count": 82,
      "outputs": [
        {
          "output_type": "stream",
          "text": [
            "\r32/32 [==============================] - 0s 123us/sample - loss: 0.0037 - mean_absolute_error: 0.0056 - mean_squared_error: 4.9803e-05\n"
          ],
          "name": "stdout"
        },
        {
          "output_type": "execute_result",
          "data": {
            "text/plain": [
              "[0.0037122785579413176, 0.0055806637, 4.9802857e-05]"
            ]
          },
          "metadata": {
            "tags": []
          },
          "execution_count": 82
        }
      ]
    },
    {
      "metadata": {
        "id": "SCtq6yMct6WF",
        "colab_type": "code",
        "outputId": "d1fbdf4a-cc4e-427c-dde6-fd1fb913224c",
        "colab": {
          "base_uri": "https://localhost:8080/",
          "height": 119
        }
      },
      "cell_type": "code",
      "source": [
        "k = len(X_test) - 10\n",
        "print(pred[k]/pred[k+1])\n",
        "print(t[k]/t[k+1])\n",
        "print(\"t[k-1]: \"+str(t[k-1]))\n",
        "print(\"t[k]:\"+str(t[k]))\n",
        "print(\"p[k+1] improved: \"+str(t[k]*(pred[k]/pred[k+1])))\n",
        "print(\"t[k+1]: \"+str(t[k+1]))"
      ],
      "execution_count": 102,
      "outputs": [
        {
          "output_type": "stream",
          "text": [
            "[1.0003779]\n",
            "0.9989415189203494\n",
            "t[k-1]: 1.1304\n",
            "t[k]:1.1325\n",
            "p[k+1] improved: [1.132928]\n",
            "t[k+1]: 1.1337\n"
          ],
          "name": "stdout"
        }
      ]
    }
  ]
}