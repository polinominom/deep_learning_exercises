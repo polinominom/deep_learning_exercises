{
  "nbformat": 4,
  "nbformat_minor": 0,
  "metadata": {
    "colab": {
      "name": "light_mode_multivariate_forecast.ipynb",
      "version": "0.3.2",
      "provenance": [],
      "collapsed_sections": [
        "6kQeHngFS_Gh",
        "jwUXFAOHTkXQ",
        "TmXT_cdkT9If",
        "qxlngNqkT2J1",
        "p0nFLdZ3T3-i",
        "xQNMMnwTUJvl",
        "iq8ptRKIUUpx"
      ]
    },
    "kernelspec": {
      "name": "python3",
      "display_name": "Python 3"
    },
    "accelerator": "GPU"
  },
  "cells": [
    {
      "metadata": {
        "id": "ayFqeHW3TBk1",
        "colab_type": "text"
      },
      "cell_type": "markdown",
      "source": [
        "A different approach; completly unnecessary one.\n",
        "\n",
        "One year: train 2017\n",
        "One year: validation 2018\n",
        "One year: test 2019"
      ]
    },
    {
      "metadata": {
        "id": "6kQeHngFS_Gh",
        "colab_type": "text"
      },
      "cell_type": "markdown",
      "source": [
        "# Imports"
      ]
    },
    {
      "metadata": {
        "id": "Ly3LOxwjS-ac",
        "colab_type": "code",
        "colab": {}
      },
      "cell_type": "code",
      "source": [
        "from __future__ import print_function, absolute_import, division\n",
        "\n",
        "# general imports for deep learning\n",
        "import tensorflow as tf\n",
        "from tensorflow.keras import layers\n",
        "import numpy as np\n",
        "from sklearn.preprocessing import StandardScaler\n",
        "from sklearn import preprocessing\n",
        "\n",
        "# data read\n",
        "import pandas as pd\n",
        "\n",
        "# plot\n",
        "import matplotlib.pyplot as plt\n",
        "from tensorflow.keras.utils import plot_model\n",
        "\n",
        "# json and pretty print\n",
        "import json\n",
        "import pprint\n",
        "\n",
        "# to persist the numpy arrays data\n",
        "import h5py\n",
        "\n",
        "# handle logging\n",
        "tf.logging.set_verbosity(tf.logging.INFO)"
      ],
      "execution_count": 0,
      "outputs": []
    },
    {
      "metadata": {
        "id": "Asov_dLATW4H",
        "colab_type": "code",
        "outputId": "0c56ee33-c3e5-473d-cd37-0e6338a33803",
        "colab": {
          "base_uri": "https://localhost:8080/",
          "height": 34
        }
      },
      "cell_type": "code",
      "source": [
        "from google.colab import drive\n",
        "drive.mount('/content/gdrive')"
      ],
      "execution_count": 2,
      "outputs": [
        {
          "output_type": "stream",
          "text": [
            "Drive already mounted at /content/gdrive; to attempt to forcibly remount, call drive.mount(\"/content/gdrive\", force_remount=True).\n"
          ],
          "name": "stdout"
        }
      ]
    },
    {
      "metadata": {
        "id": "-WylLFeeTY28",
        "colab_type": "code",
        "outputId": "c0d016d4-b4c9-4f92-c7af-43d6e801936a",
        "colab": {
          "base_uri": "https://localhost:8080/",
          "height": 85
        }
      },
      "cell_type": "code",
      "source": [
        "# check if correct place\n",
        "!ls '/content/gdrive/My Drive/deep_learning/_data/forex/minutely/'"
      ],
      "execution_count": 3,
      "outputs": [
        {
          "output_type": "stream",
          "text": [
            " EURUSD_M1_2013.csv   EURUSD_M1_2017.csv\t   EURUSD_M1_201901.csv\n",
            " EURUSD_M1_2014.csv  'EURUSD_M1_2018 (1).gsheet'   EURUSD_M1_201902.csv\n",
            " EURUSD_M1_2015.csv   EURUSD_M1_2018.csv\n",
            " EURUSD_M1_2016.csv   EURUSD_M1_2018.gsheet\n"
          ],
          "name": "stdout"
        }
      ]
    },
    {
      "metadata": {
        "id": "jwUXFAOHTkXQ",
        "colab_type": "text"
      },
      "cell_type": "markdown",
      "source": [
        "# Data"
      ]
    },
    {
      "metadata": {
        "id": "XgEQHn_VTlfT",
        "colab_type": "code",
        "colab": {}
      },
      "cell_type": "code",
      "source": [
        "# initialize file names\n",
        "data_folder = \"/content/gdrive/My Drive/deep_learning/_data/forex/minutely/\"\n",
        "data_filenames = []\n",
        "data_filenames.append(\"EURUSD_M1_2016.csv\")\n",
        "data_filenames.append(\"EURUSD_M1_2017.csv\")\n",
        "data_filenames.append(\"EURUSD_M1_2018.csv\")"
      ],
      "execution_count": 0,
      "outputs": []
    },
    {
      "metadata": {
        "id": "UpxGMrEUTrIr",
        "colab_type": "code",
        "colab": {}
      },
      "cell_type": "code",
      "source": [
        "# get train data that will be both validation and train data in training mode\n",
        "data_1 = pd.read_csv(data_folder+data_filenames[0], header=None)\n",
        "data_2 = pd.read_csv(data_folder+data_filenames[1], header=None)\n",
        "data_3 = pd.read_csv(data_folder+data_filenames[2], header=None)\n",
        "\n",
        "# Get all data as list\n",
        "data_list = [data_1, data_2, data_3]"
      ],
      "execution_count": 0,
      "outputs": []
    },
    {
      "metadata": {
        "id": "TmXT_cdkT9If",
        "colab_type": "text"
      },
      "cell_type": "markdown",
      "source": [
        "## Data Functions"
      ]
    },
    {
      "metadata": {
        "id": "D9j3Bf7LT_Cv",
        "colab_type": "code",
        "colab": {}
      },
      "cell_type": "code",
      "source": [
        "# Tries to concatenate a list of arrays into one array\n",
        "def get_concatenated_dataset(d_list):\n",
        "  result_data = d_list[0]\n",
        "  for d in d_list[1:]:\n",
        "    result_data = np.concatenate((result_data, d), axis=None)\n",
        "    \n",
        "  return result_data\n",
        "\n",
        "# Tries to check if the concatenated list is correct.\n",
        "def concatenate_length_check(d_list, concatenated):\n",
        "  print(\"----------- length check -----------\")\n",
        "  total_length = 0\n",
        "  for d in d_list:  \n",
        "    total_length += len(d)\n",
        "    print(\"length: \" +str(len(d)))\n",
        "\n",
        "  print(\"concatenated length \"+str(len(concatenated)))\n",
        "  if(len(concatenated) == total_length):\n",
        "    print(\"concatenated length -----------> CORRECT\")\n",
        "  else:\n",
        "    print(\"concatenated length -----------> WRONG\")"
      ],
      "execution_count": 0,
      "outputs": []
    },
    {
      "metadata": {
        "id": "qxlngNqkT2J1",
        "colab_type": "text"
      },
      "cell_type": "markdown",
      "source": [
        "## Train data(and validation)"
      ]
    },
    {
      "metadata": {
        "id": "zlI9q2GUTxcK",
        "colab_type": "code",
        "outputId": "af55b7f8-8321-4fd7-a374-36843b9d090c",
        "colab": {
          "base_uri": "https://localhost:8080/",
          "height": 425
        }
      },
      "cell_type": "code",
      "source": [
        "# Get OPEN, HIGH, LOW, CLOSE columns in all data\n",
        "open_data_list=[]\n",
        "high_data_list=[]\n",
        "low_data_list=[]\n",
        "close_data_list=[]\n",
        "\n",
        "for d in data_list:\n",
        "  open_data_list.append(d[2].as_matrix())\n",
        "  high_data_list.append(d[3].as_matrix())\n",
        "  low_data_list.append(d[4].as_matrix())\n",
        "  close_data_list.append(d[5].as_matrix())\n",
        "  \n",
        "# And CONCATENATE all of them\n",
        "all_open_data = get_concatenated_dataset(open_data_list)\n",
        "all_high_data = get_concatenated_dataset(high_data_list)\n",
        "all_low_data = get_concatenated_dataset(low_data_list)\n",
        "all_close_data = get_concatenated_dataset(close_data_list)\n",
        "  \n",
        "# CHECK IF CONCATENATION IS SUCCESSUL.\n",
        "concatenate_length_check(open_data_list, all_open_data)\n",
        "concatenate_length_check(high_data_list, all_high_data)\n",
        "concatenate_length_check(low_data_list, all_low_data)\n",
        "concatenate_length_check(close_data_list, all_close_data)"
      ],
      "execution_count": 0,
      "outputs": [
        {
          "output_type": "stream",
          "text": [
            "----------- length check -----------\n",
            "length: 372679\n",
            "length: 371635\n",
            "length: 372607\n",
            "concatenated length 1116921\n",
            "concatenated length -----------> CORRECT\n",
            "----------- length check -----------\n",
            "length: 372679\n",
            "length: 371635\n",
            "length: 372607\n",
            "concatenated length 1116921\n",
            "concatenated length -----------> CORRECT\n",
            "----------- length check -----------\n",
            "length: 372679\n",
            "length: 371635\n",
            "length: 372607\n",
            "concatenated length 1116921\n",
            "concatenated length -----------> CORRECT\n",
            "----------- length check -----------\n",
            "length: 372679\n",
            "length: 371635\n",
            "length: 372607\n",
            "concatenated length 1116921\n",
            "concatenated length -----------> CORRECT\n"
          ],
          "name": "stdout"
        }
      ]
    },
    {
      "metadata": {
        "id": "p0nFLdZ3T3-i",
        "colab_type": "text"
      },
      "cell_type": "markdown",
      "source": [
        "## Test data"
      ]
    },
    {
      "metadata": {
        "id": "B0Pqvb_bTxVj",
        "colab_type": "code",
        "outputId": "2eef4b4d-c200-4bd1-f690-0a8b11d2a46f",
        "colab": {
          "base_uri": "https://localhost:8080/",
          "height": 357
        }
      },
      "cell_type": "code",
      "source": [
        "# Train Data Has been gathered.\n",
        "# Now Get Test data\n",
        "\n",
        "\n",
        "raw_test_data_filename = \"EURUSD_M1_201901.csv\"\n",
        "raw_test_data_1 = pd.read_csv(data_folder+raw_test_data_filename, header=None)\n",
        "#raw_test_data_1 = raw_test_data_1[5].as_matrix()#get CLOSE column\n",
        "\n",
        "raw_test_data_filename = \"EURUSD_M1_201902.csv\"\n",
        "raw_test_data_2 = pd.read_csv(data_folder+raw_test_data_filename, header=None)\n",
        "#raw_test_data_2 = raw_test_data_2[5].as_matrix()#get only CLOSE column\n",
        "\n",
        "d_list = [raw_test_data_1, raw_test_data_2]\n",
        "\n",
        "open_test_data_list=[]\n",
        "high_test_data_list=[]\n",
        "low_test_data_list=[]\n",
        "close_test_data_list=[]\n",
        "\n",
        "for d in d_list:\n",
        "  open_test_data_list.append(d[2].as_matrix())\n",
        "  high_test_data_list.append(d[3].as_matrix())\n",
        "  low_test_data_list.append(d[4].as_matrix())\n",
        "  close_test_data_list.append(d[5].as_matrix())\n",
        "  \n",
        "# And CONCATENATE test of them\n",
        "test_open_data = get_concatenated_dataset(open_test_data_list)\n",
        "test_high_data = get_concatenated_dataset(high_test_data_list)\n",
        "test_low_data = get_concatenated_dataset(low_test_data_list)\n",
        "test_close_data = get_concatenated_dataset(close_test_data_list)\n",
        "  \n",
        "# CHECK IF CONCATENATION IS SUCCESSUL.\n",
        "concatenate_length_check(open_test_data_list, test_open_data)\n",
        "concatenate_length_check(high_test_data_list, test_high_data)\n",
        "concatenate_length_check(low_test_data_list, test_low_data)\n",
        "concatenate_length_check(close_test_data_list, test_close_data)"
      ],
      "execution_count": 0,
      "outputs": [
        {
          "output_type": "stream",
          "text": [
            "----------- length check -----------\n",
            "length: 32085\n",
            "length: 22613\n",
            "concatenated length 54698\n",
            "concatenated length -----------> CORRECT\n",
            "----------- length check -----------\n",
            "length: 32085\n",
            "length: 22613\n",
            "concatenated length 54698\n",
            "concatenated length -----------> CORRECT\n",
            "----------- length check -----------\n",
            "length: 32085\n",
            "length: 22613\n",
            "concatenated length 54698\n",
            "concatenated length -----------> CORRECT\n",
            "----------- length check -----------\n",
            "length: 32085\n",
            "length: 22613\n",
            "concatenated length 54698\n",
            "concatenated length -----------> CORRECT\n"
          ],
          "name": "stdout"
        }
      ]
    },
    {
      "metadata": {
        "id": "xQNMMnwTUJvl",
        "colab_type": "text"
      },
      "cell_type": "markdown",
      "source": [
        "# General Values"
      ]
    },
    {
      "metadata": {
        "id": "BT5o3sW_UGmS",
        "colab_type": "code",
        "colab": {}
      },
      "cell_type": "code",
      "source": [
        "# How many of the past points were involved.\n",
        "WINDOW = 60\n",
        "\n",
        "# How many of data type is used as multivariate(open,high,low,close = 4)\n",
        "EMB_SIZE = 4\n",
        "\n",
        "# While training how many points should be ignored\n",
        "STEP = 1\n",
        "\n",
        "# Determines which time should be predictied\n",
        "#(1 = 1 min further is predicted)\n",
        "#(60 = 1 hour further is predicted)\n",
        "FORECAST = 30\n",
        "\n",
        "# Determines if the data is to be load.\n",
        "LOAD = True"
      ],
      "execution_count": 0,
      "outputs": []
    },
    {
      "metadata": {
        "id": "z5Tezcp8UQy4",
        "colab_type": "text"
      },
      "cell_type": "markdown",
      "source": [
        "# Construct Data"
      ]
    },
    {
      "metadata": {
        "id": "iq8ptRKIUUpx",
        "colab_type": "text"
      },
      "cell_type": "markdown",
      "source": [
        "## Functions"
      ]
    },
    {
      "metadata": {
        "id": "rTmIv79FUWAZ",
        "colab_type": "code",
        "colab": {}
      },
      "cell_type": "code",
      "source": [
        "def get_data_chunks(d_list, length, window=30, forecast=1, step=1):\n",
        "  X = []\n",
        "  Y = []\n",
        "  for i in range(0, length, step):\n",
        "    try:\n",
        "      # Get windowed data\n",
        "      o = d_list[0][i:i+WINDOW] # open\n",
        "      h = d_list[1][i:i+WINDOW] # high\n",
        "      l = d_list[2][i:i+WINDOW] # low\n",
        "      c = d_list[3][i:i+WINDOW] # close\n",
        "\n",
        "      # Normalize data\n",
        "      o = (np.array(o) - np.mean(o)) / np.std(o)\n",
        "      h = (np.array(h) - np.mean(h)) / np.std(h)\n",
        "      l = (np.array(l) - np.mean(l)) / np.std(l)\n",
        "      c = (np.array(c) - np.mean(c)) / np.std(c)\n",
        "\n",
        "      # x_i\n",
        "      x_i = d_list[3][i:i+WINDOW]\n",
        "      y_i = d_list[3][i+WINDOW+FORECAST]\n",
        "\n",
        "      last_close = x_i[-1]\n",
        "      next_close = y_i\n",
        "      if last_close < next_close:\n",
        "        y_i = [1, 0]\n",
        "      else:\n",
        "        y_i = [0, 1]\n",
        "\n",
        "      x_i = np.column_stack((o,h,l,c))\n",
        "    except Exception as e:\n",
        "      print(e)\n",
        "      # break when the limit is not enough\n",
        "      break\n",
        "\n",
        "    X.append(x_i)\n",
        "    Y.append(y_i)\n",
        "  print(\"data chunks are ready...\")\n",
        "  return [X, Y]\n",
        "\n",
        "def get_train_validation(X, y, percentage=0.8):\n",
        "    iXPercentage = int(len(X) * percentage) \n",
        "    iYPercentage = int(len(y) * percentage)\n",
        "    X_train = X[0:iXPercentage]\n",
        "    Y_train = y[0:iYPercentage]\n",
        "    \n",
        "    #X_train, Y_train = shuffle_in_unison(X_train, Y_train)\n",
        "\n",
        "    X_test = X[iXPercentage:]\n",
        "    Y_test = y[iYPercentage:]\n",
        "\n",
        "    return X_train, X_test, Y_train, Y_test"
      ],
      "execution_count": 0,
      "outputs": []
    },
    {
      "metadata": {
        "id": "hJbfI3c1Ubn1",
        "colab_type": "text"
      },
      "cell_type": "markdown",
      "source": [
        "## Hand Construction"
      ]
    },
    {
      "metadata": {
        "id": "McYtXKJEY0go",
        "colab_type": "code",
        "colab": {}
      },
      "cell_type": "code",
      "source": [
        "def save_data(x,y,x_test,y_test):\n",
        "  # Save X, Y and X_test, Y_test\n",
        "  save_folder = \"/content/gdrive/My Drive/deep_learning/_data/numpy_arrays/\"\n",
        "  filename=\"light_forex_multivariate_forecasting_2\"\n",
        "\n",
        "  # Save Y\n",
        "  y_h5 = h5py.File(save_folder+filename+\"_y.h5\", 'w')\n",
        "  y_h5.create_dataset('dataset_Y', data=y)\n",
        "  y_h5.close()\n",
        "  print(\"Saving Y Completed\")\n",
        "\n",
        "  # Save X\n",
        "  x_h5 = h5py.File(save_folder+filename+\"_x.h5\", 'w')\n",
        "  x_h5.create_dataset('dataset_X', data=x)\n",
        "  x_h5.close()\n",
        "  print(\"Saving X Completed\")\n",
        "\n",
        "  # Save X_test\n",
        "  x_test_h5 = h5py.File(save_folder+filename+\"_x_test.h5\", 'w')\n",
        "  x_test_h5.create_dataset('dataset_X_test', data=x_test)\n",
        "  x_test_h5.close()\n",
        "  print(\"Saving X_test Completed\")\n",
        "\n",
        "  # Save Y_test\n",
        "  y_test_h5 = h5py.File(save_folder+filename+\"_y_test.h5\", 'w')\n",
        "  y_test_h5.create_dataset('dataset_Y_test', data=y_test)\n",
        "  y_test_h5.close()\n",
        "  print(\"Saving Y_test Completed\")\n"
      ],
      "execution_count": 0,
      "outputs": []
    },
    {
      "metadata": {
        "id": "KkpP1xM0YbDa",
        "colab_type": "code",
        "colab": {}
      },
      "cell_type": "code",
      "source": [
        "def get_data(should_loaded, d_list, d_list_test, train_len, test_len):\n",
        "  if not should_loaded:\n",
        "    # PROCESSES WHOLE TRAIN SET\n",
        "    X, Y = get_data_chunks(d_list, train_len, window=WINDOW, forecast=FORECAST, step=STEP)\n",
        "    X_test, Y_test = get_data_chunks(d_list_test, test_len, window=WINDOW, forecast=FORECAST, step=STEP)\n",
        "\n",
        "    X = np.array(X)\n",
        "    Y = np.array(Y)\n",
        "    X_test = np.array(X_test)\n",
        "    Y_test = np.array(Y_test)\n",
        "  else:\n",
        "    save_folder = \"/content/gdrive/My Drive/deep_learning/_data/numpy_arrays/\"\n",
        "    filename=\"light_forex_multivariate_forecasting_2\"\n",
        "    \n",
        "    h5f = h5py.File(save_folder+filename+\"_x.h5\",'r')\n",
        "    X = h5f['dataset_X'][:]\n",
        "    h5f.close()\n",
        "\n",
        "    h5f = h5py.File(save_folder+filename+\"_y.h5\",'r')\n",
        "    Y = h5f['dataset_Y'][:]\n",
        "    h5f.close()\n",
        "\n",
        "    h5f = h5py.File(save_folder+filename+\"_x_test.h5\",'r')\n",
        "    X_test = h5f['dataset_X_test'][:]\n",
        "    h5f.close()\n",
        "\n",
        "    h5f = h5py.File(save_folder+filename+\"_y_test.h5\",'r')\n",
        "    Y_test = h5f['dataset_Y_test'][:]\n",
        "    h5f.close()\n",
        "    pass\n",
        "  \n",
        "  return [X, Y, X_test, Y_test]\n",
        "\n"
      ],
      "execution_count": 0,
      "outputs": []
    },
    {
      "metadata": {
        "id": "HSAL11aCZoHG",
        "colab_type": "code",
        "colab": {}
      },
      "cell_type": "code",
      "source": [
        "LOAD = True"
      ],
      "execution_count": 0,
      "outputs": []
    },
    {
      "metadata": {
        "id": "7zd8Y3gjXJjF",
        "colab_type": "code",
        "colab": {}
      },
      "cell_type": "code",
      "source": [
        "if not LOAD:\n",
        "  d_list = [all_open_data, all_high_data, all_low_data, all_close_data]\n",
        "  d_list_test = [test_open_data, test_high_data, test_low_data, test_close_data]\n",
        "\n",
        "  X, Y, X_test, Y_test = get_data(should_loaded=LOAD, \n",
        "                                d_list=d_list, \n",
        "                                d_list_test=d_list_test, \n",
        "                                train_len=len(all_close_data), \n",
        "                                test_len=len(test_close_data))\n",
        "else:\n",
        "    X, Y, X_test, Y_test = get_data(should_loaded=LOAD, \n",
        "                                d_list=None, \n",
        "                                d_list_test=None, \n",
        "                                train_len=0, \n",
        "                                test_len=0)\n",
        "if not LOAD:\n",
        "  save_data(X, Y, X_test, Y_test)\n"
      ],
      "execution_count": 0,
      "outputs": []
    },
    {
      "metadata": {
        "id": "hMj1G2E5d4VJ",
        "colab_type": "code",
        "colab": {}
      },
      "cell_type": "code",
      "source": [
        "if not LOAD:\n",
        "  save_data(X, Y, X_test, Y_test)"
      ],
      "execution_count": 0,
      "outputs": []
    },
    {
      "metadata": {
        "id": "0qQCiAQ5Ukoh",
        "colab_type": "code",
        "outputId": "ace236c4-4f08-48bd-c3a6-8c1117b2f56c",
        "colab": {
          "base_uri": "https://localhost:8080/",
          "height": 170
        }
      },
      "cell_type": "code",
      "source": [
        "X_train, X_val, Y_train, Y_val = get_train_validation(X, Y)\n",
        "print(\"OLD_shapes\")\n",
        "print(X.shape)\n",
        "print(Y.shape)\n",
        "print(\"*\"*40)\n",
        "print(\"New Shapes\")\n",
        "print(X_train.shape)\n",
        "print(Y_train.shape)\n",
        "print(X_val.shape)\n",
        "print(Y_val.shape)"
      ],
      "execution_count": 10,
      "outputs": [
        {
          "output_type": "stream",
          "text": [
            "OLD_shapes\n",
            "(1116831, 60, 4)\n",
            "(1116831, 2)\n",
            "****************************************\n",
            "New Shapes\n",
            "(893464, 60, 4)\n",
            "(893464, 2)\n",
            "(223367, 60, 4)\n",
            "(223367, 2)\n"
          ],
          "name": "stdout"
        }
      ]
    },
    {
      "metadata": {
        "id": "dKUeDBh1UoBN",
        "colab_type": "code",
        "outputId": "b5f9d3bb-e651-44ad-9692-2574658a4bd6",
        "colab": {
          "base_uri": "https://localhost:8080/",
          "height": 68
        }
      },
      "cell_type": "code",
      "source": [
        "# reshape data\n",
        "X_train = np.reshape(X_train, (X_train.shape[0], X_train.shape[1], EMB_SIZE))\n",
        "X_test = np.reshape(X_test, (X_test.shape[0], X_test.shape[1], EMB_SIZE))\n",
        "X_val = np.reshape(X_val, (X_val.shape[0], X_val.shape[1], EMB_SIZE))\n",
        "print(X_train.shape)\n",
        "print(X_val.shape)\n",
        "print(X_test.shape)\n",
        "\n"
      ],
      "execution_count": 11,
      "outputs": [
        {
          "output_type": "stream",
          "text": [
            "(893464, 60, 4)\n",
            "(223367, 60, 4)\n",
            "(54608, 60, 4)\n"
          ],
          "name": "stdout"
        }
      ]
    },
    {
      "metadata": {
        "id": "Okbnxk2v2RsX",
        "colab_type": "code",
        "colab": {}
      },
      "cell_type": "code",
      "source": [
        "def get_smooth_size(old_size):\n",
        "  old_len = len(str(old_size))\n",
        "  reduction_power = np.power(10,old_len-1)\n",
        "  new_size = old_size - old_size%reduction_power\n",
        "  print(\"Smoothed from: [\"+str(old_size)+\"] to: [\"+str(new_size)+\"]\")\n",
        "  return new_size"
      ],
      "execution_count": 0,
      "outputs": []
    },
    {
      "metadata": {
        "id": "njyEG2I72NND",
        "colab_type": "code",
        "colab": {
          "base_uri": "https://localhost:8080/",
          "height": 119
        },
        "outputId": "9a37dd94-e8d4-465f-cb77-e743a1e5c15c"
      },
      "cell_type": "code",
      "source": [
        "# MAKE THE DATA SMOOT FOR LSTM MODEL\n",
        "X_train = X_train[:get_smooth_size(X_train.shape[0])] \n",
        "X_test = X_test[:get_smooth_size(X_test.shape[0])] \n",
        "X_val = X_val[:get_smooth_size(X_val.shape[0])] \n",
        "\n",
        "Y_train = Y_train[:get_smooth_size(Y_train.shape[0])] \n",
        "Y_test = Y_test[:get_smooth_size(Y_test.shape[0])] \n",
        "Y_val = Y_val[:get_smooth_size(Y_val.shape[0])] "
      ],
      "execution_count": 13,
      "outputs": [
        {
          "output_type": "stream",
          "text": [
            "Smoothed from: [893464] to: [800000]\n",
            "Smoothed from: [54608] to: [50000]\n",
            "Smoothed from: [223367] to: [200000]\n",
            "Smoothed from: [893464] to: [800000]\n",
            "Smoothed from: [54608] to: [50000]\n",
            "Smoothed from: [223367] to: [200000]\n"
          ],
          "name": "stdout"
        }
      ]
    },
    {
      "metadata": {
        "id": "dw5UxIcIUuWH",
        "colab_type": "text"
      },
      "cell_type": "markdown",
      "source": [
        "# Model"
      ]
    },
    {
      "metadata": {
        "id": "2U56D-HMV17P",
        "colab_type": "code",
        "colab": {}
      },
      "cell_type": "code",
      "source": [
        "BATCH_SIZE=1000"
      ],
      "execution_count": 0,
      "outputs": []
    },
    {
      "metadata": {
        "id": "UfUwe2SZUveM",
        "colab_type": "code",
        "colab": {}
      },
      "cell_type": "code",
      "source": [
        "def build_lstm_model(tensor_shape, batch_size=10000, hidden_neurons=100):\n",
        "  model = tf.keras.Sequential()\n",
        "  model.add(layers.LSTM(hidden_neurons, \n",
        "                        batch_input_shape=(batch_size, tensor_shape[0], tensor_shape[1]), \n",
        "                        return_sequences=True))\n",
        "  \n",
        "  model.add(layers.LSTM(hidden_neurons, return_sequences=True))\n",
        "  model.add(layers.LSTM(hidden_neurons))\n",
        "  \n",
        "  model.add(layers.Flatten())\n",
        "  model.add(layers.Dense(64,activation='relu'))\n",
        "  model.add(layers.BatchNormalization())\n",
        "  model.add(layers.Dense(32,activation='relu'))\n",
        "  model.add(layers.Dense(2, activation='softmax'))\n",
        "  return model\n",
        "  "
      ],
      "execution_count": 0,
      "outputs": []
    },
    {
      "metadata": {
        "id": "LrSW49w2UyBk",
        "colab_type": "code",
        "outputId": "fb35293c-8430-4bda-8a41-5846ae7e4920",
        "colab": {
          "base_uri": "https://localhost:8080/",
          "height": 496
        }
      },
      "cell_type": "code",
      "source": [
        "print(X_train.shape)\n",
        "model = build_lstm_model(tensor_shape=(X_train.shape[1], X_train.shape[2]), batch_size=BATCH_SIZE)\n",
        "model.summary()"
      ],
      "execution_count": 16,
      "outputs": [
        {
          "output_type": "stream",
          "text": [
            "(800000, 60, 4)\n",
            "WARNING:tensorflow:From /usr/local/lib/python3.6/dist-packages/tensorflow/python/ops/resource_variable_ops.py:435: colocate_with (from tensorflow.python.framework.ops) is deprecated and will be removed in a future version.\n",
            "Instructions for updating:\n",
            "Colocations handled automatically by placer.\n",
            "_________________________________________________________________\n",
            "Layer (type)                 Output Shape              Param #   \n",
            "=================================================================\n",
            "lstm (LSTM)                  (1000, 60, 100)           42000     \n",
            "_________________________________________________________________\n",
            "lstm_1 (LSTM)                (1000, 60, 100)           80400     \n",
            "_________________________________________________________________\n",
            "lstm_2 (LSTM)                (1000, 100)               80400     \n",
            "_________________________________________________________________\n",
            "flatten (Flatten)            (1000, 100)               0         \n",
            "_________________________________________________________________\n",
            "dense (Dense)                (1000, 64)                6464      \n",
            "_________________________________________________________________\n",
            "batch_normalization_v1 (Batc (1000, 64)                256       \n",
            "_________________________________________________________________\n",
            "dense_1 (Dense)              (1000, 32)                2080      \n",
            "_________________________________________________________________\n",
            "dense_2 (Dense)              (1000, 2)                 66        \n",
            "=================================================================\n",
            "Total params: 211,666\n",
            "Trainable params: 211,538\n",
            "Non-trainable params: 128\n",
            "_________________________________________________________________\n"
          ],
          "name": "stdout"
        }
      ]
    },
    {
      "metadata": {
        "id": "u28brebkVCBY",
        "colab_type": "code",
        "colab": {}
      },
      "cell_type": "code",
      "source": [
        "#OPTIMIZER\n",
        "opt = 'adam'\n",
        "loss_func = tf.keras.losses.categorical_crossentropy\n",
        "metric =  tf.keras.metrics.categorical_accuracy\n",
        "\n",
        "#tf.train.AdamOptimizer(learning_rate=0.002)\n",
        "\n",
        "# CALLBACKS\n",
        "save_folder = \"/content/gdrive/My Drive/deep_learning/_data/numpy_arrays/\"\n",
        "fp = save_folder+\"fx_light_multivariate_model_lstm.hdf5\"\n",
        "reduce_lr = tf.keras.callbacks.ReduceLROnPlateau(monitor='val_loss', factor=0.9, patience=30, min_lr=0.000001, verbose=1)\n",
        "checkpointer = tf.keras.callbacks.ModelCheckpoint(filepath=fp, verbose=1, save_best_only=True)\n",
        "\n",
        "#COMPILE\n",
        "model.compile(optimizer=opt, \n",
        "              loss=loss_func,\n",
        "              metrics=[metric])\n"
      ],
      "execution_count": 0,
      "outputs": []
    },
    {
      "metadata": {
        "id": "u8Lo_tCW8_Gi",
        "colab_type": "text"
      },
      "cell_type": "markdown",
      "source": [
        "## TRAINING"
      ]
    },
    {
      "metadata": {
        "id": "IbWNhWR5WQb3",
        "colab_type": "code",
        "outputId": "494aeb7c-354f-47e3-b8ef-19d6f717b5ea",
        "colab": {
          "base_uri": "https://localhost:8080/",
          "height": 445
        }
      },
      "cell_type": "code",
      "source": [
        "# TRAIN\n",
        "# epochs= 100 normally\n",
        "# batch_size = 128\n",
        "history = model.fit(\n",
        "            X_train, \n",
        "            Y_train, \n",
        "            epochs = 5,\n",
        "            batch_size = BATCH_SIZE, \n",
        "            verbose=1, \n",
        "            validation_data=(X_val, Y_val),\n",
        "            callbacks=[reduce_lr, checkpointer],\n",
        "            shuffle=True)"
      ],
      "execution_count": 18,
      "outputs": [
        {
          "output_type": "stream",
          "text": [
            "Train on 800000 samples, validate on 200000 samples\n",
            "WARNING:tensorflow:From /usr/local/lib/python3.6/dist-packages/tensorflow/python/ops/math_ops.py:3066: to_int32 (from tensorflow.python.ops.math_ops) is deprecated and will be removed in a future version.\n",
            "Instructions for updating:\n",
            "Use tf.cast instead.\n",
            "Epoch 1/5\n",
            "799000/800000 [============================>.] - ETA: 0s - loss: 0.6939 - categorical_accuracy: 0.5118\n",
            "Epoch 00001: val_loss improved from inf to 0.69288, saving model to /content/gdrive/My Drive/deep_learning/_data/numpy_arrays/fx_light_multivariate_model_lstm.hdf5\n",
            "800000/800000 [==============================] - 527s 659us/sample - loss: 0.6939 - categorical_accuracy: 0.5117 - val_loss: 0.6929 - val_categorical_accuracy: 0.5137\n",
            "Epoch 2/5\n",
            "799000/800000 [============================>.] - ETA: 0s - loss: 0.6930 - categorical_accuracy: 0.5150\n",
            "Epoch 00002: val_loss did not improve from 0.69288\n",
            "800000/800000 [==============================] - 532s 665us/sample - loss: 0.6930 - categorical_accuracy: 0.5150 - val_loss: 0.6941 - val_categorical_accuracy: 0.5146\n",
            "Epoch 3/5\n",
            "799000/800000 [============================>.] - ETA: 0s - loss: 0.6927 - categorical_accuracy: 0.5155\n",
            "Epoch 00003: val_loss did not improve from 0.69288\n",
            "800000/800000 [==============================] - 522s 653us/sample - loss: 0.6927 - categorical_accuracy: 0.5155 - val_loss: 0.7614 - val_categorical_accuracy: 0.5045\n",
            "Epoch 4/5\n",
            "799000/800000 [============================>.] - ETA: 0s - loss: 0.6919 - categorical_accuracy: 0.5208\n",
            "Epoch 00004: val_loss did not improve from 0.69288\n",
            "800000/800000 [==============================] - 523s 654us/sample - loss: 0.6919 - categorical_accuracy: 0.5208 - val_loss: 0.6964 - val_categorical_accuracy: 0.5000\n",
            "Epoch 5/5\n",
            "799000/800000 [============================>.] - ETA: 0s - loss: 0.6919 - categorical_accuracy: 0.5207\n",
            "Epoch 00005: val_loss did not improve from 0.69288\n",
            "800000/800000 [==============================] - 517s 647us/sample - loss: 0.6919 - categorical_accuracy: 0.5208 - val_loss: 0.7213 - val_categorical_accuracy: 0.5045\n"
          ],
          "name": "stdout"
        }
      ]
    },
    {
      "metadata": {
        "id": "eUkOLToQ80Nz",
        "colab_type": "text"
      },
      "cell_type": "markdown",
      "source": [
        "## PLOT TRAINING PROCESS"
      ]
    },
    {
      "metadata": {
        "id": "UJXMwieA77dn",
        "colab_type": "code",
        "colab": {
          "base_uri": "https://localhost:8080/",
          "height": 735
        },
        "outputId": "9e139b59-bcff-4b88-8046-d73c2099861d"
      },
      "cell_type": "code",
      "source": [
        "# PLOT\n",
        "plt.figure()\n",
        "plt.plot(history.history['loss'])\n",
        "plt.plot(history.history['val_loss'])\n",
        "plt.title('model loss')\n",
        "plt.ylabel('loss')\n",
        "plt.xlabel('epoch')\n",
        "plt.legend(['train', 'val'], loc='best')\n",
        "plt.show()\n",
        "\n",
        "plt.figure()\n",
        "plt.plot(history.history['categorical_accuracy'])\n",
        "plt.plot(history.history['val_categorical_accuracy'])\n",
        "plt.title('model accuracy')\n",
        "plt.ylabel('accuracy')\n",
        "plt.xlabel('epoch')\n",
        "plt.legend(['train', 'val'], loc='best')\n",
        "plt.show()\n",
        "\n",
        "# BAD PLOTS 5 epoch not enough and different models should be tried. more time needed."
      ],
      "execution_count": 23,
      "outputs": [
        {
          "output_type": "display_data",
          "data": {
            "image/png": "[encoded data removed]",
            "text/plain": [
              "<Figure size 576x396 with 1 Axes>"
            ]
          },
          "metadata": {
            "tags": []
          }
        },
        {
          "output_type": "display_data",
          "data": {
            "image/png": "[encoded data removed]",
            "text/plain": [
              "<Figure size 576x396 with 1 Axes>"
            ]
          },
          "metadata": {
            "tags": []
          }
        }
      ]
    },
    {
      "metadata": {
        "id": "s8u4UTpOAcbu",
        "colab_type": "text"
      },
      "cell_type": "markdown",
      "source": [
        "# TEST"
      ]
    },
    {
      "metadata": {
        "id": "QRFRFj10Adk8",
        "colab_type": "code",
        "colab": {}
      },
      "cell_type": "code",
      "source": [
        "# UNCOMMENT IF YOU WANT TO USE BEST WEGHT THAT WORKED WITH VALIDATION\n",
        "#model.load_weights(fp)"
      ],
      "execution_count": 0,
      "outputs": []
    },
    {
      "metadata": {
        "id": "CXxQuV_TAeLL",
        "colab_type": "code",
        "colab": {
          "base_uri": "https://localhost:8080/",
          "height": 136
        },
        "outputId": "e5eabc6c-95ec-420d-f353-2d11692c90f0"
      },
      "cell_type": "code",
      "source": [
        "pred = model.predict(np.array(X_test))\n",
        "pred"
      ],
      "execution_count": 24,
      "outputs": [
        {
          "output_type": "execute_result",
          "data": {
            "text/plain": [
              "array([[0.3836675 , 0.6163325 ],\n",
              "       [0.37029028, 0.6297097 ],\n",
              "       [0.36404863, 0.63595134],\n",
              "       ...,\n",
              "       [0.37455106, 0.62544894],\n",
              "       [0.36581534, 0.63418466],\n",
              "       [0.36840826, 0.63159174]], dtype=float32)"
            ]
          },
          "metadata": {
            "tags": []
          },
          "execution_count": 24
        }
      ]
    },
    {
      "metadata": {
        "id": "CvuI3B6cAhqy",
        "colab_type": "code",
        "colab": {
          "base_uri": "https://localhost:8080/",
          "height": 51
        },
        "outputId": "7f0de8a1-f1c2-4471-91b7-b48cfbc39916"
      },
      "cell_type": "code",
      "source": [
        "model.evaluate(X_test,Y_test,batch_size=BATCH_SIZE)"
      ],
      "execution_count": 25,
      "outputs": [
        {
          "output_type": "stream",
          "text": [
            "50000/50000 [==============================] - 14s 272us/sample - loss: 0.7183 - categorical_accuracy: 0.5121\n"
          ],
          "name": "stdout"
        },
        {
          "output_type": "execute_result",
          "data": {
            "text/plain": [
              "[0.7183356189727783, 0.51208]"
            ]
          },
          "metadata": {
            "tags": []
          },
          "execution_count": 25
        }
      ]
    },
    {
      "metadata": {
        "id": "nZxc07_BAmyP",
        "colab_type": "code",
        "colab": {}
      },
      "cell_type": "code",
      "source": [
        ""
      ],
      "execution_count": 0,
      "outputs": []
    }
  ]
}